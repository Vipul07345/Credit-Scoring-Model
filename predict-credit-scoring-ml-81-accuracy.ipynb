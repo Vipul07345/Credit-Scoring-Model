{
 "cells": [
  {
   "cell_type": "markdown",
   "id": "6de623c4",
   "metadata": {
    "_cell_guid": "b1076dfc-b9ad-4769-8c92-a6c4dae69d19",
    "_uuid": "8f2839f25d086af736a60e9eeb907d3b93b6e0e5",
    "papermill": {
     "duration": 0.011462,
     "end_time": "2024-07-05T09:42:35.547109",
     "exception": false,
     "start_time": "2024-07-05T09:42:35.535647",
     "status": "completed"
    },
    "tags": []
   },
   "source": [
    "<h1>Credit Scoring Model</h1>"
   ]
  },
  {
   "cell_type": "markdown",
   "id": "330ea9a1",
   "metadata": {
    "papermill": {
     "duration": 0.010886,
     "end_time": "2024-07-05T09:42:35.569192",
     "exception": false,
     "start_time": "2024-07-05T09:42:35.558306",
     "status": "completed"
    },
    "tags": []
   },
   "source": [
    "<h3>Develop a credit scoring model to predict the creditworthiness of individuals based on historical financial data. Utilize classification algorithms and assess the model's accuracy.<h3>"
   ]
  },
  {
   "cell_type": "code",
   "execution_count": 1,
   "id": "2bb380b1",
   "metadata": {
    "execution": {
     "iopub.execute_input": "2024-07-05T09:42:35.592923Z",
     "iopub.status.busy": "2024-07-05T09:42:35.592534Z",
     "iopub.status.idle": "2024-07-05T09:42:36.558451Z",
     "shell.execute_reply": "2024-07-05T09:42:36.557366Z"
    },
    "papermill": {
     "duration": 0.980795,
     "end_time": "2024-07-05T09:42:36.561094",
     "exception": false,
     "start_time": "2024-07-05T09:42:35.580299",
     "status": "completed"
    },
    "tags": []
   },
   "outputs": [
    {
     "name": "stdout",
     "output_type": "stream",
     "text": [
      "/kaggle/input/bank-credit-scoring/bank.csv\n",
      "/kaggle/input/bank-credit-scoring/scoring.jpg\n"
     ]
    }
   ],
   "source": [
    "# This Python 3 environment comes with many helpful analytics libraries installed\n",
    "# It is defined by the kaggle/python Docker image: https://github.com/kaggle/docker-python\n",
    "# For example, here's several helpful packages to load\n",
    "\n",
    "import numpy as np # linear algebra\n",
    "import pandas as pd # data processing, CSV file I/O (e.g. pd.read_csv)\n",
    "\n",
    "# Input data files are available in the read-only \"../input/\" directory\n",
    "# For example, running this (by clicking run or pressing Shift+Enter) will list all files under the input directory\n",
    "\n",
    "import os\n",
    "for dirname, _, filenames in os.walk('/kaggle/input'):\n",
    "    for filename in filenames:\n",
    "        print(os.path.join(dirname, filename))\n",
    "\n",
    "# You can write up to 20GB to the current directory (/kaggle/working/) that gets preserved as output when you create a version using \"Save & Run All\" \n",
    "# You can also write temporary files to /kaggle/temp/, but they won't be saved outside of the current session"
   ]
  },
  {
   "cell_type": "code",
   "execution_count": 2,
   "id": "8420de6c",
   "metadata": {
    "execution": {
     "iopub.execute_input": "2024-07-05T09:42:36.586926Z",
     "iopub.status.busy": "2024-07-05T09:42:36.585940Z",
     "iopub.status.idle": "2024-07-05T09:42:39.672272Z",
     "shell.execute_reply": "2024-07-05T09:42:39.671177Z"
    },
    "papermill": {
     "duration": 3.102521,
     "end_time": "2024-07-05T09:42:39.674970",
     "exception": false,
     "start_time": "2024-07-05T09:42:36.572449",
     "status": "completed"
    },
    "tags": []
   },
   "outputs": [],
   "source": [
    "#Importing The Required Libraries\n",
    "import pandas as pd\n",
    "import seaborn as sns\n",
    "from sklearn import preprocessing\n",
    "import numpy as np\n",
    "import matplotlib.pyplot as plt\n",
    "from sklearn.feature_selection import SelectKBest\n",
    "from sklearn.preprocessing import LabelEncoder\n",
    "from sklearn.preprocessing import MinMaxScaler\n",
    "from sklearn.model_selection import train_test_split\n",
    "from sklearn.neighbors import KNeighborsClassifier\n",
    "from sklearn.svm import SVC\n",
    "from sklearn.naive_bayes import GaussianNB\n",
    "from sklearn.tree import DecisionTreeClassifier\n",
    "from sklearn.ensemble import RandomForestClassifier\n",
    "from sklearn.ensemble import AdaBoostClassifier\n",
    "from sklearn.ensemble import GradientBoostingClassifier\n",
    "import plotly.express as px\n",
    "from sklearn import svm\n",
    "from sklearn.metrics import f1_score\n",
    "from sklearn.linear_model import LogisticRegression\n",
    "from xgboost import XGBClassifier\n",
    "import itertools\n",
    "from imblearn.over_sampling import RandomOverSampler\n",
    "import warnings\n",
    "warnings.filterwarnings(\"ignore\")\n",
    "from sklearn.metrics import classification_report,ConfusionMatrixDisplay,f1_score,confusion_matrix, accuracy_score"
   ]
  },
  {
   "cell_type": "code",
   "execution_count": 3,
   "id": "9a04ac07",
   "metadata": {
    "execution": {
     "iopub.execute_input": "2024-07-05T09:42:39.701547Z",
     "iopub.status.busy": "2024-07-05T09:42:39.700938Z",
     "iopub.status.idle": "2024-07-05T09:42:39.712147Z",
     "shell.execute_reply": "2024-07-05T09:42:39.710888Z"
    },
    "papermill": {
     "duration": 0.026485,
     "end_time": "2024-07-05T09:42:39.714582",
     "exception": false,
     "start_time": "2024-07-05T09:42:39.688097",
     "status": "completed"
    },
    "tags": []
   },
   "outputs": [],
   "source": [
    "def plot_confusion_matrix(cm, classes,\n",
    "                          normalize=False,\n",
    "                          title='Confusion matrix',\n",
    "                          cmap=plt.cm.Blues):\n",
    "    \"\"\"\n",
    "    This function prints and plots the confusion matrix.\n",
    "    Normalization can be applied by setting `normalize=True`.\n",
    "    \"\"\"\n",
    "    if normalize:\n",
    "        cm = cm.astype('float') / cm.sum(axis=1)[:, np.newaxis]\n",
    "        print(\"Normalized confusion matrix\")\n",
    "    else:\n",
    "        print('Confusion matrix, without normalization')\n",
    "\n",
    "    print(cm)\n",
    "\n",
    "    plt.imshow(cm, interpolation='nearest', cmap=cmap)\n",
    "    plt.title(title)\n",
    "    plt.colorbar()\n",
    "    tick_marks = np.arange(len(classes))\n",
    "    plt.xticks(tick_marks, classes, rotation=45)\n",
    "    plt.yticks(tick_marks, classes)\n",
    "\n",
    "    fmt = '.2f' if normalize else 'd'\n",
    "    thresh = cm.max() / 2.\n",
    "    for i, j in itertools.product(range(cm.shape[0]), range(cm.shape[1])):\n",
    "        plt.text(j, i, format(cm[i, j], fmt),\n",
    "                 horizontalalignment=\"center\",\n",
    "                 color=\"white\" if cm[i, j] > thresh else \"black\")\n",
    "\n",
    "    plt.tight_layout()\n",
    "    plt.ylabel('True label')\n",
    "    plt.xlabel('Predicted label')"
   ]
  },
  {
   "cell_type": "code",
   "execution_count": 4,
   "id": "5d167c4d",
   "metadata": {
    "execution": {
     "iopub.execute_input": "2024-07-05T09:42:39.738869Z",
     "iopub.status.busy": "2024-07-05T09:42:39.738488Z",
     "iopub.status.idle": "2024-07-05T09:42:39.792248Z",
     "shell.execute_reply": "2024-07-05T09:42:39.790757Z"
    },
    "papermill": {
     "duration": 0.068879,
     "end_time": "2024-07-05T09:42:39.794771",
     "exception": false,
     "start_time": "2024-07-05T09:42:39.725892",
     "status": "completed"
    },
    "tags": []
   },
   "outputs": [
    {
     "data": {
      "text/html": [
       "<div>\n",
       "<style scoped>\n",
       "    .dataframe tbody tr th:only-of-type {\n",
       "        vertical-align: middle;\n",
       "    }\n",
       "\n",
       "    .dataframe tbody tr th {\n",
       "        vertical-align: top;\n",
       "    }\n",
       "\n",
       "    .dataframe thead th {\n",
       "        text-align: right;\n",
       "    }\n",
       "</style>\n",
       "<table border=\"1\" class=\"dataframe\">\n",
       "  <thead>\n",
       "    <tr style=\"text-align: right;\">\n",
       "      <th></th>\n",
       "      <th>age</th>\n",
       "      <th>job</th>\n",
       "      <th>marital</th>\n",
       "      <th>education</th>\n",
       "      <th>default</th>\n",
       "      <th>balance</th>\n",
       "      <th>housing</th>\n",
       "      <th>loan</th>\n",
       "      <th>contact</th>\n",
       "      <th>day</th>\n",
       "      <th>month</th>\n",
       "      <th>duration</th>\n",
       "      <th>campaign</th>\n",
       "      <th>pdays</th>\n",
       "      <th>previous</th>\n",
       "      <th>poutcome</th>\n",
       "      <th>y</th>\n",
       "    </tr>\n",
       "  </thead>\n",
       "  <tbody>\n",
       "    <tr>\n",
       "      <th>0</th>\n",
       "      <td>30</td>\n",
       "      <td>unemployed</td>\n",
       "      <td>married</td>\n",
       "      <td>primary</td>\n",
       "      <td>no</td>\n",
       "      <td>1787</td>\n",
       "      <td>no</td>\n",
       "      <td>no</td>\n",
       "      <td>cellular</td>\n",
       "      <td>19</td>\n",
       "      <td>oct</td>\n",
       "      <td>79</td>\n",
       "      <td>1</td>\n",
       "      <td>-1</td>\n",
       "      <td>0</td>\n",
       "      <td>unknown</td>\n",
       "      <td>no</td>\n",
       "    </tr>\n",
       "    <tr>\n",
       "      <th>1</th>\n",
       "      <td>33</td>\n",
       "      <td>services</td>\n",
       "      <td>married</td>\n",
       "      <td>secondary</td>\n",
       "      <td>no</td>\n",
       "      <td>4789</td>\n",
       "      <td>yes</td>\n",
       "      <td>yes</td>\n",
       "      <td>cellular</td>\n",
       "      <td>11</td>\n",
       "      <td>may</td>\n",
       "      <td>220</td>\n",
       "      <td>1</td>\n",
       "      <td>339</td>\n",
       "      <td>4</td>\n",
       "      <td>failure</td>\n",
       "      <td>no</td>\n",
       "    </tr>\n",
       "    <tr>\n",
       "      <th>2</th>\n",
       "      <td>35</td>\n",
       "      <td>management</td>\n",
       "      <td>single</td>\n",
       "      <td>tertiary</td>\n",
       "      <td>no</td>\n",
       "      <td>1350</td>\n",
       "      <td>yes</td>\n",
       "      <td>no</td>\n",
       "      <td>cellular</td>\n",
       "      <td>16</td>\n",
       "      <td>apr</td>\n",
       "      <td>185</td>\n",
       "      <td>1</td>\n",
       "      <td>330</td>\n",
       "      <td>1</td>\n",
       "      <td>failure</td>\n",
       "      <td>no</td>\n",
       "    </tr>\n",
       "    <tr>\n",
       "      <th>3</th>\n",
       "      <td>30</td>\n",
       "      <td>management</td>\n",
       "      <td>married</td>\n",
       "      <td>tertiary</td>\n",
       "      <td>no</td>\n",
       "      <td>1476</td>\n",
       "      <td>yes</td>\n",
       "      <td>yes</td>\n",
       "      <td>unknown</td>\n",
       "      <td>3</td>\n",
       "      <td>jun</td>\n",
       "      <td>199</td>\n",
       "      <td>4</td>\n",
       "      <td>-1</td>\n",
       "      <td>0</td>\n",
       "      <td>unknown</td>\n",
       "      <td>no</td>\n",
       "    </tr>\n",
       "    <tr>\n",
       "      <th>4</th>\n",
       "      <td>59</td>\n",
       "      <td>blue-collar</td>\n",
       "      <td>married</td>\n",
       "      <td>secondary</td>\n",
       "      <td>no</td>\n",
       "      <td>0</td>\n",
       "      <td>yes</td>\n",
       "      <td>no</td>\n",
       "      <td>unknown</td>\n",
       "      <td>5</td>\n",
       "      <td>may</td>\n",
       "      <td>226</td>\n",
       "      <td>1</td>\n",
       "      <td>-1</td>\n",
       "      <td>0</td>\n",
       "      <td>unknown</td>\n",
       "      <td>no</td>\n",
       "    </tr>\n",
       "  </tbody>\n",
       "</table>\n",
       "</div>"
      ],
      "text/plain": [
       "   age          job  marital  education default  balance housing loan  \\\n",
       "0   30   unemployed  married    primary      no     1787      no   no   \n",
       "1   33     services  married  secondary      no     4789     yes  yes   \n",
       "2   35   management   single   tertiary      no     1350     yes   no   \n",
       "3   30   management  married   tertiary      no     1476     yes  yes   \n",
       "4   59  blue-collar  married  secondary      no        0     yes   no   \n",
       "\n",
       "    contact  day month  duration  campaign  pdays  previous poutcome   y  \n",
       "0  cellular   19   oct        79         1     -1         0  unknown  no  \n",
       "1  cellular   11   may       220         1    339         4  failure  no  \n",
       "2  cellular   16   apr       185         1    330         1  failure  no  \n",
       "3   unknown    3   jun       199         4     -1         0  unknown  no  \n",
       "4   unknown    5   may       226         1     -1         0  unknown  no  "
      ]
     },
     "execution_count": 4,
     "metadata": {},
     "output_type": "execute_result"
    }
   ],
   "source": [
    "df=pd.read_csv(\"/kaggle/input/bank-credit-scoring/bank.csv\", sep=\";\")\n",
    "df.head()"
   ]
  },
  {
   "cell_type": "code",
   "execution_count": 5,
   "id": "682761f6",
   "metadata": {
    "execution": {
     "iopub.execute_input": "2024-07-05T09:42:39.821440Z",
     "iopub.status.busy": "2024-07-05T09:42:39.820355Z",
     "iopub.status.idle": "2024-07-05T09:42:39.827442Z",
     "shell.execute_reply": "2024-07-05T09:42:39.826200Z"
    },
    "papermill": {
     "duration": 0.022416,
     "end_time": "2024-07-05T09:42:39.829723",
     "exception": false,
     "start_time": "2024-07-05T09:42:39.807307",
     "status": "completed"
    },
    "tags": []
   },
   "outputs": [
    {
     "data": {
      "text/plain": [
       "(4521, 17)"
      ]
     },
     "execution_count": 5,
     "metadata": {},
     "output_type": "execute_result"
    }
   ],
   "source": [
    "df.shape"
   ]
  },
  {
   "cell_type": "markdown",
   "id": "25d62f7c",
   "metadata": {
    "papermill": {
     "duration": 0.011922,
     "end_time": "2024-07-05T09:42:39.853313",
     "exception": false,
     "start_time": "2024-07-05T09:42:39.841391",
     "status": "completed"
    },
    "tags": []
   },
   "source": [
    "# Preprocessing"
   ]
  },
  {
   "cell_type": "code",
   "execution_count": 6,
   "id": "f05c56d8",
   "metadata": {
    "execution": {
     "iopub.execute_input": "2024-07-05T09:42:39.879286Z",
     "iopub.status.busy": "2024-07-05T09:42:39.878864Z",
     "iopub.status.idle": "2024-07-05T09:42:39.892250Z",
     "shell.execute_reply": "2024-07-05T09:42:39.891202Z"
    },
    "papermill": {
     "duration": 0.028895,
     "end_time": "2024-07-05T09:42:39.894634",
     "exception": false,
     "start_time": "2024-07-05T09:42:39.865739",
     "status": "completed"
    },
    "tags": []
   },
   "outputs": [
    {
     "data": {
      "text/plain": [
       "age          0\n",
       "job          0\n",
       "marital      0\n",
       "education    0\n",
       "default      0\n",
       "balance      0\n",
       "housing      0\n",
       "loan         0\n",
       "contact      0\n",
       "day          0\n",
       "month        0\n",
       "duration     0\n",
       "campaign     0\n",
       "pdays        0\n",
       "previous     0\n",
       "poutcome     0\n",
       "y            0\n",
       "dtype: int64"
      ]
     },
     "execution_count": 6,
     "metadata": {},
     "output_type": "execute_result"
    }
   ],
   "source": [
    "df.isnull().sum()"
   ]
  },
  {
   "cell_type": "code",
   "execution_count": 7,
   "id": "ebfd6f25",
   "metadata": {
    "execution": {
     "iopub.execute_input": "2024-07-05T09:42:39.919915Z",
     "iopub.status.busy": "2024-07-05T09:42:39.919546Z",
     "iopub.status.idle": "2024-07-05T09:42:39.940738Z",
     "shell.execute_reply": "2024-07-05T09:42:39.939661Z"
    },
    "papermill": {
     "duration": 0.036623,
     "end_time": "2024-07-05T09:42:39.943036",
     "exception": false,
     "start_time": "2024-07-05T09:42:39.906413",
     "status": "completed"
    },
    "tags": []
   },
   "outputs": [
    {
     "data": {
      "text/plain": [
       "0"
      ]
     },
     "execution_count": 7,
     "metadata": {},
     "output_type": "execute_result"
    }
   ],
   "source": [
    "df.duplicated().sum()"
   ]
  },
  {
   "cell_type": "code",
   "execution_count": 8,
   "id": "f5d9b091",
   "metadata": {
    "execution": {
     "iopub.execute_input": "2024-07-05T09:42:39.969038Z",
     "iopub.status.busy": "2024-07-05T09:42:39.968627Z",
     "iopub.status.idle": "2024-07-05T09:42:40.005770Z",
     "shell.execute_reply": "2024-07-05T09:42:40.004219Z"
    },
    "papermill": {
     "duration": 0.054021,
     "end_time": "2024-07-05T09:42:40.008898",
     "exception": false,
     "start_time": "2024-07-05T09:42:39.954877",
     "status": "completed"
    },
    "tags": []
   },
   "outputs": [
    {
     "data": {
      "text/html": [
       "<div>\n",
       "<style scoped>\n",
       "    .dataframe tbody tr th:only-of-type {\n",
       "        vertical-align: middle;\n",
       "    }\n",
       "\n",
       "    .dataframe tbody tr th {\n",
       "        vertical-align: top;\n",
       "    }\n",
       "\n",
       "    .dataframe thead th {\n",
       "        text-align: right;\n",
       "    }\n",
       "</style>\n",
       "<table border=\"1\" class=\"dataframe\">\n",
       "  <thead>\n",
       "    <tr style=\"text-align: right;\">\n",
       "      <th></th>\n",
       "      <th>age</th>\n",
       "      <th>balance</th>\n",
       "      <th>day</th>\n",
       "      <th>duration</th>\n",
       "      <th>campaign</th>\n",
       "      <th>pdays</th>\n",
       "      <th>previous</th>\n",
       "    </tr>\n",
       "  </thead>\n",
       "  <tbody>\n",
       "    <tr>\n",
       "      <th>count</th>\n",
       "      <td>4521.000000</td>\n",
       "      <td>4521.000000</td>\n",
       "      <td>4521.000000</td>\n",
       "      <td>4521.000000</td>\n",
       "      <td>4521.000000</td>\n",
       "      <td>4521.000000</td>\n",
       "      <td>4521.000000</td>\n",
       "    </tr>\n",
       "    <tr>\n",
       "      <th>mean</th>\n",
       "      <td>41.170095</td>\n",
       "      <td>1422.657819</td>\n",
       "      <td>15.915284</td>\n",
       "      <td>263.961292</td>\n",
       "      <td>2.793630</td>\n",
       "      <td>39.766645</td>\n",
       "      <td>0.542579</td>\n",
       "    </tr>\n",
       "    <tr>\n",
       "      <th>std</th>\n",
       "      <td>10.576211</td>\n",
       "      <td>3009.638142</td>\n",
       "      <td>8.247667</td>\n",
       "      <td>259.856633</td>\n",
       "      <td>3.109807</td>\n",
       "      <td>100.121124</td>\n",
       "      <td>1.693562</td>\n",
       "    </tr>\n",
       "    <tr>\n",
       "      <th>min</th>\n",
       "      <td>19.000000</td>\n",
       "      <td>-3313.000000</td>\n",
       "      <td>1.000000</td>\n",
       "      <td>4.000000</td>\n",
       "      <td>1.000000</td>\n",
       "      <td>-1.000000</td>\n",
       "      <td>0.000000</td>\n",
       "    </tr>\n",
       "    <tr>\n",
       "      <th>25%</th>\n",
       "      <td>33.000000</td>\n",
       "      <td>69.000000</td>\n",
       "      <td>9.000000</td>\n",
       "      <td>104.000000</td>\n",
       "      <td>1.000000</td>\n",
       "      <td>-1.000000</td>\n",
       "      <td>0.000000</td>\n",
       "    </tr>\n",
       "    <tr>\n",
       "      <th>50%</th>\n",
       "      <td>39.000000</td>\n",
       "      <td>444.000000</td>\n",
       "      <td>16.000000</td>\n",
       "      <td>185.000000</td>\n",
       "      <td>2.000000</td>\n",
       "      <td>-1.000000</td>\n",
       "      <td>0.000000</td>\n",
       "    </tr>\n",
       "    <tr>\n",
       "      <th>75%</th>\n",
       "      <td>49.000000</td>\n",
       "      <td>1480.000000</td>\n",
       "      <td>21.000000</td>\n",
       "      <td>329.000000</td>\n",
       "      <td>3.000000</td>\n",
       "      <td>-1.000000</td>\n",
       "      <td>0.000000</td>\n",
       "    </tr>\n",
       "    <tr>\n",
       "      <th>max</th>\n",
       "      <td>87.000000</td>\n",
       "      <td>71188.000000</td>\n",
       "      <td>31.000000</td>\n",
       "      <td>3025.000000</td>\n",
       "      <td>50.000000</td>\n",
       "      <td>871.000000</td>\n",
       "      <td>25.000000</td>\n",
       "    </tr>\n",
       "  </tbody>\n",
       "</table>\n",
       "</div>"
      ],
      "text/plain": [
       "               age       balance          day     duration     campaign  \\\n",
       "count  4521.000000   4521.000000  4521.000000  4521.000000  4521.000000   \n",
       "mean     41.170095   1422.657819    15.915284   263.961292     2.793630   \n",
       "std      10.576211   3009.638142     8.247667   259.856633     3.109807   \n",
       "min      19.000000  -3313.000000     1.000000     4.000000     1.000000   \n",
       "25%      33.000000     69.000000     9.000000   104.000000     1.000000   \n",
       "50%      39.000000    444.000000    16.000000   185.000000     2.000000   \n",
       "75%      49.000000   1480.000000    21.000000   329.000000     3.000000   \n",
       "max      87.000000  71188.000000    31.000000  3025.000000    50.000000   \n",
       "\n",
       "             pdays     previous  \n",
       "count  4521.000000  4521.000000  \n",
       "mean     39.766645     0.542579  \n",
       "std     100.121124     1.693562  \n",
       "min      -1.000000     0.000000  \n",
       "25%      -1.000000     0.000000  \n",
       "50%      -1.000000     0.000000  \n",
       "75%      -1.000000     0.000000  \n",
       "max     871.000000    25.000000  "
      ]
     },
     "execution_count": 8,
     "metadata": {},
     "output_type": "execute_result"
    }
   ],
   "source": [
    "df.describe()"
   ]
  },
  {
   "cell_type": "code",
   "execution_count": 9,
   "id": "95898b0e",
   "metadata": {
    "execution": {
     "iopub.execute_input": "2024-07-05T09:42:40.040880Z",
     "iopub.status.busy": "2024-07-05T09:42:40.040477Z",
     "iopub.status.idle": "2024-07-05T09:42:40.065736Z",
     "shell.execute_reply": "2024-07-05T09:42:40.064198Z"
    },
    "papermill": {
     "duration": 0.044706,
     "end_time": "2024-07-05T09:42:40.068522",
     "exception": false,
     "start_time": "2024-07-05T09:42:40.023816",
     "status": "completed"
    },
    "tags": []
   },
   "outputs": [
    {
     "name": "stdout",
     "output_type": "stream",
     "text": [
      "<class 'pandas.core.frame.DataFrame'>\n",
      "RangeIndex: 4521 entries, 0 to 4520\n",
      "Data columns (total 17 columns):\n",
      " #   Column     Non-Null Count  Dtype \n",
      "---  ------     --------------  ----- \n",
      " 0   age        4521 non-null   int64 \n",
      " 1   job        4521 non-null   object\n",
      " 2   marital    4521 non-null   object\n",
      " 3   education  4521 non-null   object\n",
      " 4   default    4521 non-null   object\n",
      " 5   balance    4521 non-null   int64 \n",
      " 6   housing    4521 non-null   object\n",
      " 7   loan       4521 non-null   object\n",
      " 8   contact    4521 non-null   object\n",
      " 9   day        4521 non-null   int64 \n",
      " 10  month      4521 non-null   object\n",
      " 11  duration   4521 non-null   int64 \n",
      " 12  campaign   4521 non-null   int64 \n",
      " 13  pdays      4521 non-null   int64 \n",
      " 14  previous   4521 non-null   int64 \n",
      " 15  poutcome   4521 non-null   object\n",
      " 16  y          4521 non-null   object\n",
      "dtypes: int64(7), object(10)\n",
      "memory usage: 600.6+ KB\n"
     ]
    }
   ],
   "source": [
    "df.info()"
   ]
  },
  {
   "cell_type": "code",
   "execution_count": 10,
   "id": "a1fb5d72",
   "metadata": {
    "execution": {
     "iopub.execute_input": "2024-07-05T09:42:40.095643Z",
     "iopub.status.busy": "2024-07-05T09:42:40.095243Z",
     "iopub.status.idle": "2024-07-05T09:42:40.104241Z",
     "shell.execute_reply": "2024-07-05T09:42:40.103155Z"
    },
    "papermill": {
     "duration": 0.02537,
     "end_time": "2024-07-05T09:42:40.106913",
     "exception": false,
     "start_time": "2024-07-05T09:42:40.081543",
     "status": "completed"
    },
    "tags": []
   },
   "outputs": [
    {
     "data": {
      "text/plain": [
       "marital\n",
       "married     2797\n",
       "single      1196\n",
       "divorced     528\n",
       "Name: count, dtype: int64"
      ]
     },
     "execution_count": 10,
     "metadata": {},
     "output_type": "execute_result"
    }
   ],
   "source": [
    "df['marital'].value_counts()"
   ]
  },
  {
   "cell_type": "code",
   "execution_count": 11,
   "id": "325a110f",
   "metadata": {
    "execution": {
     "iopub.execute_input": "2024-07-05T09:42:40.141576Z",
     "iopub.status.busy": "2024-07-05T09:42:40.140773Z",
     "iopub.status.idle": "2024-07-05T09:42:40.380645Z",
     "shell.execute_reply": "2024-07-05T09:42:40.379341Z"
    },
    "papermill": {
     "duration": 0.259799,
     "end_time": "2024-07-05T09:42:40.383501",
     "exception": false,
     "start_time": "2024-07-05T09:42:40.123702",
     "status": "completed"
    },
    "tags": []
   },
   "outputs": [
    {
     "data": {
      "text/plain": [
       "<Axes: xlabel='marital', ylabel='count'>"
      ]
     },
     "execution_count": 11,
     "metadata": {},
     "output_type": "execute_result"
    },
    {
     "data": {
      "image/png": "[encoded data removed]",
      "text/plain": [
       "<Figure size 640x480 with 1 Axes>"
      ]
     },
     "metadata": {},
     "output_type": "display_data"
    }
   ],
   "source": [
    "sns.countplot(x='marital',data=df)"
   ]
  },
  {
   "cell_type": "code",
   "execution_count": 12,
   "id": "fcc30755",
   "metadata": {
    "execution": {
     "iopub.execute_input": "2024-07-05T09:42:40.410875Z",
     "iopub.status.busy": "2024-07-05T09:42:40.410486Z",
     "iopub.status.idle": "2024-07-05T09:42:40.561240Z",
     "shell.execute_reply": "2024-07-05T09:42:40.560070Z"
    },
    "papermill": {
     "duration": 0.16731,
     "end_time": "2024-07-05T09:42:40.563761",
     "exception": false,
     "start_time": "2024-07-05T09:42:40.396451",
     "status": "completed"
    },
    "tags": []
   },
   "outputs": [
    {
     "data": {
      "text/plain": [
       "<Axes: xlabel='housing', ylabel='count'>"
      ]
     },
     "execution_count": 12,
     "metadata": {},
     "output_type": "execute_result"
    },
    {
     "data": {
      "image/png": "[encoded data removed]",
      "text/plain": [
       "<Figure size 640x480 with 1 Axes>"
      ]
     },
     "metadata": {},
     "output_type": "display_data"
    }
   ],
   "source": [
    "sns.countplot(x='housing',data=df)"
   ]
  },
  {
   "cell_type": "code",
   "execution_count": 13,
   "id": "fe21396f",
   "metadata": {
    "execution": {
     "iopub.execute_input": "2024-07-05T09:42:40.591914Z",
     "iopub.status.busy": "2024-07-05T09:42:40.591525Z",
     "iopub.status.idle": "2024-07-05T09:42:40.598871Z",
     "shell.execute_reply": "2024-07-05T09:42:40.597740Z"
    },
    "papermill": {
     "duration": 0.024441,
     "end_time": "2024-07-05T09:42:40.601397",
     "exception": false,
     "start_time": "2024-07-05T09:42:40.576956",
     "status": "completed"
    },
    "tags": []
   },
   "outputs": [
    {
     "data": {
      "text/plain": [
       "Index(['age', 'job', 'marital', 'education', 'default', 'balance', 'housing',\n",
       "       'loan', 'contact', 'day', 'month', 'duration', 'campaign', 'pdays',\n",
       "       'previous', 'poutcome', 'y'],\n",
       "      dtype='object')"
      ]
     },
     "execution_count": 13,
     "metadata": {},
     "output_type": "execute_result"
    }
   ],
   "source": [
    "df.columns"
   ]
  },
  {
   "cell_type": "code",
   "execution_count": 14,
   "id": "f3f0e132",
   "metadata": {
    "execution": {
     "iopub.execute_input": "2024-07-05T09:42:40.629790Z",
     "iopub.status.busy": "2024-07-05T09:42:40.629415Z",
     "iopub.status.idle": "2024-07-05T09:42:40.650449Z",
     "shell.execute_reply": "2024-07-05T09:42:40.649353Z"
    },
    "papermill": {
     "duration": 0.038242,
     "end_time": "2024-07-05T09:42:40.652817",
     "exception": false,
     "start_time": "2024-07-05T09:42:40.614575",
     "status": "completed"
    },
    "tags": []
   },
   "outputs": [],
   "source": [
    "categories_1st=[\"job\",\"marital\",\"education\",\"default\",\"housing\",\"housing\",\"loan\",\"contact\",\"month\",\"poutcome\",\"y\"]\n",
    "LE=LabelEncoder()\n",
    "for i in categories_1st:\n",
    "    df[i]=LE.fit_transform(df[i])"
   ]
  },
  {
   "cell_type": "code",
   "execution_count": 15,
   "id": "9c0fa385",
   "metadata": {
    "execution": {
     "iopub.execute_input": "2024-07-05T09:42:40.681603Z",
     "iopub.status.busy": "2024-07-05T09:42:40.681211Z",
     "iopub.status.idle": "2024-07-05T09:42:40.687116Z",
     "shell.execute_reply": "2024-07-05T09:42:40.685859Z"
    },
    "papermill": {
     "duration": 0.022931,
     "end_time": "2024-07-05T09:42:40.689473",
     "exception": false,
     "start_time": "2024-07-05T09:42:40.666542",
     "status": "completed"
    },
    "tags": []
   },
   "outputs": [],
   "source": [
    "df.rename(columns={\"y\": \"loan_approval\"}, inplace=True)"
   ]
  },
  {
   "cell_type": "code",
   "execution_count": 16,
   "id": "acc07eab",
   "metadata": {
    "execution": {
     "iopub.execute_input": "2024-07-05T09:42:40.718794Z",
     "iopub.status.busy": "2024-07-05T09:42:40.718420Z",
     "iopub.status.idle": "2024-07-05T09:42:40.750183Z",
     "shell.execute_reply": "2024-07-05T09:42:40.749089Z"
    },
    "papermill": {
     "duration": 0.049184,
     "end_time": "2024-07-05T09:42:40.752634",
     "exception": false,
     "start_time": "2024-07-05T09:42:40.703450",
     "status": "completed"
    },
    "tags": []
   },
   "outputs": [
    {
     "data": {
      "text/html": [
       "<div>\n",
       "<style scoped>\n",
       "    .dataframe tbody tr th:only-of-type {\n",
       "        vertical-align: middle;\n",
       "    }\n",
       "\n",
       "    .dataframe tbody tr th {\n",
       "        vertical-align: top;\n",
       "    }\n",
       "\n",
       "    .dataframe thead th {\n",
       "        text-align: right;\n",
       "    }\n",
       "</style>\n",
       "<table border=\"1\" class=\"dataframe\">\n",
       "  <thead>\n",
       "    <tr style=\"text-align: right;\">\n",
       "      <th></th>\n",
       "      <th>age</th>\n",
       "      <th>job</th>\n",
       "      <th>marital</th>\n",
       "      <th>education</th>\n",
       "      <th>default</th>\n",
       "      <th>balance</th>\n",
       "      <th>housing</th>\n",
       "      <th>loan</th>\n",
       "      <th>contact</th>\n",
       "      <th>day</th>\n",
       "      <th>month</th>\n",
       "      <th>duration</th>\n",
       "      <th>campaign</th>\n",
       "      <th>pdays</th>\n",
       "      <th>previous</th>\n",
       "      <th>poutcome</th>\n",
       "      <th>loan_approval</th>\n",
       "    </tr>\n",
       "  </thead>\n",
       "  <tbody>\n",
       "    <tr>\n",
       "      <th>age</th>\n",
       "      <td>1.000000</td>\n",
       "      <td>-0.021500</td>\n",
       "      <td>-0.381485</td>\n",
       "      <td>-0.121613</td>\n",
       "      <td>-0.017885</td>\n",
       "      <td>0.083820</td>\n",
       "      <td>-0.193888</td>\n",
       "      <td>-0.011250</td>\n",
       "      <td>0.015161</td>\n",
       "      <td>-0.017853</td>\n",
       "      <td>-0.040714</td>\n",
       "      <td>-0.002367</td>\n",
       "      <td>-0.005148</td>\n",
       "      <td>-0.008894</td>\n",
       "      <td>-0.003511</td>\n",
       "      <td>-0.009320</td>\n",
       "      <td>0.045092</td>\n",
       "    </tr>\n",
       "    <tr>\n",
       "      <th>job</th>\n",
       "      <td>-0.021500</td>\n",
       "      <td>1.000000</td>\n",
       "      <td>0.069390</td>\n",
       "      <td>0.170160</td>\n",
       "      <td>0.008324</td>\n",
       "      <td>0.009797</td>\n",
       "      <td>-0.128353</td>\n",
       "      <td>-0.040245</td>\n",
       "      <td>-0.074068</td>\n",
       "      <td>0.012865</td>\n",
       "      <td>-0.096613</td>\n",
       "      <td>-0.006739</td>\n",
       "      <td>-0.002739</td>\n",
       "      <td>-0.022760</td>\n",
       "      <td>0.005029</td>\n",
       "      <td>0.013049</td>\n",
       "      <td>0.027401</td>\n",
       "    </tr>\n",
       "    <tr>\n",
       "      <th>marital</th>\n",
       "      <td>-0.381485</td>\n",
       "      <td>0.069390</td>\n",
       "      <td>1.000000</td>\n",
       "      <td>0.102714</td>\n",
       "      <td>-0.020745</td>\n",
       "      <td>0.024971</td>\n",
       "      <td>-0.029851</td>\n",
       "      <td>-0.045210</td>\n",
       "      <td>-0.068236</td>\n",
       "      <td>0.008794</td>\n",
       "      <td>-0.035855</td>\n",
       "      <td>0.006619</td>\n",
       "      <td>0.005915</td>\n",
       "      <td>0.017050</td>\n",
       "      <td>0.038028</td>\n",
       "      <td>-0.027716</td>\n",
       "      <td>0.015042</td>\n",
       "    </tr>\n",
       "    <tr>\n",
       "      <th>education</th>\n",
       "      <td>-0.121613</td>\n",
       "      <td>0.170160</td>\n",
       "      <td>0.102714</td>\n",
       "      <td>1.000000</td>\n",
       "      <td>-0.010534</td>\n",
       "      <td>0.057725</td>\n",
       "      <td>-0.087070</td>\n",
       "      <td>-0.054086</td>\n",
       "      <td>-0.110554</td>\n",
       "      <td>0.014926</td>\n",
       "      <td>-0.050086</td>\n",
       "      <td>-0.014878</td>\n",
       "      <td>-0.001723</td>\n",
       "      <td>0.012077</td>\n",
       "      <td>0.023983</td>\n",
       "      <td>-0.032135</td>\n",
       "      <td>0.042987</td>\n",
       "    </tr>\n",
       "    <tr>\n",
       "      <th>default</th>\n",
       "      <td>-0.017885</td>\n",
       "      <td>0.008324</td>\n",
       "      <td>-0.020745</td>\n",
       "      <td>-0.010534</td>\n",
       "      <td>1.000000</td>\n",
       "      <td>-0.070886</td>\n",
       "      <td>0.006881</td>\n",
       "      <td>0.063994</td>\n",
       "      <td>0.008448</td>\n",
       "      <td>-0.013261</td>\n",
       "      <td>0.014297</td>\n",
       "      <td>-0.011615</td>\n",
       "      <td>-0.012348</td>\n",
       "      <td>-0.026317</td>\n",
       "      <td>-0.026656</td>\n",
       "      <td>0.039032</td>\n",
       "      <td>0.001303</td>\n",
       "    </tr>\n",
       "    <tr>\n",
       "      <th>balance</th>\n",
       "      <td>0.083820</td>\n",
       "      <td>0.009797</td>\n",
       "      <td>0.024971</td>\n",
       "      <td>0.057725</td>\n",
       "      <td>-0.070886</td>\n",
       "      <td>1.000000</td>\n",
       "      <td>-0.050227</td>\n",
       "      <td>-0.071349</td>\n",
       "      <td>-0.009665</td>\n",
       "      <td>-0.008677</td>\n",
       "      <td>0.023113</td>\n",
       "      <td>-0.015950</td>\n",
       "      <td>-0.009976</td>\n",
       "      <td>0.009437</td>\n",
       "      <td>0.026196</td>\n",
       "      <td>-0.029268</td>\n",
       "      <td>0.017905</td>\n",
       "    </tr>\n",
       "    <tr>\n",
       "      <th>housing</th>\n",
       "      <td>-0.193888</td>\n",
       "      <td>-0.128353</td>\n",
       "      <td>-0.029851</td>\n",
       "      <td>-0.087070</td>\n",
       "      <td>0.006881</td>\n",
       "      <td>-0.050227</td>\n",
       "      <td>1.000000</td>\n",
       "      <td>0.018451</td>\n",
       "      <td>0.196454</td>\n",
       "      <td>-0.031291</td>\n",
       "      <td>0.266630</td>\n",
       "      <td>0.015740</td>\n",
       "      <td>-0.003574</td>\n",
       "      <td>0.116893</td>\n",
       "      <td>0.038621</td>\n",
       "      <td>-0.093093</td>\n",
       "      <td>-0.104683</td>\n",
       "    </tr>\n",
       "    <tr>\n",
       "      <th>loan</th>\n",
       "      <td>-0.011250</td>\n",
       "      <td>-0.040245</td>\n",
       "      <td>-0.045210</td>\n",
       "      <td>-0.054086</td>\n",
       "      <td>0.063994</td>\n",
       "      <td>-0.071349</td>\n",
       "      <td>0.018451</td>\n",
       "      <td>1.000000</td>\n",
       "      <td>-0.007319</td>\n",
       "      <td>-0.004879</td>\n",
       "      <td>0.016329</td>\n",
       "      <td>-0.004997</td>\n",
       "      <td>0.017120</td>\n",
       "      <td>-0.031086</td>\n",
       "      <td>-0.022115</td>\n",
       "      <td>0.027028</td>\n",
       "      <td>-0.070517</td>\n",
       "    </tr>\n",
       "    <tr>\n",
       "      <th>contact</th>\n",
       "      <td>0.015161</td>\n",
       "      <td>-0.074068</td>\n",
       "      <td>-0.068236</td>\n",
       "      <td>-0.110554</td>\n",
       "      <td>0.008448</td>\n",
       "      <td>-0.009665</td>\n",
       "      <td>0.196454</td>\n",
       "      <td>-0.007319</td>\n",
       "      <td>1.000000</td>\n",
       "      <td>-0.033807</td>\n",
       "      <td>0.370077</td>\n",
       "      <td>-0.011380</td>\n",
       "      <td>0.012278</td>\n",
       "      <td>-0.243223</td>\n",
       "      <td>-0.187232</td>\n",
       "      <td>0.267173</td>\n",
       "      <td>-0.133595</td>\n",
       "    </tr>\n",
       "    <tr>\n",
       "      <th>day</th>\n",
       "      <td>-0.017853</td>\n",
       "      <td>0.012865</td>\n",
       "      <td>0.008794</td>\n",
       "      <td>0.014926</td>\n",
       "      <td>-0.013261</td>\n",
       "      <td>-0.008677</td>\n",
       "      <td>-0.031291</td>\n",
       "      <td>-0.004879</td>\n",
       "      <td>-0.033807</td>\n",
       "      <td>1.000000</td>\n",
       "      <td>-0.014795</td>\n",
       "      <td>-0.024629</td>\n",
       "      <td>0.160706</td>\n",
       "      <td>-0.094352</td>\n",
       "      <td>-0.059114</td>\n",
       "      <td>0.073714</td>\n",
       "      <td>-0.011244</td>\n",
       "    </tr>\n",
       "    <tr>\n",
       "      <th>month</th>\n",
       "      <td>-0.040714</td>\n",
       "      <td>-0.096613</td>\n",
       "      <td>-0.035855</td>\n",
       "      <td>-0.050086</td>\n",
       "      <td>0.014297</td>\n",
       "      <td>0.023113</td>\n",
       "      <td>0.266630</td>\n",
       "      <td>0.016329</td>\n",
       "      <td>0.370077</td>\n",
       "      <td>-0.014795</td>\n",
       "      <td>1.000000</td>\n",
       "      <td>0.000851</td>\n",
       "      <td>-0.108915</td>\n",
       "      <td>0.033292</td>\n",
       "      <td>0.046899</td>\n",
       "      <td>-0.030189</td>\n",
       "      <td>-0.040933</td>\n",
       "    </tr>\n",
       "    <tr>\n",
       "      <th>duration</th>\n",
       "      <td>-0.002367</td>\n",
       "      <td>-0.006739</td>\n",
       "      <td>0.006619</td>\n",
       "      <td>-0.014878</td>\n",
       "      <td>-0.011615</td>\n",
       "      <td>-0.015950</td>\n",
       "      <td>0.015740</td>\n",
       "      <td>-0.004997</td>\n",
       "      <td>-0.011380</td>\n",
       "      <td>-0.024629</td>\n",
       "      <td>0.000851</td>\n",
       "      <td>1.000000</td>\n",
       "      <td>-0.068382</td>\n",
       "      <td>0.010380</td>\n",
       "      <td>0.018080</td>\n",
       "      <td>0.000478</td>\n",
       "      <td>0.401118</td>\n",
       "    </tr>\n",
       "    <tr>\n",
       "      <th>campaign</th>\n",
       "      <td>-0.005148</td>\n",
       "      <td>-0.002739</td>\n",
       "      <td>0.005915</td>\n",
       "      <td>-0.001723</td>\n",
       "      <td>-0.012348</td>\n",
       "      <td>-0.009976</td>\n",
       "      <td>-0.003574</td>\n",
       "      <td>0.017120</td>\n",
       "      <td>0.012278</td>\n",
       "      <td>0.160706</td>\n",
       "      <td>-0.108915</td>\n",
       "      <td>-0.068382</td>\n",
       "      <td>1.000000</td>\n",
       "      <td>-0.093137</td>\n",
       "      <td>-0.067833</td>\n",
       "      <td>0.110703</td>\n",
       "      <td>-0.061147</td>\n",
       "    </tr>\n",
       "    <tr>\n",
       "      <th>pdays</th>\n",
       "      <td>-0.008894</td>\n",
       "      <td>-0.022760</td>\n",
       "      <td>0.017050</td>\n",
       "      <td>0.012077</td>\n",
       "      <td>-0.026317</td>\n",
       "      <td>0.009437</td>\n",
       "      <td>0.116893</td>\n",
       "      <td>-0.031086</td>\n",
       "      <td>-0.243223</td>\n",
       "      <td>-0.094352</td>\n",
       "      <td>0.033292</td>\n",
       "      <td>0.010380</td>\n",
       "      <td>-0.093137</td>\n",
       "      <td>1.000000</td>\n",
       "      <td>0.577562</td>\n",
       "      <td>-0.859245</td>\n",
       "      <td>0.104087</td>\n",
       "    </tr>\n",
       "    <tr>\n",
       "      <th>previous</th>\n",
       "      <td>-0.003511</td>\n",
       "      <td>0.005029</td>\n",
       "      <td>0.038028</td>\n",
       "      <td>0.023983</td>\n",
       "      <td>-0.026656</td>\n",
       "      <td>0.026196</td>\n",
       "      <td>0.038621</td>\n",
       "      <td>-0.022115</td>\n",
       "      <td>-0.187232</td>\n",
       "      <td>-0.059114</td>\n",
       "      <td>0.046899</td>\n",
       "      <td>0.018080</td>\n",
       "      <td>-0.067833</td>\n",
       "      <td>0.577562</td>\n",
       "      <td>1.000000</td>\n",
       "      <td>-0.636372</td>\n",
       "      <td>0.116714</td>\n",
       "    </tr>\n",
       "    <tr>\n",
       "      <th>poutcome</th>\n",
       "      <td>-0.009320</td>\n",
       "      <td>0.013049</td>\n",
       "      <td>-0.027716</td>\n",
       "      <td>-0.032135</td>\n",
       "      <td>0.039032</td>\n",
       "      <td>-0.029268</td>\n",
       "      <td>-0.093093</td>\n",
       "      <td>0.027028</td>\n",
       "      <td>0.267173</td>\n",
       "      <td>0.073714</td>\n",
       "      <td>-0.030189</td>\n",
       "      <td>0.000478</td>\n",
       "      <td>0.110703</td>\n",
       "      <td>-0.859245</td>\n",
       "      <td>-0.636372</td>\n",
       "      <td>1.000000</td>\n",
       "      <td>-0.082632</td>\n",
       "    </tr>\n",
       "    <tr>\n",
       "      <th>loan_approval</th>\n",
       "      <td>0.045092</td>\n",
       "      <td>0.027401</td>\n",
       "      <td>0.015042</td>\n",
       "      <td>0.042987</td>\n",
       "      <td>0.001303</td>\n",
       "      <td>0.017905</td>\n",
       "      <td>-0.104683</td>\n",
       "      <td>-0.070517</td>\n",
       "      <td>-0.133595</td>\n",
       "      <td>-0.011244</td>\n",
       "      <td>-0.040933</td>\n",
       "      <td>0.401118</td>\n",
       "      <td>-0.061147</td>\n",
       "      <td>0.104087</td>\n",
       "      <td>0.116714</td>\n",
       "      <td>-0.082632</td>\n",
       "      <td>1.000000</td>\n",
       "    </tr>\n",
       "  </tbody>\n",
       "</table>\n",
       "</div>"
      ],
      "text/plain": [
       "                    age       job   marital  education   default   balance  \\\n",
       "age            1.000000 -0.021500 -0.381485  -0.121613 -0.017885  0.083820   \n",
       "job           -0.021500  1.000000  0.069390   0.170160  0.008324  0.009797   \n",
       "marital       -0.381485  0.069390  1.000000   0.102714 -0.020745  0.024971   \n",
       "education     -0.121613  0.170160  0.102714   1.000000 -0.010534  0.057725   \n",
       "default       -0.017885  0.008324 -0.020745  -0.010534  1.000000 -0.070886   \n",
       "balance        0.083820  0.009797  0.024971   0.057725 -0.070886  1.000000   \n",
       "housing       -0.193888 -0.128353 -0.029851  -0.087070  0.006881 -0.050227   \n",
       "loan          -0.011250 -0.040245 -0.045210  -0.054086  0.063994 -0.071349   \n",
       "contact        0.015161 -0.074068 -0.068236  -0.110554  0.008448 -0.009665   \n",
       "day           -0.017853  0.012865  0.008794   0.014926 -0.013261 -0.008677   \n",
       "month         -0.040714 -0.096613 -0.035855  -0.050086  0.014297  0.023113   \n",
       "duration      -0.002367 -0.006739  0.006619  -0.014878 -0.011615 -0.015950   \n",
       "campaign      -0.005148 -0.002739  0.005915  -0.001723 -0.012348 -0.009976   \n",
       "pdays         -0.008894 -0.022760  0.017050   0.012077 -0.026317  0.009437   \n",
       "previous      -0.003511  0.005029  0.038028   0.023983 -0.026656  0.026196   \n",
       "poutcome      -0.009320  0.013049 -0.027716  -0.032135  0.039032 -0.029268   \n",
       "loan_approval  0.045092  0.027401  0.015042   0.042987  0.001303  0.017905   \n",
       "\n",
       "                housing      loan   contact       day     month  duration  \\\n",
       "age           -0.193888 -0.011250  0.015161 -0.017853 -0.040714 -0.002367   \n",
       "job           -0.128353 -0.040245 -0.074068  0.012865 -0.096613 -0.006739   \n",
       "marital       -0.029851 -0.045210 -0.068236  0.008794 -0.035855  0.006619   \n",
       "education     -0.087070 -0.054086 -0.110554  0.014926 -0.050086 -0.014878   \n",
       "default        0.006881  0.063994  0.008448 -0.013261  0.014297 -0.011615   \n",
       "balance       -0.050227 -0.071349 -0.009665 -0.008677  0.023113 -0.015950   \n",
       "housing        1.000000  0.018451  0.196454 -0.031291  0.266630  0.015740   \n",
       "loan           0.018451  1.000000 -0.007319 -0.004879  0.016329 -0.004997   \n",
       "contact        0.196454 -0.007319  1.000000 -0.033807  0.370077 -0.011380   \n",
       "day           -0.031291 -0.004879 -0.033807  1.000000 -0.014795 -0.024629   \n",
       "month          0.266630  0.016329  0.370077 -0.014795  1.000000  0.000851   \n",
       "duration       0.015740 -0.004997 -0.011380 -0.024629  0.000851  1.000000   \n",
       "campaign      -0.003574  0.017120  0.012278  0.160706 -0.108915 -0.068382   \n",
       "pdays          0.116893 -0.031086 -0.243223 -0.094352  0.033292  0.010380   \n",
       "previous       0.038621 -0.022115 -0.187232 -0.059114  0.046899  0.018080   \n",
       "poutcome      -0.093093  0.027028  0.267173  0.073714 -0.030189  0.000478   \n",
       "loan_approval -0.104683 -0.070517 -0.133595 -0.011244 -0.040933  0.401118   \n",
       "\n",
       "               campaign     pdays  previous  poutcome  loan_approval  \n",
       "age           -0.005148 -0.008894 -0.003511 -0.009320       0.045092  \n",
       "job           -0.002739 -0.022760  0.005029  0.013049       0.027401  \n",
       "marital        0.005915  0.017050  0.038028 -0.027716       0.015042  \n",
       "education     -0.001723  0.012077  0.023983 -0.032135       0.042987  \n",
       "default       -0.012348 -0.026317 -0.026656  0.039032       0.001303  \n",
       "balance       -0.009976  0.009437  0.026196 -0.029268       0.017905  \n",
       "housing       -0.003574  0.116893  0.038621 -0.093093      -0.104683  \n",
       "loan           0.017120 -0.031086 -0.022115  0.027028      -0.070517  \n",
       "contact        0.012278 -0.243223 -0.187232  0.267173      -0.133595  \n",
       "day            0.160706 -0.094352 -0.059114  0.073714      -0.011244  \n",
       "month         -0.108915  0.033292  0.046899 -0.030189      -0.040933  \n",
       "duration      -0.068382  0.010380  0.018080  0.000478       0.401118  \n",
       "campaign       1.000000 -0.093137 -0.067833  0.110703      -0.061147  \n",
       "pdays         -0.093137  1.000000  0.577562 -0.859245       0.104087  \n",
       "previous      -0.067833  0.577562  1.000000 -0.636372       0.116714  \n",
       "poutcome       0.110703 -0.859245 -0.636372  1.000000      -0.082632  \n",
       "loan_approval -0.061147  0.104087  0.116714 -0.082632       1.000000  "
      ]
     },
     "execution_count": 16,
     "metadata": {},
     "output_type": "execute_result"
    }
   ],
   "source": [
    "df.corr()"
   ]
  },
  {
   "cell_type": "code",
   "execution_count": 17,
   "id": "6aa6a141",
   "metadata": {
    "execution": {
     "iopub.execute_input": "2024-07-05T09:42:40.783349Z",
     "iopub.status.busy": "2024-07-05T09:42:40.782907Z",
     "iopub.status.idle": "2024-07-05T09:42:40.802063Z",
     "shell.execute_reply": "2024-07-05T09:42:40.800706Z"
    },
    "papermill": {
     "duration": 0.038024,
     "end_time": "2024-07-05T09:42:40.804544",
     "exception": false,
     "start_time": "2024-07-05T09:42:40.766520",
     "status": "completed"
    },
    "tags": []
   },
   "outputs": [
    {
     "data": {
      "text/html": [
       "<div>\n",
       "<style scoped>\n",
       "    .dataframe tbody tr th:only-of-type {\n",
       "        vertical-align: middle;\n",
       "    }\n",
       "\n",
       "    .dataframe tbody tr th {\n",
       "        vertical-align: top;\n",
       "    }\n",
       "\n",
       "    .dataframe thead th {\n",
       "        text-align: right;\n",
       "    }\n",
       "</style>\n",
       "<table border=\"1\" class=\"dataframe\">\n",
       "  <thead>\n",
       "    <tr style=\"text-align: right;\">\n",
       "      <th></th>\n",
       "      <th>age</th>\n",
       "      <th>job</th>\n",
       "      <th>marital</th>\n",
       "      <th>education</th>\n",
       "      <th>default</th>\n",
       "      <th>balance</th>\n",
       "      <th>housing</th>\n",
       "      <th>loan</th>\n",
       "      <th>contact</th>\n",
       "      <th>day</th>\n",
       "      <th>month</th>\n",
       "      <th>duration</th>\n",
       "      <th>campaign</th>\n",
       "      <th>pdays</th>\n",
       "      <th>previous</th>\n",
       "      <th>poutcome</th>\n",
       "    </tr>\n",
       "  </thead>\n",
       "  <tbody>\n",
       "    <tr>\n",
       "      <th>0</th>\n",
       "      <td>30</td>\n",
       "      <td>10</td>\n",
       "      <td>1</td>\n",
       "      <td>0</td>\n",
       "      <td>0</td>\n",
       "      <td>1787</td>\n",
       "      <td>0</td>\n",
       "      <td>0</td>\n",
       "      <td>0</td>\n",
       "      <td>19</td>\n",
       "      <td>10</td>\n",
       "      <td>79</td>\n",
       "      <td>1</td>\n",
       "      <td>-1</td>\n",
       "      <td>0</td>\n",
       "      <td>3</td>\n",
       "    </tr>\n",
       "    <tr>\n",
       "      <th>1</th>\n",
       "      <td>33</td>\n",
       "      <td>7</td>\n",
       "      <td>1</td>\n",
       "      <td>1</td>\n",
       "      <td>0</td>\n",
       "      <td>4789</td>\n",
       "      <td>1</td>\n",
       "      <td>1</td>\n",
       "      <td>0</td>\n",
       "      <td>11</td>\n",
       "      <td>8</td>\n",
       "      <td>220</td>\n",
       "      <td>1</td>\n",
       "      <td>339</td>\n",
       "      <td>4</td>\n",
       "      <td>0</td>\n",
       "    </tr>\n",
       "    <tr>\n",
       "      <th>2</th>\n",
       "      <td>35</td>\n",
       "      <td>4</td>\n",
       "      <td>2</td>\n",
       "      <td>2</td>\n",
       "      <td>0</td>\n",
       "      <td>1350</td>\n",
       "      <td>1</td>\n",
       "      <td>0</td>\n",
       "      <td>0</td>\n",
       "      <td>16</td>\n",
       "      <td>0</td>\n",
       "      <td>185</td>\n",
       "      <td>1</td>\n",
       "      <td>330</td>\n",
       "      <td>1</td>\n",
       "      <td>0</td>\n",
       "    </tr>\n",
       "    <tr>\n",
       "      <th>3</th>\n",
       "      <td>30</td>\n",
       "      <td>4</td>\n",
       "      <td>1</td>\n",
       "      <td>2</td>\n",
       "      <td>0</td>\n",
       "      <td>1476</td>\n",
       "      <td>1</td>\n",
       "      <td>1</td>\n",
       "      <td>2</td>\n",
       "      <td>3</td>\n",
       "      <td>6</td>\n",
       "      <td>199</td>\n",
       "      <td>4</td>\n",
       "      <td>-1</td>\n",
       "      <td>0</td>\n",
       "      <td>3</td>\n",
       "    </tr>\n",
       "    <tr>\n",
       "      <th>4</th>\n",
       "      <td>59</td>\n",
       "      <td>1</td>\n",
       "      <td>1</td>\n",
       "      <td>1</td>\n",
       "      <td>0</td>\n",
       "      <td>0</td>\n",
       "      <td>1</td>\n",
       "      <td>0</td>\n",
       "      <td>2</td>\n",
       "      <td>5</td>\n",
       "      <td>8</td>\n",
       "      <td>226</td>\n",
       "      <td>1</td>\n",
       "      <td>-1</td>\n",
       "      <td>0</td>\n",
       "      <td>3</td>\n",
       "    </tr>\n",
       "    <tr>\n",
       "      <th>...</th>\n",
       "      <td>...</td>\n",
       "      <td>...</td>\n",
       "      <td>...</td>\n",
       "      <td>...</td>\n",
       "      <td>...</td>\n",
       "      <td>...</td>\n",
       "      <td>...</td>\n",
       "      <td>...</td>\n",
       "      <td>...</td>\n",
       "      <td>...</td>\n",
       "      <td>...</td>\n",
       "      <td>...</td>\n",
       "      <td>...</td>\n",
       "      <td>...</td>\n",
       "      <td>...</td>\n",
       "      <td>...</td>\n",
       "    </tr>\n",
       "    <tr>\n",
       "      <th>4516</th>\n",
       "      <td>33</td>\n",
       "      <td>7</td>\n",
       "      <td>1</td>\n",
       "      <td>1</td>\n",
       "      <td>0</td>\n",
       "      <td>-333</td>\n",
       "      <td>1</td>\n",
       "      <td>0</td>\n",
       "      <td>0</td>\n",
       "      <td>30</td>\n",
       "      <td>5</td>\n",
       "      <td>329</td>\n",
       "      <td>5</td>\n",
       "      <td>-1</td>\n",
       "      <td>0</td>\n",
       "      <td>3</td>\n",
       "    </tr>\n",
       "    <tr>\n",
       "      <th>4517</th>\n",
       "      <td>57</td>\n",
       "      <td>6</td>\n",
       "      <td>1</td>\n",
       "      <td>2</td>\n",
       "      <td>1</td>\n",
       "      <td>-3313</td>\n",
       "      <td>1</td>\n",
       "      <td>1</td>\n",
       "      <td>2</td>\n",
       "      <td>9</td>\n",
       "      <td>8</td>\n",
       "      <td>153</td>\n",
       "      <td>1</td>\n",
       "      <td>-1</td>\n",
       "      <td>0</td>\n",
       "      <td>3</td>\n",
       "    </tr>\n",
       "    <tr>\n",
       "      <th>4518</th>\n",
       "      <td>57</td>\n",
       "      <td>9</td>\n",
       "      <td>1</td>\n",
       "      <td>1</td>\n",
       "      <td>0</td>\n",
       "      <td>295</td>\n",
       "      <td>0</td>\n",
       "      <td>0</td>\n",
       "      <td>0</td>\n",
       "      <td>19</td>\n",
       "      <td>1</td>\n",
       "      <td>151</td>\n",
       "      <td>11</td>\n",
       "      <td>-1</td>\n",
       "      <td>0</td>\n",
       "      <td>3</td>\n",
       "    </tr>\n",
       "    <tr>\n",
       "      <th>4519</th>\n",
       "      <td>28</td>\n",
       "      <td>1</td>\n",
       "      <td>1</td>\n",
       "      <td>1</td>\n",
       "      <td>0</td>\n",
       "      <td>1137</td>\n",
       "      <td>0</td>\n",
       "      <td>0</td>\n",
       "      <td>0</td>\n",
       "      <td>6</td>\n",
       "      <td>3</td>\n",
       "      <td>129</td>\n",
       "      <td>4</td>\n",
       "      <td>211</td>\n",
       "      <td>3</td>\n",
       "      <td>1</td>\n",
       "    </tr>\n",
       "    <tr>\n",
       "      <th>4520</th>\n",
       "      <td>44</td>\n",
       "      <td>2</td>\n",
       "      <td>2</td>\n",
       "      <td>2</td>\n",
       "      <td>0</td>\n",
       "      <td>1136</td>\n",
       "      <td>1</td>\n",
       "      <td>1</td>\n",
       "      <td>0</td>\n",
       "      <td>3</td>\n",
       "      <td>0</td>\n",
       "      <td>345</td>\n",
       "      <td>2</td>\n",
       "      <td>249</td>\n",
       "      <td>7</td>\n",
       "      <td>1</td>\n",
       "    </tr>\n",
       "  </tbody>\n",
       "</table>\n",
       "<p>4521 rows × 16 columns</p>\n",
       "</div>"
      ],
      "text/plain": [
       "      age  job  marital  education  default  balance  housing  loan  contact  \\\n",
       "0      30   10        1          0        0     1787        0     0        0   \n",
       "1      33    7        1          1        0     4789        1     1        0   \n",
       "2      35    4        2          2        0     1350        1     0        0   \n",
       "3      30    4        1          2        0     1476        1     1        2   \n",
       "4      59    1        1          1        0        0        1     0        2   \n",
       "...   ...  ...      ...        ...      ...      ...      ...   ...      ...   \n",
       "4516   33    7        1          1        0     -333        1     0        0   \n",
       "4517   57    6        1          2        1    -3313        1     1        2   \n",
       "4518   57    9        1          1        0      295        0     0        0   \n",
       "4519   28    1        1          1        0     1137        0     0        0   \n",
       "4520   44    2        2          2        0     1136        1     1        0   \n",
       "\n",
       "      day  month  duration  campaign  pdays  previous  poutcome  \n",
       "0      19     10        79         1     -1         0         3  \n",
       "1      11      8       220         1    339         4         0  \n",
       "2      16      0       185         1    330         1         0  \n",
       "3       3      6       199         4     -1         0         3  \n",
       "4       5      8       226         1     -1         0         3  \n",
       "...   ...    ...       ...       ...    ...       ...       ...  \n",
       "4516   30      5       329         5     -1         0         3  \n",
       "4517    9      8       153         1     -1         0         3  \n",
       "4518   19      1       151        11     -1         0         3  \n",
       "4519    6      3       129         4    211         3         1  \n",
       "4520    3      0       345         2    249         7         1  \n",
       "\n",
       "[4521 rows x 16 columns]"
      ]
     },
     "execution_count": 17,
     "metadata": {},
     "output_type": "execute_result"
    }
   ],
   "source": [
    "x=df.iloc[:,:-1]\n",
    "x"
   ]
  },
  {
   "cell_type": "code",
   "execution_count": 18,
   "id": "dbf9fca0",
   "metadata": {
    "execution": {
     "iopub.execute_input": "2024-07-05T09:42:40.835311Z",
     "iopub.status.busy": "2024-07-05T09:42:40.834419Z",
     "iopub.status.idle": "2024-07-05T09:42:40.843230Z",
     "shell.execute_reply": "2024-07-05T09:42:40.842139Z"
    },
    "papermill": {
     "duration": 0.026694,
     "end_time": "2024-07-05T09:42:40.845453",
     "exception": false,
     "start_time": "2024-07-05T09:42:40.818759",
     "status": "completed"
    },
    "tags": []
   },
   "outputs": [
    {
     "data": {
      "text/plain": [
       "0       0\n",
       "1       0\n",
       "2       0\n",
       "3       0\n",
       "4       0\n",
       "       ..\n",
       "4516    0\n",
       "4517    0\n",
       "4518    0\n",
       "4519    0\n",
       "4520    0\n",
       "Name: loan_approval, Length: 4521, dtype: int64"
      ]
     },
     "execution_count": 18,
     "metadata": {},
     "output_type": "execute_result"
    }
   ],
   "source": [
    "y=df.iloc[:,-1]\n",
    "y"
   ]
  },
  {
   "cell_type": "code",
   "execution_count": 19,
   "id": "665a00bd",
   "metadata": {
    "execution": {
     "iopub.execute_input": "2024-07-05T09:42:40.876184Z",
     "iopub.status.busy": "2024-07-05T09:42:40.875710Z",
     "iopub.status.idle": "2024-07-05T09:42:40.881566Z",
     "shell.execute_reply": "2024-07-05T09:42:40.880349Z"
    },
    "papermill": {
     "duration": 0.023989,
     "end_time": "2024-07-05T09:42:40.883940",
     "exception": false,
     "start_time": "2024-07-05T09:42:40.859951",
     "status": "completed"
    },
    "tags": []
   },
   "outputs": [
    {
     "name": "stdout",
     "output_type": "stream",
     "text": [
      "(4521, 16) (4521,)\n"
     ]
    }
   ],
   "source": [
    "print(x.shape, y.shape)"
   ]
  },
  {
   "cell_type": "code",
   "execution_count": 20,
   "id": "085db7be",
   "metadata": {
    "execution": {
     "iopub.execute_input": "2024-07-05T09:42:40.972521Z",
     "iopub.status.busy": "2024-07-05T09:42:40.972122Z",
     "iopub.status.idle": "2024-07-05T09:42:40.990461Z",
     "shell.execute_reply": "2024-07-05T09:42:40.989255Z"
    },
    "papermill": {
     "duration": 0.036613,
     "end_time": "2024-07-05T09:42:40.992956",
     "exception": false,
     "start_time": "2024-07-05T09:42:40.956343",
     "status": "completed"
    },
    "tags": []
   },
   "outputs": [
    {
     "name": "stdout",
     "output_type": "stream",
     "text": [
      "Before oversampling:\n",
      "loan_approval\n",
      "0    4000\n",
      "1     521\n",
      "Name: count, dtype: int64\n",
      "After oversampling:\n",
      "loan_approval\n",
      "0    4000\n",
      "1    4000\n",
      "Name: count, dtype: int64\n"
     ]
    }
   ],
   "source": [
    "print(\"Before oversampling:\")\n",
    "print(y.value_counts())\n",
    "sm=RandomOverSampler()\n",
    "x,y=sm.fit_resample(x,y)\n",
    "print(\"After oversampling:\")\n",
    "print(y.value_counts())"
   ]
  },
  {
   "cell_type": "code",
   "execution_count": 21,
   "id": "59da980e",
   "metadata": {
    "execution": {
     "iopub.execute_input": "2024-07-05T09:42:41.026599Z",
     "iopub.status.busy": "2024-07-05T09:42:41.026189Z",
     "iopub.status.idle": "2024-07-05T09:42:41.040549Z",
     "shell.execute_reply": "2024-07-05T09:42:41.039420Z"
    },
    "papermill": {
     "duration": 0.035379,
     "end_time": "2024-07-05T09:42:41.042958",
     "exception": false,
     "start_time": "2024-07-05T09:42:41.007579",
     "status": "completed"
    },
    "tags": []
   },
   "outputs": [
    {
     "data": {
      "text/plain": [
       "array([[0.16176471, 0.90909091, 0.5       , ..., 0.        , 0.        ,\n",
       "        1.        ],\n",
       "       [0.20588235, 0.63636364, 0.5       , ..., 0.38990826, 0.16      ,\n",
       "        0.        ],\n",
       "       [0.23529412, 0.36363636, 1.        , ..., 0.37958716, 0.04      ,\n",
       "        0.        ],\n",
       "       ...,\n",
       "       [0.27941176, 0.81818182, 1.        , ..., 0.31995413, 0.24      ,\n",
       "        0.66666667],\n",
       "       [0.26470588, 0.81818182, 1.        , ..., 0.        , 0.        ,\n",
       "        1.        ],\n",
       "       [0.16176471, 0.09090909, 1.        , ..., 0.        , 0.        ,\n",
       "        1.        ]])"
      ]
     },
     "execution_count": 21,
     "metadata": {},
     "output_type": "execute_result"
    }
   ],
   "source": [
    "#minmaxscaler\n",
    "ms=MinMaxScaler()\n",
    "x=ms.fit_transform(x)\n",
    "x"
   ]
  },
  {
   "cell_type": "code",
   "execution_count": 22,
   "id": "b89df5f6",
   "metadata": {
    "execution": {
     "iopub.execute_input": "2024-07-05T09:42:41.074116Z",
     "iopub.status.busy": "2024-07-05T09:42:41.073660Z",
     "iopub.status.idle": "2024-07-05T09:42:41.083046Z",
     "shell.execute_reply": "2024-07-05T09:42:41.081674Z"
    },
    "papermill": {
     "duration": 0.027603,
     "end_time": "2024-07-05T09:42:41.085280",
     "exception": false,
     "start_time": "2024-07-05T09:42:41.057677",
     "status": "completed"
    },
    "tags": []
   },
   "outputs": [
    {
     "name": "stdout",
     "output_type": "stream",
     "text": [
      "Train set: (7200, 16) (7200,)\n",
      "Test set: (800, 16) (800,)\n"
     ]
    }
   ],
   "source": [
    "#splitting to test and train data\n",
    "X_train,X_test,y_train,y_test=train_test_split(x,y,test_size=0.1,random_state=4)\n",
    "print ('Train set:', X_train.shape,  y_train.shape)\n",
    "print ('Test set:', X_test.shape,  y_test.shape)"
   ]
  },
  {
   "cell_type": "markdown",
   "id": "b6a47cf5",
   "metadata": {
    "papermill": {
     "duration": 0.014445,
     "end_time": "2024-07-05T09:42:41.114403",
     "exception": false,
     "start_time": "2024-07-05T09:42:41.099958",
     "status": "completed"
    },
    "tags": []
   },
   "source": [
    "# Using Logistic Regression"
   ]
  },
  {
   "cell_type": "code",
   "execution_count": 23,
   "id": "9fb83294",
   "metadata": {
    "execution": {
     "iopub.execute_input": "2024-07-05T09:42:41.145609Z",
     "iopub.status.busy": "2024-07-05T09:42:41.145228Z",
     "iopub.status.idle": "2024-07-05T09:42:41.179456Z",
     "shell.execute_reply": "2024-07-05T09:42:41.177962Z"
    },
    "papermill": {
     "duration": 0.053547,
     "end_time": "2024-07-05T09:42:41.182752",
     "exception": false,
     "start_time": "2024-07-05T09:42:41.129205",
     "status": "completed"
    },
    "tags": []
   },
   "outputs": [],
   "source": [
    "LR = LogisticRegression(C=0.011, solver='liblinear').fit(X_train,y_train)\n",
    "y_pred = LR.predict(X_test)"
   ]
  },
  {
   "cell_type": "code",
   "execution_count": 24,
   "id": "ce001884",
   "metadata": {
    "execution": {
     "iopub.execute_input": "2024-07-05T09:42:41.239260Z",
     "iopub.status.busy": "2024-07-05T09:42:41.238559Z",
     "iopub.status.idle": "2024-07-05T09:42:41.250792Z",
     "shell.execute_reply": "2024-07-05T09:42:41.249626Z"
    },
    "papermill": {
     "duration": 0.044958,
     "end_time": "2024-07-05T09:42:41.253795",
     "exception": false,
     "start_time": "2024-07-05T09:42:41.208837",
     "status": "completed"
    },
    "tags": []
   },
   "outputs": [
    {
     "data": {
      "text/plain": [
       "array([0, 0, 1, 1, 1, 1, 0, 0, 1, 1, 1, 1, 0, 0, 1, 0, 1, 1, 1, 0, 1, 1,\n",
       "       1, 1, 1, 0, 1, 1, 0, 1, 1, 1, 1, 0, 1, 1, 1, 0, 0, 1, 0, 0, 0, 1,\n",
       "       0, 1, 1, 0, 0, 0, 0, 0, 1, 0, 0, 1, 0, 0, 1, 1, 0, 1, 1, 0, 1, 0,\n",
       "       0, 1, 1, 0, 0, 0, 0, 1, 1, 1, 0, 0, 0, 1, 0, 1, 1, 1, 0, 0, 1, 1,\n",
       "       1, 0, 1, 0, 1, 0, 0, 1, 1, 1, 0, 0, 0, 1, 0, 0, 0, 1, 1, 1, 1, 0,\n",
       "       1, 1, 1, 1, 0, 1, 1, 1, 0, 0, 1, 1, 1, 1, 1, 1, 1, 0, 1, 0, 1, 1,\n",
       "       1, 0, 1, 0, 1, 1, 1, 1, 1, 0, 0, 1, 1, 0, 1, 0, 1, 1, 1, 0, 1, 1,\n",
       "       1, 0, 0, 1, 1, 1, 1, 1, 1, 1, 1, 1, 0, 1, 1, 1, 1, 0, 1, 0, 0, 0,\n",
       "       1, 1, 1, 1, 0, 0, 1, 0, 0, 1, 1, 0, 1, 1, 1, 1, 1, 1, 0, 0, 0, 0,\n",
       "       0, 1, 0, 0, 0, 1, 0, 1, 1, 1, 0, 0, 0, 1, 0, 1, 1, 0, 1, 1, 1, 0,\n",
       "       1, 0, 1, 0, 1, 1, 1, 1, 0, 0, 1, 0, 0, 1, 1, 1, 1, 1, 1, 1, 1, 1,\n",
       "       0, 1, 1, 0, 0, 1, 1, 1, 1, 1, 1, 1, 1, 1, 0, 0, 0, 0, 1, 0, 0, 0,\n",
       "       1, 0, 0, 1, 1, 0, 1, 0, 1, 0, 1, 0, 1, 1, 0, 1, 0, 0, 1, 0, 1, 0,\n",
       "       1, 1, 0, 1, 0, 0, 0, 1, 1, 1, 1, 1, 0, 0, 1, 1, 1, 1, 0, 0, 0, 1,\n",
       "       1, 1, 0, 0, 1, 1, 0, 1, 0, 1, 1, 0, 1, 1, 1, 0, 0, 1, 1, 1, 1, 0,\n",
       "       1, 0, 1, 0, 0, 0, 1, 1, 1, 1, 0, 1, 1, 1, 1, 0, 0, 1, 0, 0, 1, 0,\n",
       "       1, 0, 1, 1, 1, 1, 1, 0, 0, 1, 1, 0, 1, 1, 0, 0, 0, 0, 1, 0, 0, 0,\n",
       "       1, 1, 1, 1, 1, 1, 0, 1, 1, 0, 0, 1, 0, 1, 1, 1, 1, 0, 0, 1, 1, 1,\n",
       "       1, 0, 0, 1, 1, 1, 0, 0, 1, 0, 0, 1, 1, 1, 1, 1, 0, 0, 1, 0, 1, 1,\n",
       "       1, 0, 0, 0, 1, 1, 0, 1, 1, 1, 1, 0, 0, 0, 0, 1, 1, 0, 1, 0, 1, 1,\n",
       "       1, 1, 1, 1, 1, 0, 0, 0, 0, 0, 1, 0, 1, 1, 1, 0, 1, 0, 1, 0, 1, 1,\n",
       "       1, 0, 1, 0, 0, 1, 1, 0, 1, 1, 1, 1, 0, 0, 0, 0, 0, 0, 0, 1, 0, 1,\n",
       "       0, 0, 1, 1, 1, 0, 0, 1, 1, 0, 0, 0, 0, 0, 1, 1, 1, 1, 1, 1, 1, 0,\n",
       "       1, 0, 0, 0, 1, 1, 0, 1, 1, 0, 1, 0, 1, 1, 1, 1, 0, 1, 1, 0, 1, 0,\n",
       "       1, 1, 1, 1, 1, 1, 1, 1, 1, 1, 0, 0, 0, 1, 0, 1, 1, 1, 1, 0, 1, 1,\n",
       "       0, 0, 0, 1, 1, 1, 0, 0, 1, 1, 1, 1, 0, 0, 1, 1, 1, 1, 1, 0, 1, 1,\n",
       "       1, 1, 0, 1, 1, 1, 1, 1, 1, 1, 1, 1, 1, 1, 0, 0, 0, 1, 0, 1, 1, 1,\n",
       "       0, 0, 0, 1, 0, 0, 0, 1, 1, 1, 1, 1, 1, 1, 0, 1, 1, 0, 1, 1, 1, 1,\n",
       "       1, 1, 1, 1, 0, 1, 0, 1, 1, 1, 0, 1, 1, 1, 0, 1, 1, 0, 1, 1, 1, 0,\n",
       "       1, 0, 1, 1, 0, 1, 1, 1, 1, 1, 0, 0, 1, 0, 0, 0, 1, 0, 0, 0, 1, 1,\n",
       "       1, 0, 1, 1, 0, 0, 1, 0, 1, 0, 0, 0, 1, 1, 1, 1, 0, 0, 0, 1, 1, 1,\n",
       "       0, 0, 0, 1, 0, 1, 0, 0, 1, 1, 1, 1, 0, 1, 1, 0, 1, 1, 0, 0, 0, 1,\n",
       "       0, 0, 1, 0, 0, 1, 1, 0, 0, 0, 1, 0, 0, 1, 1, 1, 1, 0, 1, 1, 1, 1,\n",
       "       0, 0, 1, 0, 1, 1, 1, 1, 1, 0, 1, 0, 0, 1, 1, 1, 0, 0, 0, 0, 1, 1,\n",
       "       0, 1, 1, 1, 1, 1, 1, 1, 0, 0, 0, 1, 1, 1, 1, 1, 0, 1, 0, 0, 0, 1,\n",
       "       0, 0, 1, 1, 1, 1, 1, 0, 1, 0, 1, 0, 0, 0, 1, 1, 0, 1, 1, 0, 1, 1,\n",
       "       1, 1, 1, 1, 1, 1, 0, 1])"
      ]
     },
     "execution_count": 24,
     "metadata": {},
     "output_type": "execute_result"
    }
   ],
   "source": [
    "y_pred"
   ]
  },
  {
   "cell_type": "code",
   "execution_count": 25,
   "id": "bf2f1d18",
   "metadata": {
    "execution": {
     "iopub.execute_input": "2024-07-05T09:42:41.303804Z",
     "iopub.status.busy": "2024-07-05T09:42:41.303412Z",
     "iopub.status.idle": "2024-07-05T09:42:41.315226Z",
     "shell.execute_reply": "2024-07-05T09:42:41.313887Z"
    },
    "papermill": {
     "duration": 0.037167,
     "end_time": "2024-07-05T09:42:41.317665",
     "exception": false,
     "start_time": "2024-07-05T09:42:41.280498",
     "status": "completed"
    },
    "tags": []
   },
   "outputs": [
    {
     "name": "stdout",
     "output_type": "stream",
     "text": [
      "F1_score:0.7211\n",
      "Accuracy: 0.723750\n"
     ]
    }
   ],
   "source": [
    "LR_score=accuracy_score(y_test, y_pred)\n",
    "LR_F1_SCORE=f1_score(y_test, y_pred, average='weighted') \n",
    "print('F1_score:%.4f'%LR_F1_SCORE)\n",
    "print('Accuracy: %f' % accuracy_score(y_test, y_pred))"
   ]
  },
  {
   "cell_type": "code",
   "execution_count": 26,
   "id": "d4e9f146",
   "metadata": {
    "execution": {
     "iopub.execute_input": "2024-07-05T09:42:41.350558Z",
     "iopub.status.busy": "2024-07-05T09:42:41.350123Z",
     "iopub.status.idle": "2024-07-05T09:42:41.365834Z",
     "shell.execute_reply": "2024-07-05T09:42:41.364362Z"
    },
    "papermill": {
     "duration": 0.035496,
     "end_time": "2024-07-05T09:42:41.368791",
     "exception": false,
     "start_time": "2024-07-05T09:42:41.333295",
     "status": "completed"
    },
    "tags": []
   },
   "outputs": [
    {
     "name": "stdout",
     "output_type": "stream",
     "text": [
      "              precision    recall  f1-score   support\n",
      "\n",
      "           0       0.63      0.76      0.69       321\n",
      "           1       0.81      0.70      0.75       479\n",
      "\n",
      "    accuracy                           0.72       800\n",
      "   macro avg       0.72      0.73      0.72       800\n",
      "weighted avg       0.74      0.72      0.73       800\n",
      "\n"
     ]
    }
   ],
   "source": [
    "print(classification_report(y_pred, y_test))"
   ]
  },
  {
   "cell_type": "code",
   "execution_count": 27,
   "id": "b149d2c3",
   "metadata": {
    "execution": {
     "iopub.execute_input": "2024-07-05T09:42:41.401976Z",
     "iopub.status.busy": "2024-07-05T09:42:41.401559Z",
     "iopub.status.idle": "2024-07-05T09:42:41.640681Z",
     "shell.execute_reply": "2024-07-05T09:42:41.639620Z"
    },
    "papermill": {
     "duration": 0.258222,
     "end_time": "2024-07-05T09:42:41.643092",
     "exception": false,
     "start_time": "2024-07-05T09:42:41.384870",
     "status": "completed"
    },
    "tags": []
   },
   "outputs": [
    {
     "name": "stdout",
     "output_type": "stream",
     "text": [
      "Confusion matrix, without normalization\n",
      "[[245 145]\n",
      " [ 76 334]]\n"
     ]
    },
    {
     "data": {
      "image/png": "[encoded data removed]",
      "text/plain": [
       "<Figure size 640x480 with 2 Axes>"
      ]
     },
     "metadata": {},
     "output_type": "display_data"
    }
   ],
   "source": [
    "cnf_matrix = confusion_matrix(y_test, y_pred)\n",
    "class_names = ['Approval', 'Not Approval']\n",
    "plot_confusion_matrix(cnf_matrix, classes=class_names, normalize=False, title='Confusion Matrix')\n",
    "plt.show()"
   ]
  },
  {
   "cell_type": "markdown",
   "id": "0decd72e",
   "metadata": {
    "papermill": {
     "duration": 0.015375,
     "end_time": "2024-07-05T09:42:41.674555",
     "exception": false,
     "start_time": "2024-07-05T09:42:41.659180",
     "status": "completed"
    },
    "tags": []
   },
   "source": [
    "# Using SVM"
   ]
  },
  {
   "cell_type": "code",
   "execution_count": 28,
   "id": "5aab74db",
   "metadata": {
    "execution": {
     "iopub.execute_input": "2024-07-05T09:42:41.709083Z",
     "iopub.status.busy": "2024-07-05T09:42:41.708673Z",
     "iopub.status.idle": "2024-07-05T09:42:43.567392Z",
     "shell.execute_reply": "2024-07-05T09:42:43.566266Z"
    },
    "papermill": {
     "duration": 1.878086,
     "end_time": "2024-07-05T09:42:43.569768",
     "exception": false,
     "start_time": "2024-07-05T09:42:41.691682",
     "status": "completed"
    },
    "tags": []
   },
   "outputs": [
    {
     "data": {
      "text/html": [
       "<style>#sk-container-id-1 {color: black;background-color: white;}#sk-container-id-1 pre{padding: 0;}#sk-container-id-1 div.sk-toggleable {background-color: white;}#sk-container-id-1 label.sk-toggleable__label {cursor: pointer;display: block;width: 100%;margin-bottom: 0;padding: 0.3em;box-sizing: border-box;text-align: center;}#sk-container-id-1 label.sk-toggleable__label-arrow:before {content: \"▸\";float: left;margin-right: 0.25em;color: #696969;}#sk-container-id-1 label.sk-toggleable__label-arrow:hover:before {color: black;}#sk-container-id-1 div.sk-estimator:hover label.sk-toggleable__label-arrow:before {color: black;}#sk-container-id-1 div.sk-toggleable__content {max-height: 0;max-width: 0;overflow: hidden;text-align: left;background-color: #f0f8ff;}#sk-container-id-1 div.sk-toggleable__content pre {margin: 0.2em;color: black;border-radius: 0.25em;background-color: #f0f8ff;}#sk-container-id-1 input.sk-toggleable__control:checked~div.sk-toggleable__content {max-height: 200px;max-width: 100%;overflow: auto;}#sk-container-id-1 input.sk-toggleable__control:checked~label.sk-toggleable__label-arrow:before {content: \"▾\";}#sk-container-id-1 div.sk-estimator input.sk-toggleable__control:checked~label.sk-toggleable__label {background-color: #d4ebff;}#sk-container-id-1 div.sk-label input.sk-toggleable__control:checked~label.sk-toggleable__label {background-color: #d4ebff;}#sk-container-id-1 input.sk-hidden--visually {border: 0;clip: rect(1px 1px 1px 1px);clip: rect(1px, 1px, 1px, 1px);height: 1px;margin: -1px;overflow: hidden;padding: 0;position: absolute;width: 1px;}#sk-container-id-1 div.sk-estimator {font-family: monospace;background-color: #f0f8ff;border: 1px dotted black;border-radius: 0.25em;box-sizing: border-box;margin-bottom: 0.5em;}#sk-container-id-1 div.sk-estimator:hover {background-color: #d4ebff;}#sk-container-id-1 div.sk-parallel-item::after {content: \"\";width: 100%;border-bottom: 1px solid gray;flex-grow: 1;}#sk-container-id-1 div.sk-label:hover label.sk-toggleable__label {background-color: #d4ebff;}#sk-container-id-1 div.sk-serial::before {content: \"\";position: absolute;border-left: 1px solid gray;box-sizing: border-box;top: 0;bottom: 0;left: 50%;z-index: 0;}#sk-container-id-1 div.sk-serial {display: flex;flex-direction: column;align-items: center;background-color: white;padding-right: 0.2em;padding-left: 0.2em;position: relative;}#sk-container-id-1 div.sk-item {position: relative;z-index: 1;}#sk-container-id-1 div.sk-parallel {display: flex;align-items: stretch;justify-content: center;background-color: white;position: relative;}#sk-container-id-1 div.sk-item::before, #sk-container-id-1 div.sk-parallel-item::before {content: \"\";position: absolute;border-left: 1px solid gray;box-sizing: border-box;top: 0;bottom: 0;left: 50%;z-index: -1;}#sk-container-id-1 div.sk-parallel-item {display: flex;flex-direction: column;z-index: 1;position: relative;background-color: white;}#sk-container-id-1 div.sk-parallel-item:first-child::after {align-self: flex-end;width: 50%;}#sk-container-id-1 div.sk-parallel-item:last-child::after {align-self: flex-start;width: 50%;}#sk-container-id-1 div.sk-parallel-item:only-child::after {width: 0;}#sk-container-id-1 div.sk-dashed-wrapped {border: 1px dashed gray;margin: 0 0.4em 0.5em 0.4em;box-sizing: border-box;padding-bottom: 0.4em;background-color: white;}#sk-container-id-1 div.sk-label label {font-family: monospace;font-weight: bold;display: inline-block;line-height: 1.2em;}#sk-container-id-1 div.sk-label-container {text-align: center;}#sk-container-id-1 div.sk-container {/* jupyter's `normalize.less` sets `[hidden] { display: none; }` but bootstrap.min.css set `[hidden] { display: none !important; }` so we also need the `!important` here to be able to override the default hidden behavior on the sphinx rendered scikit-learn.org. See: https://github.com/scikit-learn/scikit-learn/issues/21755 */display: inline-block !important;position: relative;}#sk-container-id-1 div.sk-text-repr-fallback {display: none;}</style><div id=\"sk-container-id-1\" class=\"sk-top-container\"><div class=\"sk-text-repr-fallback\"><pre>SVC(C=10, gamma=1)</pre><b>In a Jupyter environment, please rerun this cell to show the HTML representation or trust the notebook. <br />On GitHub, the HTML representation is unable to render, please try loading this page with nbviewer.org.</b></div><div class=\"sk-container\" hidden><div class=\"sk-item\"><div class=\"sk-estimator sk-toggleable\"><input class=\"sk-toggleable__control sk-hidden--visually\" id=\"sk-estimator-id-1\" type=\"checkbox\" checked><label for=\"sk-estimator-id-1\" class=\"sk-toggleable__label sk-toggleable__label-arrow\">SVC</label><div class=\"sk-toggleable__content\"><pre>SVC(C=10, gamma=1)</pre></div></div></div></div></div>"
      ],
      "text/plain": [
       "SVC(C=10, gamma=1)"
      ]
     },
     "execution_count": 28,
     "metadata": {},
     "output_type": "execute_result"
    }
   ],
   "source": [
    "clf = svm.SVC(C=10, gamma =1,kernel='rbf')\n",
    "clf.fit(X_train, y_train) "
   ]
  },
  {
   "cell_type": "code",
   "execution_count": 29,
   "id": "822101c0",
   "metadata": {
    "execution": {
     "iopub.execute_input": "2024-07-05T09:42:43.604936Z",
     "iopub.status.busy": "2024-07-05T09:42:43.603963Z",
     "iopub.status.idle": "2024-07-05T09:42:43.739509Z",
     "shell.execute_reply": "2024-07-05T09:42:43.738449Z"
    },
    "papermill": {
     "duration": 0.155544,
     "end_time": "2024-07-05T09:42:43.741895",
     "exception": false,
     "start_time": "2024-07-05T09:42:43.586351",
     "status": "completed"
    },
    "tags": []
   },
   "outputs": [
    {
     "data": {
      "text/plain": [
       "array([0, 0, 1, 1, 1, 1, 1, 1, 1, 1, 1, 1, 0, 0, 1, 1, 0, 1, 1, 0, 1, 1,\n",
       "       1, 1, 1, 0, 1, 1, 1, 1, 1, 1, 0, 1, 1, 1, 1, 0, 0, 1, 0, 0, 0, 0,\n",
       "       0, 1, 1, 0, 1, 0, 0, 0, 0, 0, 0, 1, 1, 0, 1, 0, 0, 1, 0, 1, 1, 1,\n",
       "       0, 1, 1, 0, 0, 0, 1, 1, 1, 0, 0, 0, 0, 0, 1, 1, 0, 1, 0, 0, 1, 1,\n",
       "       1, 0, 1, 1, 1, 0, 0, 1, 1, 0, 0, 0, 0, 1, 1, 1, 0, 1, 1, 1, 1, 0,\n",
       "       0, 1, 1, 1, 0, 0, 0, 1, 1, 0, 1, 1, 1, 1, 0, 1, 1, 0, 1, 0, 1, 1,\n",
       "       1, 0, 1, 0, 0, 0, 1, 1, 1, 0, 0, 1, 1, 0, 1, 0, 1, 0, 0, 0, 1, 1,\n",
       "       0, 0, 0, 1, 0, 0, 0, 0, 0, 1, 1, 0, 1, 0, 1, 1, 1, 0, 1, 0, 1, 1,\n",
       "       1, 1, 1, 1, 0, 0, 0, 0, 0, 1, 1, 0, 0, 1, 0, 0, 1, 1, 0, 0, 1, 0,\n",
       "       0, 1, 0, 0, 0, 1, 0, 1, 1, 1, 1, 0, 0, 1, 1, 1, 1, 1, 0, 1, 1, 0,\n",
       "       0, 0, 1, 1, 0, 0, 0, 1, 1, 1, 1, 1, 0, 1, 1, 1, 0, 0, 1, 1, 0, 1,\n",
       "       0, 1, 1, 0, 1, 1, 0, 0, 0, 1, 1, 0, 1, 0, 1, 0, 1, 0, 0, 0, 0, 0,\n",
       "       1, 1, 0, 0, 1, 0, 1, 1, 1, 0, 1, 0, 1, 1, 0, 1, 0, 0, 1, 1, 1, 1,\n",
       "       1, 1, 0, 1, 0, 0, 0, 1, 1, 1, 1, 1, 0, 0, 1, 1, 0, 0, 0, 0, 0, 1,\n",
       "       0, 1, 0, 0, 0, 0, 0, 1, 0, 0, 1, 1, 1, 0, 1, 1, 1, 1, 1, 1, 1, 0,\n",
       "       1, 1, 1, 0, 0, 1, 0, 1, 1, 1, 0, 1, 1, 1, 0, 1, 0, 1, 0, 0, 1, 0,\n",
       "       1, 1, 1, 1, 1, 0, 1, 0, 0, 1, 1, 0, 1, 0, 0, 0, 0, 1, 1, 0, 0, 0,\n",
       "       1, 0, 1, 1, 0, 0, 1, 0, 1, 0, 0, 0, 0, 1, 0, 1, 1, 1, 1, 1, 1, 1,\n",
       "       1, 0, 0, 0, 1, 1, 1, 0, 1, 0, 0, 1, 1, 1, 1, 1, 0, 1, 1, 0, 1, 0,\n",
       "       1, 0, 0, 0, 0, 1, 0, 1, 1, 1, 1, 1, 1, 0, 1, 1, 0, 0, 1, 0, 0, 1,\n",
       "       1, 1, 1, 1, 1, 0, 1, 0, 0, 0, 1, 0, 1, 1, 1, 0, 1, 0, 0, 0, 0, 1,\n",
       "       0, 0, 1, 1, 0, 1, 0, 0, 1, 0, 1, 0, 1, 0, 0, 0, 1, 0, 0, 1, 1, 1,\n",
       "       0, 0, 1, 1, 1, 1, 1, 0, 0, 0, 0, 0, 0, 0, 1, 0, 0, 1, 1, 1, 0, 0,\n",
       "       0, 0, 0, 0, 1, 0, 1, 1, 0, 1, 1, 1, 1, 0, 0, 1, 1, 1, 1, 0, 0, 0,\n",
       "       1, 1, 1, 1, 1, 1, 1, 0, 1, 0, 1, 1, 0, 0, 1, 1, 1, 1, 1, 1, 1, 0,\n",
       "       0, 1, 0, 1, 1, 1, 0, 0, 1, 1, 1, 0, 0, 0, 1, 1, 1, 1, 0, 0, 1, 0,\n",
       "       0, 1, 0, 1, 1, 1, 0, 0, 1, 1, 1, 1, 1, 1, 1, 0, 0, 0, 0, 1, 1, 1,\n",
       "       0, 0, 0, 0, 0, 0, 0, 1, 1, 1, 1, 1, 0, 1, 0, 0, 1, 0, 1, 1, 1, 1,\n",
       "       1, 1, 0, 1, 0, 1, 0, 1, 1, 1, 1, 1, 1, 0, 0, 1, 1, 0, 1, 1, 1, 0,\n",
       "       0, 0, 0, 1, 0, 0, 0, 1, 1, 1, 0, 0, 1, 0, 0, 0, 0, 0, 0, 0, 1, 1,\n",
       "       1, 1, 1, 1, 0, 0, 1, 1, 1, 0, 0, 0, 1, 0, 0, 1, 0, 1, 0, 1, 0, 1,\n",
       "       0, 0, 0, 1, 0, 1, 1, 0, 1, 1, 0, 0, 0, 1, 0, 1, 1, 1, 1, 0, 0, 0,\n",
       "       1, 0, 1, 1, 0, 1, 1, 1, 0, 0, 1, 0, 1, 1, 1, 1, 1, 1, 1, 1, 1, 1,\n",
       "       0, 0, 1, 0, 1, 1, 0, 1, 1, 0, 0, 0, 0, 1, 1, 1, 0, 1, 0, 1, 0, 0,\n",
       "       0, 1, 1, 1, 0, 1, 0, 1, 1, 1, 0, 1, 1, 1, 0, 1, 0, 1, 0, 0, 0, 1,\n",
       "       0, 1, 0, 1, 0, 1, 1, 0, 1, 0, 0, 0, 0, 0, 0, 1, 0, 0, 1, 0, 0, 0,\n",
       "       1, 1, 1, 1, 1, 1, 0, 1])"
      ]
     },
     "execution_count": 29,
     "metadata": {},
     "output_type": "execute_result"
    }
   ],
   "source": [
    "y_pred = clf.predict(X_test)\n",
    "y_pred "
   ]
  },
  {
   "cell_type": "code",
   "execution_count": 30,
   "id": "a62f677e",
   "metadata": {
    "execution": {
     "iopub.execute_input": "2024-07-05T09:42:43.776203Z",
     "iopub.status.busy": "2024-07-05T09:42:43.775758Z",
     "iopub.status.idle": "2024-07-05T09:42:43.788140Z",
     "shell.execute_reply": "2024-07-05T09:42:43.786848Z"
    },
    "papermill": {
     "duration": 0.032575,
     "end_time": "2024-07-05T09:42:43.790705",
     "exception": false,
     "start_time": "2024-07-05T09:42:43.758130",
     "status": "completed"
    },
    "tags": []
   },
   "outputs": [
    {
     "name": "stdout",
     "output_type": "stream",
     "text": [
      "F1_score:0.8998\n",
      "Accuracy: 0.900000\n"
     ]
    }
   ],
   "source": [
    "SVM_score=accuracy_score(y_test, y_pred)\n",
    "SVM_F1_SCORE=f1_score(y_test, y_pred, average='weighted') \n",
    "print('F1_score:%.4f'%SVM_F1_SCORE)\n",
    "print('Accuracy: %f' % accuracy_score(y_test, y_pred))"
   ]
  },
  {
   "cell_type": "code",
   "execution_count": 31,
   "id": "fd09de0c",
   "metadata": {
    "execution": {
     "iopub.execute_input": "2024-07-05T09:42:43.826877Z",
     "iopub.status.busy": "2024-07-05T09:42:43.826492Z",
     "iopub.status.idle": "2024-07-05T09:42:43.842356Z",
     "shell.execute_reply": "2024-07-05T09:42:43.840620Z"
    },
    "papermill": {
     "duration": 0.03781,
     "end_time": "2024-07-05T09:42:43.844893",
     "exception": false,
     "start_time": "2024-07-05T09:42:43.807083",
     "status": "completed"
    },
    "tags": []
   },
   "outputs": [
    {
     "name": "stdout",
     "output_type": "stream",
     "text": [
      "              precision    recall  f1-score   support\n",
      "\n",
      "           0       0.86      0.93      0.89       364\n",
      "           1       0.93      0.88      0.91       436\n",
      "\n",
      "    accuracy                           0.90       800\n",
      "   macro avg       0.90      0.90      0.90       800\n",
      "weighted avg       0.90      0.90      0.90       800\n",
      "\n"
     ]
    }
   ],
   "source": [
    "print(classification_report(y_pred, y_test))"
   ]
  },
  {
   "cell_type": "code",
   "execution_count": 32,
   "id": "56bb3d84",
   "metadata": {
    "execution": {
     "iopub.execute_input": "2024-07-05T09:42:43.879905Z",
     "iopub.status.busy": "2024-07-05T09:42:43.879146Z",
     "iopub.status.idle": "2024-07-05T09:42:44.124625Z",
     "shell.execute_reply": "2024-07-05T09:42:44.123542Z"
    },
    "papermill": {
     "duration": 0.265718,
     "end_time": "2024-07-05T09:42:44.127035",
     "exception": false,
     "start_time": "2024-07-05T09:42:43.861317",
     "status": "completed"
    },
    "tags": []
   },
   "outputs": [
    {
     "name": "stdout",
     "output_type": "stream",
     "text": [
      "Confusion matrix, without normalization\n",
      "[[337  53]\n",
      " [ 27 383]]\n"
     ]
    },
    {
     "data": {
      "image/png": "[encoded data removed]",
      "text/plain": [
       "<Figure size 640x480 with 2 Axes>"
      ]
     },
     "metadata": {},
     "output_type": "display_data"
    }
   ],
   "source": [
    "cnf_matrix = confusion_matrix(y_test, y_pred)\n",
    "class_names = ['Approval', 'Not Approval']\n",
    "plot_confusion_matrix(cnf_matrix, classes=class_names, normalize=False, title='Confusion Matrix')\n",
    "plt.show()"
   ]
  },
  {
   "cell_type": "markdown",
   "id": "2f2b9b9e",
   "metadata": {
    "papermill": {
     "duration": 0.016687,
     "end_time": "2024-07-05T09:42:44.160902",
     "exception": false,
     "start_time": "2024-07-05T09:42:44.144215",
     "status": "completed"
    },
    "tags": []
   },
   "source": [
    "# Using KNN"
   ]
  },
  {
   "cell_type": "code",
   "execution_count": 33,
   "id": "c8529102",
   "metadata": {
    "execution": {
     "iopub.execute_input": "2024-07-05T09:42:44.196668Z",
     "iopub.status.busy": "2024-07-05T09:42:44.196295Z",
     "iopub.status.idle": "2024-07-05T09:42:44.207629Z",
     "shell.execute_reply": "2024-07-05T09:42:44.206589Z"
    },
    "papermill": {
     "duration": 0.031954,
     "end_time": "2024-07-05T09:42:44.209869",
     "exception": false,
     "start_time": "2024-07-05T09:42:44.177915",
     "status": "completed"
    },
    "tags": []
   },
   "outputs": [
    {
     "data": {
      "text/plain": [
       "array([[ 0.60655907,  0.15438644,  1.3436979 , -1.69548663, -0.1334605 ,\n",
       "         8.83606053, -1.01822154, -0.38036047,  1.79617506,  0.16593426,\n",
       "         0.19506675, -0.83019212, -0.57768769, -0.48178508, -0.4173148 ,\n",
       "         0.52875083],\n",
       "       [-0.6605766 ,  1.40335539, -0.25040737, -0.36162477, -0.1334605 ,\n",
       "        -0.53996897,  0.98210454, -0.38036047, -0.61862476,  1.63350721,\n",
       "        -1.38442112, -0.76798197,  0.53206455, -0.48178508, -0.4173148 ,\n",
       "         0.52875083],\n",
       "       [ 0.35313194, -1.09458251, -0.25040737, -0.36162477, -0.1334605 ,\n",
       "        -0.29743537,  0.98210454, -0.38036047,  1.79617506, -0.07866123,\n",
       "         0.8268619 ,  2.47542914, -0.20777028, -0.48178508, -0.4173148 ,\n",
       "         0.52875083],\n",
       "       [-0.23819804,  1.40335539, -0.25040737,  2.30609895, -0.1334605 ,\n",
       "        -0.23534967, -1.01822154, -0.38036047,  1.79617506,  1.75580496,\n",
       "         0.8268619 ,  1.23688156, -0.20777028, -0.48178508, -0.4173148 ,\n",
       "         0.52875083],\n",
       "       [-0.40714946, -0.78234028,  1.3436979 , -0.36162477, -0.1334605 ,\n",
       "         6.88598872,  0.98210454, -0.38036047,  0.58877515, -1.42393644,\n",
       "         0.8268619 , -0.7708097 , -0.57768769, -0.48178508, -0.4173148 ,\n",
       "         0.52875083]])"
      ]
     },
     "execution_count": 33,
     "metadata": {},
     "output_type": "execute_result"
    }
   ],
   "source": [
    "x_train_norm = preprocessing.StandardScaler().fit(X_train).transform(X_train)\n",
    "x_train_norm[0:5]"
   ]
  },
  {
   "cell_type": "code",
   "execution_count": 34,
   "id": "780da0c7",
   "metadata": {
    "execution": {
     "iopub.execute_input": "2024-07-05T09:42:44.245997Z",
     "iopub.status.busy": "2024-07-05T09:42:44.245600Z",
     "iopub.status.idle": "2024-07-05T09:42:44.255098Z",
     "shell.execute_reply": "2024-07-05T09:42:44.254027Z"
    },
    "papermill": {
     "duration": 0.03039,
     "end_time": "2024-07-05T09:42:44.257451",
     "exception": false,
     "start_time": "2024-07-05T09:42:44.227061",
     "status": "completed"
    },
    "tags": []
   },
   "outputs": [
    {
     "data": {
      "text/html": [
       "<style>#sk-container-id-2 {color: black;background-color: white;}#sk-container-id-2 pre{padding: 0;}#sk-container-id-2 div.sk-toggleable {background-color: white;}#sk-container-id-2 label.sk-toggleable__label {cursor: pointer;display: block;width: 100%;margin-bottom: 0;padding: 0.3em;box-sizing: border-box;text-align: center;}#sk-container-id-2 label.sk-toggleable__label-arrow:before {content: \"▸\";float: left;margin-right: 0.25em;color: #696969;}#sk-container-id-2 label.sk-toggleable__label-arrow:hover:before {color: black;}#sk-container-id-2 div.sk-estimator:hover label.sk-toggleable__label-arrow:before {color: black;}#sk-container-id-2 div.sk-toggleable__content {max-height: 0;max-width: 0;overflow: hidden;text-align: left;background-color: #f0f8ff;}#sk-container-id-2 div.sk-toggleable__content pre {margin: 0.2em;color: black;border-radius: 0.25em;background-color: #f0f8ff;}#sk-container-id-2 input.sk-toggleable__control:checked~div.sk-toggleable__content {max-height: 200px;max-width: 100%;overflow: auto;}#sk-container-id-2 input.sk-toggleable__control:checked~label.sk-toggleable__label-arrow:before {content: \"▾\";}#sk-container-id-2 div.sk-estimator input.sk-toggleable__control:checked~label.sk-toggleable__label {background-color: #d4ebff;}#sk-container-id-2 div.sk-label input.sk-toggleable__control:checked~label.sk-toggleable__label {background-color: #d4ebff;}#sk-container-id-2 input.sk-hidden--visually {border: 0;clip: rect(1px 1px 1px 1px);clip: rect(1px, 1px, 1px, 1px);height: 1px;margin: -1px;overflow: hidden;padding: 0;position: absolute;width: 1px;}#sk-container-id-2 div.sk-estimator {font-family: monospace;background-color: #f0f8ff;border: 1px dotted black;border-radius: 0.25em;box-sizing: border-box;margin-bottom: 0.5em;}#sk-container-id-2 div.sk-estimator:hover {background-color: #d4ebff;}#sk-container-id-2 div.sk-parallel-item::after {content: \"\";width: 100%;border-bottom: 1px solid gray;flex-grow: 1;}#sk-container-id-2 div.sk-label:hover label.sk-toggleable__label {background-color: #d4ebff;}#sk-container-id-2 div.sk-serial::before {content: \"\";position: absolute;border-left: 1px solid gray;box-sizing: border-box;top: 0;bottom: 0;left: 50%;z-index: 0;}#sk-container-id-2 div.sk-serial {display: flex;flex-direction: column;align-items: center;background-color: white;padding-right: 0.2em;padding-left: 0.2em;position: relative;}#sk-container-id-2 div.sk-item {position: relative;z-index: 1;}#sk-container-id-2 div.sk-parallel {display: flex;align-items: stretch;justify-content: center;background-color: white;position: relative;}#sk-container-id-2 div.sk-item::before, #sk-container-id-2 div.sk-parallel-item::before {content: \"\";position: absolute;border-left: 1px solid gray;box-sizing: border-box;top: 0;bottom: 0;left: 50%;z-index: -1;}#sk-container-id-2 div.sk-parallel-item {display: flex;flex-direction: column;z-index: 1;position: relative;background-color: white;}#sk-container-id-2 div.sk-parallel-item:first-child::after {align-self: flex-end;width: 50%;}#sk-container-id-2 div.sk-parallel-item:last-child::after {align-self: flex-start;width: 50%;}#sk-container-id-2 div.sk-parallel-item:only-child::after {width: 0;}#sk-container-id-2 div.sk-dashed-wrapped {border: 1px dashed gray;margin: 0 0.4em 0.5em 0.4em;box-sizing: border-box;padding-bottom: 0.4em;background-color: white;}#sk-container-id-2 div.sk-label label {font-family: monospace;font-weight: bold;display: inline-block;line-height: 1.2em;}#sk-container-id-2 div.sk-label-container {text-align: center;}#sk-container-id-2 div.sk-container {/* jupyter's `normalize.less` sets `[hidden] { display: none; }` but bootstrap.min.css set `[hidden] { display: none !important; }` so we also need the `!important` here to be able to override the default hidden behavior on the sphinx rendered scikit-learn.org. See: https://github.com/scikit-learn/scikit-learn/issues/21755 */display: inline-block !important;position: relative;}#sk-container-id-2 div.sk-text-repr-fallback {display: none;}</style><div id=\"sk-container-id-2\" class=\"sk-top-container\"><div class=\"sk-text-repr-fallback\"><pre>KNeighborsClassifier(n_neighbors=3)</pre><b>In a Jupyter environment, please rerun this cell to show the HTML representation or trust the notebook. <br />On GitHub, the HTML representation is unable to render, please try loading this page with nbviewer.org.</b></div><div class=\"sk-container\" hidden><div class=\"sk-item\"><div class=\"sk-estimator sk-toggleable\"><input class=\"sk-toggleable__control sk-hidden--visually\" id=\"sk-estimator-id-2\" type=\"checkbox\" checked><label for=\"sk-estimator-id-2\" class=\"sk-toggleable__label sk-toggleable__label-arrow\">KNeighborsClassifier</label><div class=\"sk-toggleable__content\"><pre>KNeighborsClassifier(n_neighbors=3)</pre></div></div></div></div></div>"
      ],
      "text/plain": [
       "KNeighborsClassifier(n_neighbors=3)"
      ]
     },
     "execution_count": 34,
     "metadata": {},
     "output_type": "execute_result"
    }
   ],
   "source": [
    "k = 3\n",
    "#Train Model and Predict  \n",
    "neigh = KNeighborsClassifier(n_neighbors = k).fit(x_train_norm,y_train)\n",
    "neigh"
   ]
  },
  {
   "cell_type": "code",
   "execution_count": 35,
   "id": "e7958ea7",
   "metadata": {
    "execution": {
     "iopub.execute_input": "2024-07-05T09:42:44.294425Z",
     "iopub.status.busy": "2024-07-05T09:42:44.293692Z",
     "iopub.status.idle": "2024-07-05T09:42:44.303586Z",
     "shell.execute_reply": "2024-07-05T09:42:44.302494Z"
    },
    "papermill": {
     "duration": 0.031105,
     "end_time": "2024-07-05T09:42:44.305762",
     "exception": false,
     "start_time": "2024-07-05T09:42:44.274657",
     "status": "completed"
    },
    "tags": []
   },
   "outputs": [
    {
     "data": {
      "text/plain": [
       "array([[ 0.14115864, -1.18187372, -1.83072242, -1.78476522, -0.14285714,\n",
       "        -0.52084474,  1.04344279, -0.34931309,  1.87350368, -0.86085376,\n",
       "         0.78549254, -0.81636409, -0.54843917, -0.47083179, -0.39804579,\n",
       "         0.52821529],\n",
       "       [-0.89964239, -0.24666207, -0.27100151,  0.97696046, -0.14285714,\n",
       "         0.4910399 ,  1.04344279, -0.34931309, -0.59366166, -0.61515879,\n",
       "        -0.745682  , -0.29958483,  0.48472724, -0.47083179, -0.39804579,\n",
       "         0.52821529],\n",
       "       [-0.72617555, -0.24666207,  1.28871941,  0.97696046, -0.14285714,\n",
       "         0.70498575, -0.95836592, -0.34931309, -0.59366166,  1.59609597,\n",
       "         0.17302272,  0.10522559, -0.20405037, -0.47083179, -0.39804579,\n",
       "         0.52821529],\n",
       "       [-0.55270871,  1.31202401, -0.27100151, -0.40390238, -0.14285714,\n",
       "        -0.54025834,  1.04344279, -0.34931309, -0.59366166, -0.86085376,\n",
       "         1.09172745,  0.40093816, -0.54843917,  0.41325239,  2.18666711,\n",
       "        -0.46607231],\n",
       "       [-0.20577504,  1.31202401, -1.83072242, -0.40390238, -0.14285714,\n",
       "        -0.18288953,  1.04344279, -0.34931309, -0.59366166, -0.73800628,\n",
       "        -0.745682  ,  0.88039448, -0.20405037,  1.17885107,  2.18666711,\n",
       "        -2.45464752]])"
      ]
     },
     "execution_count": 35,
     "metadata": {},
     "output_type": "execute_result"
    }
   ],
   "source": [
    "x_test_norm = preprocessing.StandardScaler().fit(X_test).transform(X_test)\n",
    "x_test_norm[0:5]"
   ]
  },
  {
   "cell_type": "code",
   "execution_count": 36,
   "id": "5367a88e",
   "metadata": {
    "execution": {
     "iopub.execute_input": "2024-07-05T09:42:44.342550Z",
     "iopub.status.busy": "2024-07-05T09:42:44.342169Z",
     "iopub.status.idle": "2024-07-05T09:42:44.449574Z",
     "shell.execute_reply": "2024-07-05T09:42:44.448525Z"
    },
    "papermill": {
     "duration": 0.128784,
     "end_time": "2024-07-05T09:42:44.452092",
     "exception": false,
     "start_time": "2024-07-05T09:42:44.323308",
     "status": "completed"
    },
    "tags": []
   },
   "outputs": [
    {
     "data": {
      "text/plain": [
       "array([0, 1, 1, 1, 1])"
      ]
     },
     "execution_count": 36,
     "metadata": {},
     "output_type": "execute_result"
    }
   ],
   "source": [
    "y_pred = neigh.predict(x_test_norm)\n",
    "y_pred[0:5]"
   ]
  },
  {
   "cell_type": "code",
   "execution_count": 37,
   "id": "400e3406",
   "metadata": {
    "execution": {
     "iopub.execute_input": "2024-07-05T09:42:44.489023Z",
     "iopub.status.busy": "2024-07-05T09:42:44.488614Z",
     "iopub.status.idle": "2024-07-05T09:42:44.500654Z",
     "shell.execute_reply": "2024-07-05T09:42:44.499398Z"
    },
    "papermill": {
     "duration": 0.033216,
     "end_time": "2024-07-05T09:42:44.502877",
     "exception": false,
     "start_time": "2024-07-05T09:42:44.469661",
     "status": "completed"
    },
    "tags": []
   },
   "outputs": [
    {
     "name": "stdout",
     "output_type": "stream",
     "text": [
      "F1_score:0.9384\n",
      "Test set Accuracy:  0.93875\n"
     ]
    }
   ],
   "source": [
    "knn_score=accuracy_score(y_test, y_pred)\n",
    "kNN_F1_SCORE=f1_score(y_test, y_pred, average='weighted') \n",
    "print('F1_score:%.4f'%kNN_F1_SCORE)\n",
    "print(\"Test set Accuracy: \", accuracy_score(y_test, y_pred))"
   ]
  },
  {
   "cell_type": "code",
   "execution_count": 38,
   "id": "ebb560ef",
   "metadata": {
    "execution": {
     "iopub.execute_input": "2024-07-05T09:42:44.541097Z",
     "iopub.status.busy": "2024-07-05T09:42:44.539794Z",
     "iopub.status.idle": "2024-07-05T09:42:44.555319Z",
     "shell.execute_reply": "2024-07-05T09:42:44.553880Z"
    },
    "papermill": {
     "duration": 0.037057,
     "end_time": "2024-07-05T09:42:44.557741",
     "exception": false,
     "start_time": "2024-07-05T09:42:44.520684",
     "status": "completed"
    },
    "tags": []
   },
   "outputs": [
    {
     "name": "stdout",
     "output_type": "stream",
     "text": [
      "              precision    recall  f1-score   support\n",
      "\n",
      "           0       0.88      1.00      0.93       343\n",
      "           1       1.00      0.89      0.94       457\n",
      "\n",
      "    accuracy                           0.94       800\n",
      "   macro avg       0.94      0.95      0.94       800\n",
      "weighted avg       0.95      0.94      0.94       800\n",
      "\n"
     ]
    }
   ],
   "source": [
    "print(classification_report(y_pred, y_test))"
   ]
  },
  {
   "cell_type": "code",
   "execution_count": 39,
   "id": "ae0f7fdf",
   "metadata": {
    "execution": {
     "iopub.execute_input": "2024-07-05T09:42:44.595423Z",
     "iopub.status.busy": "2024-07-05T09:42:44.595011Z",
     "iopub.status.idle": "2024-07-05T09:42:44.943170Z",
     "shell.execute_reply": "2024-07-05T09:42:44.942006Z"
    },
    "papermill": {
     "duration": 0.370249,
     "end_time": "2024-07-05T09:42:44.945620",
     "exception": false,
     "start_time": "2024-07-05T09:42:44.575371",
     "status": "completed"
    },
    "tags": []
   },
   "outputs": [
    {
     "name": "stdout",
     "output_type": "stream",
     "text": [
      "Confusion matrix, without normalization\n",
      "[[342  48]\n",
      " [  1 409]]\n"
     ]
    },
    {
     "data": {
      "image/png": "[encoded data removed]",
      "text/plain": [
       "<Figure size 640x480 with 2 Axes>"
      ]
     },
     "metadata": {},
     "output_type": "display_data"
    }
   ],
   "source": [
    "cnf_matrix = confusion_matrix(y_test, y_pred)\n",
    "class_names = ['Approval', 'Not Approval']\n",
    "plot_confusion_matrix(cnf_matrix, classes=class_names, normalize=False, title='Confusion Matrix')\n",
    "plt.show()"
   ]
  },
  {
   "cell_type": "markdown",
   "id": "5c96a2ec",
   "metadata": {
    "papermill": {
     "duration": 0.01832,
     "end_time": "2024-07-05T09:42:44.982169",
     "exception": false,
     "start_time": "2024-07-05T09:42:44.963849",
     "status": "completed"
    },
    "tags": []
   },
   "source": [
    "# Using Random Forest"
   ]
  },
  {
   "cell_type": "code",
   "execution_count": 40,
   "id": "5d825ded",
   "metadata": {
    "execution": {
     "iopub.execute_input": "2024-07-05T09:42:45.020388Z",
     "iopub.status.busy": "2024-07-05T09:42:45.019966Z",
     "iopub.status.idle": "2024-07-05T09:42:46.111011Z",
     "shell.execute_reply": "2024-07-05T09:42:46.109793Z"
    },
    "papermill": {
     "duration": 1.113239,
     "end_time": "2024-07-05T09:42:46.113566",
     "exception": false,
     "start_time": "2024-07-05T09:42:45.000327",
     "status": "completed"
    },
    "tags": []
   },
   "outputs": [
    {
     "data": {
      "text/html": [
       "<style>#sk-container-id-3 {color: black;background-color: white;}#sk-container-id-3 pre{padding: 0;}#sk-container-id-3 div.sk-toggleable {background-color: white;}#sk-container-id-3 label.sk-toggleable__label {cursor: pointer;display: block;width: 100%;margin-bottom: 0;padding: 0.3em;box-sizing: border-box;text-align: center;}#sk-container-id-3 label.sk-toggleable__label-arrow:before {content: \"▸\";float: left;margin-right: 0.25em;color: #696969;}#sk-container-id-3 label.sk-toggleable__label-arrow:hover:before {color: black;}#sk-container-id-3 div.sk-estimator:hover label.sk-toggleable__label-arrow:before {color: black;}#sk-container-id-3 div.sk-toggleable__content {max-height: 0;max-width: 0;overflow: hidden;text-align: left;background-color: #f0f8ff;}#sk-container-id-3 div.sk-toggleable__content pre {margin: 0.2em;color: black;border-radius: 0.25em;background-color: #f0f8ff;}#sk-container-id-3 input.sk-toggleable__control:checked~div.sk-toggleable__content {max-height: 200px;max-width: 100%;overflow: auto;}#sk-container-id-3 input.sk-toggleable__control:checked~label.sk-toggleable__label-arrow:before {content: \"▾\";}#sk-container-id-3 div.sk-estimator input.sk-toggleable__control:checked~label.sk-toggleable__label {background-color: #d4ebff;}#sk-container-id-3 div.sk-label input.sk-toggleable__control:checked~label.sk-toggleable__label {background-color: #d4ebff;}#sk-container-id-3 input.sk-hidden--visually {border: 0;clip: rect(1px 1px 1px 1px);clip: rect(1px, 1px, 1px, 1px);height: 1px;margin: -1px;overflow: hidden;padding: 0;position: absolute;width: 1px;}#sk-container-id-3 div.sk-estimator {font-family: monospace;background-color: #f0f8ff;border: 1px dotted black;border-radius: 0.25em;box-sizing: border-box;margin-bottom: 0.5em;}#sk-container-id-3 div.sk-estimator:hover {background-color: #d4ebff;}#sk-container-id-3 div.sk-parallel-item::after {content: \"\";width: 100%;border-bottom: 1px solid gray;flex-grow: 1;}#sk-container-id-3 div.sk-label:hover label.sk-toggleable__label {background-color: #d4ebff;}#sk-container-id-3 div.sk-serial::before {content: \"\";position: absolute;border-left: 1px solid gray;box-sizing: border-box;top: 0;bottom: 0;left: 50%;z-index: 0;}#sk-container-id-3 div.sk-serial {display: flex;flex-direction: column;align-items: center;background-color: white;padding-right: 0.2em;padding-left: 0.2em;position: relative;}#sk-container-id-3 div.sk-item {position: relative;z-index: 1;}#sk-container-id-3 div.sk-parallel {display: flex;align-items: stretch;justify-content: center;background-color: white;position: relative;}#sk-container-id-3 div.sk-item::before, #sk-container-id-3 div.sk-parallel-item::before {content: \"\";position: absolute;border-left: 1px solid gray;box-sizing: border-box;top: 0;bottom: 0;left: 50%;z-index: -1;}#sk-container-id-3 div.sk-parallel-item {display: flex;flex-direction: column;z-index: 1;position: relative;background-color: white;}#sk-container-id-3 div.sk-parallel-item:first-child::after {align-self: flex-end;width: 50%;}#sk-container-id-3 div.sk-parallel-item:last-child::after {align-self: flex-start;width: 50%;}#sk-container-id-3 div.sk-parallel-item:only-child::after {width: 0;}#sk-container-id-3 div.sk-dashed-wrapped {border: 1px dashed gray;margin: 0 0.4em 0.5em 0.4em;box-sizing: border-box;padding-bottom: 0.4em;background-color: white;}#sk-container-id-3 div.sk-label label {font-family: monospace;font-weight: bold;display: inline-block;line-height: 1.2em;}#sk-container-id-3 div.sk-label-container {text-align: center;}#sk-container-id-3 div.sk-container {/* jupyter's `normalize.less` sets `[hidden] { display: none; }` but bootstrap.min.css set `[hidden] { display: none !important; }` so we also need the `!important` here to be able to override the default hidden behavior on the sphinx rendered scikit-learn.org. See: https://github.com/scikit-learn/scikit-learn/issues/21755 */display: inline-block !important;position: relative;}#sk-container-id-3 div.sk-text-repr-fallback {display: none;}</style><div id=\"sk-container-id-3\" class=\"sk-top-container\"><div class=\"sk-text-repr-fallback\"><pre>RandomForestClassifier(criterion=&#x27;entropy&#x27;, min_samples_split=4)</pre><b>In a Jupyter environment, please rerun this cell to show the HTML representation or trust the notebook. <br />On GitHub, the HTML representation is unable to render, please try loading this page with nbviewer.org.</b></div><div class=\"sk-container\" hidden><div class=\"sk-item\"><div class=\"sk-estimator sk-toggleable\"><input class=\"sk-toggleable__control sk-hidden--visually\" id=\"sk-estimator-id-3\" type=\"checkbox\" checked><label for=\"sk-estimator-id-3\" class=\"sk-toggleable__label sk-toggleable__label-arrow\">RandomForestClassifier</label><div class=\"sk-toggleable__content\"><pre>RandomForestClassifier(criterion=&#x27;entropy&#x27;, min_samples_split=4)</pre></div></div></div></div></div>"
      ],
      "text/plain": [
       "RandomForestClassifier(criterion='entropy', min_samples_split=4)"
      ]
     },
     "execution_count": 40,
     "metadata": {},
     "output_type": "execute_result"
    }
   ],
   "source": [
    "forest = RandomForestClassifier(criterion='entropy',max_depth= None, min_samples_leaf= 1, min_samples_split= 4)\n",
    "forest.fit(X_train, y_train)"
   ]
  },
  {
   "cell_type": "code",
   "execution_count": 41,
   "id": "3aee73d8",
   "metadata": {
    "execution": {
     "iopub.execute_input": "2024-07-05T09:42:46.153959Z",
     "iopub.status.busy": "2024-07-05T09:42:46.153585Z",
     "iopub.status.idle": "2024-07-05T09:42:46.182596Z",
     "shell.execute_reply": "2024-07-05T09:42:46.181342Z"
    },
    "papermill": {
     "duration": 0.053348,
     "end_time": "2024-07-05T09:42:46.185370",
     "exception": false,
     "start_time": "2024-07-05T09:42:46.132022",
     "status": "completed"
    },
    "tags": []
   },
   "outputs": [],
   "source": [
    "y_pred = forest.predict(X_test)"
   ]
  },
  {
   "cell_type": "code",
   "execution_count": 42,
   "id": "09f82945",
   "metadata": {
    "execution": {
     "iopub.execute_input": "2024-07-05T09:42:46.223933Z",
     "iopub.status.busy": "2024-07-05T09:42:46.223560Z",
     "iopub.status.idle": "2024-07-05T09:42:46.236594Z",
     "shell.execute_reply": "2024-07-05T09:42:46.234823Z"
    },
    "papermill": {
     "duration": 0.035168,
     "end_time": "2024-07-05T09:42:46.239088",
     "exception": false,
     "start_time": "2024-07-05T09:42:46.203920",
     "status": "completed"
    },
    "tags": []
   },
   "outputs": [
    {
     "name": "stdout",
     "output_type": "stream",
     "text": [
      "F1_score:0.9812\n",
      "Accuracy: 0.981250\n"
     ]
    }
   ],
   "source": [
    "rand_score=accuracy_score(y_test, y_pred)\n",
    "RAnd_F1_SCORE=f1_score(y_test, y_pred, average='weighted') \n",
    "print('F1_score:%.4f'%RAnd_F1_SCORE)\n",
    "print('Accuracy: %f' % accuracy_score(y_test, y_pred))"
   ]
  },
  {
   "cell_type": "code",
   "execution_count": 43,
   "id": "2de324c8",
   "metadata": {
    "execution": {
     "iopub.execute_input": "2024-07-05T09:42:46.277859Z",
     "iopub.status.busy": "2024-07-05T09:42:46.277503Z",
     "iopub.status.idle": "2024-07-05T09:42:46.292329Z",
     "shell.execute_reply": "2024-07-05T09:42:46.290964Z"
    },
    "papermill": {
     "duration": 0.03718,
     "end_time": "2024-07-05T09:42:46.294865",
     "exception": false,
     "start_time": "2024-07-05T09:42:46.257685",
     "status": "completed"
    },
    "tags": []
   },
   "outputs": [
    {
     "name": "stdout",
     "output_type": "stream",
     "text": [
      "              precision    recall  f1-score   support\n",
      "\n",
      "           0       0.96      1.00      0.98       375\n",
      "           1       1.00      0.96      0.98       425\n",
      "\n",
      "    accuracy                           0.98       800\n",
      "   macro avg       0.98      0.98      0.98       800\n",
      "weighted avg       0.98      0.98      0.98       800\n",
      "\n"
     ]
    }
   ],
   "source": [
    "print(classification_report(y_pred, y_test))"
   ]
  },
  {
   "cell_type": "code",
   "execution_count": 44,
   "id": "d566d068",
   "metadata": {
    "execution": {
     "iopub.execute_input": "2024-07-05T09:42:46.334064Z",
     "iopub.status.busy": "2024-07-05T09:42:46.333626Z",
     "iopub.status.idle": "2024-07-05T09:42:46.577206Z",
     "shell.execute_reply": "2024-07-05T09:42:46.576081Z"
    },
    "papermill": {
     "duration": 0.26589,
     "end_time": "2024-07-05T09:42:46.579401",
     "exception": false,
     "start_time": "2024-07-05T09:42:46.313511",
     "status": "completed"
    },
    "tags": []
   },
   "outputs": [
    {
     "name": "stdout",
     "output_type": "stream",
     "text": [
      "Confusion matrix, without normalization\n",
      "[[375  15]\n",
      " [  0 410]]\n"
     ]
    },
    {
     "data": {
      "image/png": "[encoded data removed]",
      "text/plain": [
       "<Figure size 640x480 with 2 Axes>"
      ]
     },
     "metadata": {},
     "output_type": "display_data"
    }
   ],
   "source": [
    "cnf_matrix = confusion_matrix(y_test, y_pred)\n",
    "class_names = ['Approval', 'Not Approval']\n",
    "plot_confusion_matrix(cnf_matrix, classes=class_names, normalize=False, title='Confusion Matrix')\n",
    "plt.show()"
   ]
  },
  {
   "cell_type": "code",
   "execution_count": 45,
   "id": "2538fc6e",
   "metadata": {
    "execution": {
     "iopub.execute_input": "2024-07-05T09:42:46.619904Z",
     "iopub.status.busy": "2024-07-05T09:42:46.619236Z",
     "iopub.status.idle": "2024-07-05T09:42:46.632444Z",
     "shell.execute_reply": "2024-07-05T09:42:46.631210Z"
    },
    "papermill": {
     "duration": 0.035881,
     "end_time": "2024-07-05T09:42:46.634626",
     "exception": false,
     "start_time": "2024-07-05T09:42:46.598745",
     "status": "completed"
    },
    "tags": []
   },
   "outputs": [
    {
     "data": {
      "text/html": [
       "<div>\n",
       "<style scoped>\n",
       "    .dataframe tbody tr th:only-of-type {\n",
       "        vertical-align: middle;\n",
       "    }\n",
       "\n",
       "    .dataframe tbody tr th {\n",
       "        vertical-align: top;\n",
       "    }\n",
       "\n",
       "    .dataframe thead th {\n",
       "        text-align: right;\n",
       "    }\n",
       "</style>\n",
       "<table border=\"1\" class=\"dataframe\">\n",
       "  <thead>\n",
       "    <tr style=\"text-align: right;\">\n",
       "      <th></th>\n",
       "      <th>Algorithm</th>\n",
       "      <th>Accuracy</th>\n",
       "      <th>F1_SCORE</th>\n",
       "    </tr>\n",
       "  </thead>\n",
       "  <tbody>\n",
       "    <tr>\n",
       "      <th>0</th>\n",
       "      <td>logistic regression</td>\n",
       "      <td>72.375</td>\n",
       "      <td>72.106608</td>\n",
       "    </tr>\n",
       "    <tr>\n",
       "      <th>1</th>\n",
       "      <td>SVM</td>\n",
       "      <td>93.875</td>\n",
       "      <td>93.844650</td>\n",
       "    </tr>\n",
       "    <tr>\n",
       "      <th>2</th>\n",
       "      <td>KNN</td>\n",
       "      <td>90.000</td>\n",
       "      <td>89.981251</td>\n",
       "    </tr>\n",
       "    <tr>\n",
       "      <th>3</th>\n",
       "      <td>Random forest</td>\n",
       "      <td>98.000</td>\n",
       "      <td>98.123459</td>\n",
       "    </tr>\n",
       "  </tbody>\n",
       "</table>\n",
       "</div>"
      ],
      "text/plain": [
       "             Algorithm  Accuracy   F1_SCORE\n",
       "0  logistic regression    72.375  72.106608\n",
       "1                  SVM    93.875  93.844650\n",
       "2                  KNN    90.000  89.981251\n",
       "3        Random forest    98.000  98.123459"
      ]
     },
     "execution_count": 45,
     "metadata": {},
     "output_type": "execute_result"
    }
   ],
   "source": [
    "Accuracy=[LR_score*100,knn_score*100,SVM_score*100,round(rand_score*100)]\n",
    "Algorithm=['logistic regression','SVM','KNN','Random forest']\n",
    "f1_score=[LR_F1_SCORE*100,kNN_F1_SCORE*100,SVM_F1_SCORE*100,RAnd_F1_SCORE*100]\n",
    "data={'Algorithm':Algorithm,'Accuracy':Accuracy,'F1_SCORE':f1_score}\n",
    "Report=pd.DataFrame(data=data)\n",
    "Report"
   ]
  },
  {
   "cell_type": "markdown",
   "id": "1be267f1",
   "metadata": {
    "papermill": {
     "duration": 0.018923,
     "end_time": "2024-07-05T09:42:46.672806",
     "exception": false,
     "start_time": "2024-07-05T09:42:46.653883",
     "status": "completed"
    },
    "tags": []
   },
   "source": [
    "# RNN Approch"
   ]
  },
  {
   "cell_type": "markdown",
   "id": "97a75973",
   "metadata": {
    "papermill": {
     "duration": 0.019187,
     "end_time": "2024-07-05T09:42:46.711276",
     "exception": false,
     "start_time": "2024-07-05T09:42:46.692089",
     "status": "completed"
    },
    "tags": []
   },
   "source": [
    "<h3>LSTM:</h3>\n",
    "LSTM (Long Short-Term Memory) is a type of Recurrent Neural Network (RNN). Both LSTM and traditional RNNs are neural network architectures designed for processing sequences of data. They are particularly well-suited for tasks involving sequential or time-dependent patterns, such as time series analysis, natural language processing, and speech recognition."
   ]
  },
  {
   "cell_type": "code",
   "execution_count": 46,
   "id": "dc4369da",
   "metadata": {
    "execution": {
     "iopub.execute_input": "2024-07-05T09:42:46.752219Z",
     "iopub.status.busy": "2024-07-05T09:42:46.751818Z",
     "iopub.status.idle": "2024-07-05T09:43:37.096658Z",
     "shell.execute_reply": "2024-07-05T09:43:37.095404Z"
    },
    "papermill": {
     "duration": 50.367822,
     "end_time": "2024-07-05T09:43:37.099152",
     "exception": false,
     "start_time": "2024-07-05T09:42:46.731330",
     "status": "completed"
    },
    "tags": []
   },
   "outputs": [
    {
     "name": "stderr",
     "output_type": "stream",
     "text": [
      "2024-07-05 09:42:48.958028: E external/local_xla/xla/stream_executor/cuda/cuda_dnn.cc:9261] Unable to register cuDNN factory: Attempting to register factory for plugin cuDNN when one has already been registered\n",
      "2024-07-05 09:42:48.958176: E external/local_xla/xla/stream_executor/cuda/cuda_fft.cc:607] Unable to register cuFFT factory: Attempting to register factory for plugin cuFFT when one has already been registered\n",
      "2024-07-05 09:42:49.118163: E external/local_xla/xla/stream_executor/cuda/cuda_blas.cc:1515] Unable to register cuBLAS factory: Attempting to register factory for plugin cuBLAS when one has already been registered\n"
     ]
    },
    {
     "name": "stdout",
     "output_type": "stream",
     "text": [
      "Epoch 1/50\n",
      "225/225 [==============================] - 3s 6ms/step - loss: 0.6545 - accuracy: 0.6358 - val_loss: 0.5991 - val_accuracy: 0.6988\n",
      "Epoch 2/50\n",
      "225/225 [==============================] - 1s 3ms/step - loss: 0.5767 - accuracy: 0.7013 - val_loss: 0.5327 - val_accuracy: 0.7588\n",
      "Epoch 3/50\n",
      "225/225 [==============================] - 1s 3ms/step - loss: 0.5155 - accuracy: 0.7611 - val_loss: 0.4839 - val_accuracy: 0.7925\n",
      "Epoch 4/50\n",
      "225/225 [==============================] - 1s 3ms/step - loss: 0.4870 - accuracy: 0.7829 - val_loss: 0.4730 - val_accuracy: 0.8037\n",
      "Epoch 5/50\n",
      "225/225 [==============================] - 1s 3ms/step - loss: 0.4774 - accuracy: 0.7900 - val_loss: 0.4693 - val_accuracy: 0.8037\n",
      "Epoch 6/50\n",
      "225/225 [==============================] - 1s 3ms/step - loss: 0.4727 - accuracy: 0.7894 - val_loss: 0.4685 - val_accuracy: 0.7975\n",
      "Epoch 7/50\n",
      "225/225 [==============================] - 1s 3ms/step - loss: 0.4713 - accuracy: 0.7942 - val_loss: 0.4685 - val_accuracy: 0.7975\n",
      "Epoch 8/50\n",
      "225/225 [==============================] - 1s 3ms/step - loss: 0.4703 - accuracy: 0.7907 - val_loss: 0.4683 - val_accuracy: 0.8012\n",
      "Epoch 9/50\n",
      "225/225 [==============================] - 1s 3ms/step - loss: 0.4679 - accuracy: 0.7928 - val_loss: 0.4648 - val_accuracy: 0.8100\n",
      "Epoch 10/50\n",
      "225/225 [==============================] - 1s 3ms/step - loss: 0.4658 - accuracy: 0.7939 - val_loss: 0.4670 - val_accuracy: 0.8000\n",
      "Epoch 11/50\n",
      "225/225 [==============================] - 1s 3ms/step - loss: 0.4645 - accuracy: 0.7950 - val_loss: 0.4623 - val_accuracy: 0.8000\n",
      "Epoch 12/50\n",
      "225/225 [==============================] - 1s 3ms/step - loss: 0.4626 - accuracy: 0.7921 - val_loss: 0.4600 - val_accuracy: 0.8087\n",
      "Epoch 13/50\n",
      "225/225 [==============================] - 1s 3ms/step - loss: 0.4606 - accuracy: 0.7956 - val_loss: 0.4605 - val_accuracy: 0.8112\n",
      "Epoch 14/50\n",
      "225/225 [==============================] - 1s 3ms/step - loss: 0.4603 - accuracy: 0.7936 - val_loss: 0.4576 - val_accuracy: 0.8125\n",
      "Epoch 15/50\n",
      "225/225 [==============================] - 1s 3ms/step - loss: 0.4572 - accuracy: 0.7993 - val_loss: 0.4547 - val_accuracy: 0.8100\n",
      "Epoch 16/50\n",
      "225/225 [==============================] - 1s 3ms/step - loss: 0.4573 - accuracy: 0.7976 - val_loss: 0.4532 - val_accuracy: 0.8150\n",
      "Epoch 17/50\n",
      "225/225 [==============================] - 1s 3ms/step - loss: 0.4564 - accuracy: 0.7942 - val_loss: 0.4515 - val_accuracy: 0.8125\n",
      "Epoch 18/50\n",
      "225/225 [==============================] - 1s 3ms/step - loss: 0.4534 - accuracy: 0.7967 - val_loss: 0.4520 - val_accuracy: 0.8112\n",
      "Epoch 19/50\n",
      "225/225 [==============================] - 1s 3ms/step - loss: 0.4522 - accuracy: 0.7962 - val_loss: 0.4490 - val_accuracy: 0.8175\n",
      "Epoch 20/50\n",
      "225/225 [==============================] - 1s 3ms/step - loss: 0.4516 - accuracy: 0.7951 - val_loss: 0.4484 - val_accuracy: 0.8112\n",
      "Epoch 21/50\n",
      "225/225 [==============================] - 1s 3ms/step - loss: 0.4488 - accuracy: 0.7990 - val_loss: 0.4451 - val_accuracy: 0.8150\n",
      "Epoch 22/50\n",
      "225/225 [==============================] - 1s 3ms/step - loss: 0.4472 - accuracy: 0.7961 - val_loss: 0.4472 - val_accuracy: 0.8037\n",
      "Epoch 23/50\n",
      "225/225 [==============================] - 1s 3ms/step - loss: 0.4474 - accuracy: 0.7990 - val_loss: 0.4441 - val_accuracy: 0.8175\n",
      "Epoch 24/50\n",
      "225/225 [==============================] - 1s 3ms/step - loss: 0.4442 - accuracy: 0.7967 - val_loss: 0.4415 - val_accuracy: 0.8138\n",
      "Epoch 25/50\n",
      "225/225 [==============================] - 1s 3ms/step - loss: 0.4441 - accuracy: 0.7972 - val_loss: 0.4413 - val_accuracy: 0.8175\n",
      "Epoch 26/50\n",
      "225/225 [==============================] - 1s 3ms/step - loss: 0.4432 - accuracy: 0.7983 - val_loss: 0.4396 - val_accuracy: 0.8100\n",
      "Epoch 27/50\n",
      "225/225 [==============================] - 1s 3ms/step - loss: 0.4409 - accuracy: 0.7986 - val_loss: 0.4383 - val_accuracy: 0.8150\n",
      "Epoch 28/50\n",
      "225/225 [==============================] - 1s 3ms/step - loss: 0.4393 - accuracy: 0.8003 - val_loss: 0.4368 - val_accuracy: 0.8062\n",
      "Epoch 29/50\n",
      "225/225 [==============================] - 1s 3ms/step - loss: 0.4387 - accuracy: 0.8001 - val_loss: 0.4405 - val_accuracy: 0.8163\n",
      "Epoch 30/50\n",
      "225/225 [==============================] - 1s 3ms/step - loss: 0.4380 - accuracy: 0.7996 - val_loss: 0.4342 - val_accuracy: 0.8112\n",
      "Epoch 31/50\n",
      "225/225 [==============================] - 1s 3ms/step - loss: 0.4360 - accuracy: 0.8001 - val_loss: 0.4451 - val_accuracy: 0.8100\n",
      "Epoch 32/50\n",
      "225/225 [==============================] - 1s 3ms/step - loss: 0.4359 - accuracy: 0.7958 - val_loss: 0.4309 - val_accuracy: 0.8175\n",
      "Epoch 33/50\n",
      "225/225 [==============================] - 1s 3ms/step - loss: 0.4332 - accuracy: 0.8028 - val_loss: 0.4303 - val_accuracy: 0.8087\n",
      "Epoch 34/50\n",
      "225/225 [==============================] - 1s 3ms/step - loss: 0.4315 - accuracy: 0.8031 - val_loss: 0.4292 - val_accuracy: 0.8100\n",
      "Epoch 35/50\n",
      "225/225 [==============================] - 1s 3ms/step - loss: 0.4303 - accuracy: 0.8032 - val_loss: 0.4276 - val_accuracy: 0.8188\n",
      "Epoch 36/50\n",
      "225/225 [==============================] - 1s 3ms/step - loss: 0.4293 - accuracy: 0.8024 - val_loss: 0.4268 - val_accuracy: 0.8263\n",
      "Epoch 37/50\n",
      "225/225 [==============================] - 1s 3ms/step - loss: 0.4281 - accuracy: 0.8054 - val_loss: 0.4274 - val_accuracy: 0.8163\n",
      "Epoch 38/50\n",
      "225/225 [==============================] - 1s 3ms/step - loss: 0.4270 - accuracy: 0.8060 - val_loss: 0.4242 - val_accuracy: 0.8163\n",
      "Epoch 39/50\n",
      "225/225 [==============================] - 1s 3ms/step - loss: 0.4258 - accuracy: 0.8057 - val_loss: 0.4228 - val_accuracy: 0.8200\n",
      "Epoch 40/50\n",
      "225/225 [==============================] - 1s 3ms/step - loss: 0.4244 - accuracy: 0.8058 - val_loss: 0.4258 - val_accuracy: 0.8075\n",
      "Epoch 41/50\n",
      "225/225 [==============================] - 1s 3ms/step - loss: 0.4238 - accuracy: 0.8049 - val_loss: 0.4205 - val_accuracy: 0.8263\n",
      "Epoch 42/50\n",
      "225/225 [==============================] - 1s 3ms/step - loss: 0.4224 - accuracy: 0.8083 - val_loss: 0.4215 - val_accuracy: 0.8163\n",
      "Epoch 43/50\n",
      "225/225 [==============================] - 1s 3ms/step - loss: 0.4211 - accuracy: 0.8078 - val_loss: 0.4226 - val_accuracy: 0.8150\n",
      "Epoch 44/50\n",
      "225/225 [==============================] - 1s 3ms/step - loss: 0.4210 - accuracy: 0.8076 - val_loss: 0.4191 - val_accuracy: 0.8275\n",
      "Epoch 45/50\n",
      "225/225 [==============================] - 1s 3ms/step - loss: 0.4198 - accuracy: 0.8085 - val_loss: 0.4162 - val_accuracy: 0.8175\n",
      "Epoch 46/50\n",
      "225/225 [==============================] - 1s 3ms/step - loss: 0.4195 - accuracy: 0.8096 - val_loss: 0.4179 - val_accuracy: 0.8188\n",
      "Epoch 47/50\n",
      "225/225 [==============================] - 1s 3ms/step - loss: 0.4175 - accuracy: 0.8092 - val_loss: 0.4196 - val_accuracy: 0.8263\n",
      "Epoch 48/50\n",
      "225/225 [==============================] - 1s 3ms/step - loss: 0.4171 - accuracy: 0.8107 - val_loss: 0.4201 - val_accuracy: 0.8112\n",
      "Epoch 49/50\n",
      "225/225 [==============================] - 1s 3ms/step - loss: 0.4166 - accuracy: 0.8086 - val_loss: 0.4128 - val_accuracy: 0.8238\n",
      "Epoch 50/50\n",
      "225/225 [==============================] - 1s 3ms/step - loss: 0.4153 - accuracy: 0.8092 - val_loss: 0.4136 - val_accuracy: 0.8213\n",
      "25/25 [==============================] - 0s 2ms/step - loss: 0.4136 - accuracy: 0.8213\n",
      "Model Accuracy: 82.13%\n"
     ]
    }
   ],
   "source": [
    "import tensorflow as tf\n",
    "from tensorflow.keras.models import Sequential\n",
    "from tensorflow.keras.layers import LSTM, Dense\n",
    "# Reshape data for LSTM (assuming you have a time series dataset)\n",
    "X_train_lstm = X_train.reshape((X_train.shape[0], 1, X_train.shape[1]))\n",
    "X_test_lstm = X_test.reshape((X_test.shape[0], 1, X_test.shape[1]))\n",
    "\n",
    "# Build LSTM model\n",
    "model = Sequential()\n",
    "model.add(LSTM(50, input_shape=(X_train_lstm.shape[1], X_train_lstm.shape[2])))\n",
    "model.add(Dense(1, activation='sigmoid'))  # Assuming binary classification\n",
    "\n",
    "# Compile the model with a specified learning rate\n",
    "optimizer = tf.keras.optimizers.Adam(learning_rate=0.001)  # Adjust the learning rate as needed\n",
    "model.compile(optimizer=optimizer, loss='binary_crossentropy', metrics=['accuracy'])\n",
    "\n",
    "# Train the model\n",
    "model.fit(X_train_lstm, y_train, epochs=50, batch_size=32, validation_data=(X_test_lstm, y_test))\n",
    "\n",
    "# Evaluate the model\n",
    "_, accuracy = model.evaluate(X_test_lstm, y_test)\n",
    "print(f'Model Accuracy: {accuracy * 100:.2f}%')"
   ]
  }
 ],
 "metadata": {
  "kaggle": {
   "accelerator": "none",
   "dataSources": [
    {
     "datasetId": 3574954,
     "sourceId": 8728736,
     "sourceType": "datasetVersion"
    }
   ],
   "dockerImageVersionId": 30646,
   "isGpuEnabled": false,
   "isInternetEnabled": false,
   "language": "python",
   "sourceType": "notebook"
  },
  "kernelspec": {
   "display_name": "Python 3",
   "language": "python",
   "name": "python3"
  },
  "language_info": {
   "codemirror_mode": {
    "name": "ipython",
    "version": 3
   },
   "file_extension": ".py",
   "mimetype": "text/x-python",
   "name": "python",
   "nbconvert_exporter": "python",
   "pygments_lexer": "ipython3",
   "version": "3.10.13"
  },
  "papermill": {
   "default_parameters": {},
   "duration": 67.159513,
   "end_time": "2024-07-05T09:43:39.822391",
   "environment_variables": {},
   "exception": null,
   "input_path": "__notebook__.ipynb",
   "output_path": "__notebook__.ipynb",
   "parameters": {},
   "start_time": "2024-07-05T09:42:32.662878",
   "version": "2.5.0"
  }
 },
 "nbformat": 4,
 "nbformat_minor": 5
}
