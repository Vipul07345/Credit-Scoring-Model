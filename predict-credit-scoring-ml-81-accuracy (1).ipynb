{
 "cells": [
  {
   "cell_type": "markdown",
   "id": "455c7d38",
   "metadata": {
    "_cell_guid": "b1076dfc-b9ad-4769-8c92-a6c4dae69d19",
    "_uuid": "8f2839f25d086af736a60e9eeb907d3b93b6e0e5",
    "papermill": {
     "duration": 0.016902,
     "end_time": "2024-07-05T09:35:27.086493",
     "exception": false,
     "start_time": "2024-07-05T09:35:27.069591",
     "status": "completed"
    },
    "tags": []
   },
   "source": [
    "<h1>Credit Scoring Model</h1>"
   ]
  },
  {
   "cell_type": "markdown",
   "id": "7011bef8",
   "metadata": {
    "papermill": {
     "duration": 0.016064,
     "end_time": "2024-07-05T09:35:27.119183",
     "exception": false,
     "start_time": "2024-07-05T09:35:27.103119",
     "status": "completed"
    },
    "tags": []
   },
   "source": [
    "<h3>Develop a credit scoring model to predict the creditworthiness of individuals based on historical financial data. Utilize classification algorithms and assess the model's accuracy.<h3>"
   ]
  },
  {
   "cell_type": "code",
   "execution_count": 1,
   "id": "57b3831f",
   "metadata": {
    "execution": {
     "iopub.execute_input": "2024-07-05T09:35:27.155033Z",
     "iopub.status.busy": "2024-07-05T09:35:27.154632Z",
     "iopub.status.idle": "2024-07-05T09:35:28.092297Z",
     "shell.execute_reply": "2024-07-05T09:35:28.090678Z"
    },
    "papermill": {
     "duration": 0.959265,
     "end_time": "2024-07-05T09:35:28.094852",
     "exception": false,
     "start_time": "2024-07-05T09:35:27.135587",
     "status": "completed"
    },
    "tags": []
   },
   "outputs": [
    {
     "name": "stdout",
     "output_type": "stream",
     "text": [
      "/kaggle/input/bank-credit-scoring/bank.csv\n",
      "/kaggle/input/bank-credit-scoring/scoring.jpg\n"
     ]
    }
   ],
   "source": [
    "# This Python 3 environment comes with many helpful analytics libraries installed\n",
    "# It is defined by the kaggle/python Docker image: https://github.com/kaggle/docker-python\n",
    "# For example, here's several helpful packages to load\n",
    "\n",
    "import numpy as np # linear algebra\n",
    "import pandas as pd # data processing, CSV file I/O (e.g. pd.read_csv)\n",
    "\n",
    "# Input data files are available in the read-only \"../input/\" directory\n",
    "# For example, running this (by clicking run or pressing Shift+Enter) will list all files under the input directory\n",
    "\n",
    "import os\n",
    "for dirname, _, filenames in os.walk('/kaggle/input'):\n",
    "    for filename in filenames:\n",
    "        print(os.path.join(dirname, filename))\n",
    "\n",
    "# You can write up to 20GB to the current directory (/kaggle/working/) that gets preserved as output when you create a version using \"Save & Run All\" \n",
    "# You can also write temporary files to /kaggle/temp/, but they won't be saved outside of the current session"
   ]
  },
  {
   "cell_type": "code",
   "execution_count": 2,
   "id": "0e841cd1",
   "metadata": {
    "execution": {
     "iopub.execute_input": "2024-07-05T09:35:28.131582Z",
     "iopub.status.busy": "2024-07-05T09:35:28.131048Z",
     "iopub.status.idle": "2024-07-05T09:35:31.210094Z",
     "shell.execute_reply": "2024-07-05T09:35:31.209046Z"
    },
    "papermill": {
     "duration": 3.100025,
     "end_time": "2024-07-05T09:35:31.212870",
     "exception": false,
     "start_time": "2024-07-05T09:35:28.112845",
     "status": "completed"
    },
    "tags": []
   },
   "outputs": [],
   "source": [
    "#Importing The Required Libraries\n",
    "import pandas as pd\n",
    "import seaborn as sns\n",
    "from sklearn import preprocessing\n",
    "import numpy as np\n",
    "import matplotlib.pyplot as plt\n",
    "from sklearn.feature_selection import SelectKBest\n",
    "from sklearn.preprocessing import LabelEncoder\n",
    "from sklearn.preprocessing import MinMaxScaler\n",
    "from sklearn.model_selection import train_test_split\n",
    "from sklearn.neighbors import KNeighborsClassifier\n",
    "from sklearn.svm import SVC\n",
    "from sklearn.naive_bayes import GaussianNB\n",
    "from sklearn.tree import DecisionTreeClassifier\n",
    "from sklearn.ensemble import RandomForestClassifier\n",
    "from sklearn.ensemble import AdaBoostClassifier\n",
    "from sklearn.ensemble import GradientBoostingClassifier\n",
    "import plotly.express as px\n",
    "from sklearn import svm\n",
    "from sklearn.metrics import f1_score\n",
    "from sklearn.linear_model import LogisticRegression\n",
    "from xgboost import XGBClassifier\n",
    "import itertools\n",
    "from imblearn.over_sampling import RandomOverSampler\n",
    "import warnings\n",
    "warnings.filterwarnings(\"ignore\")\n",
    "from sklearn.metrics import classification_report,ConfusionMatrixDisplay,f1_score,confusion_matrix, accuracy_score"
   ]
  },
  {
   "cell_type": "code",
   "execution_count": 3,
   "id": "a35b66e4",
   "metadata": {
    "execution": {
     "iopub.execute_input": "2024-07-05T09:35:31.248245Z",
     "iopub.status.busy": "2024-07-05T09:35:31.247614Z",
     "iopub.status.idle": "2024-07-05T09:35:31.259486Z",
     "shell.execute_reply": "2024-07-05T09:35:31.258352Z"
    },
    "papermill": {
     "duration": 0.032395,
     "end_time": "2024-07-05T09:35:31.262060",
     "exception": false,
     "start_time": "2024-07-05T09:35:31.229665",
     "status": "completed"
    },
    "tags": []
   },
   "outputs": [],
   "source": [
    "def plot_confusion_matrix(cm, classes,\n",
    "                          normalize=False,\n",
    "                          title='Confusion matrix',\n",
    "                          cmap=plt.cm.Blues):\n",
    "    \"\"\"\n",
    "    This function prints and plots the confusion matrix.\n",
    "    Normalization can be applied by setting `normalize=True`.\n",
    "    \"\"\"\n",
    "    if normalize:\n",
    "        cm = cm.astype('float') / cm.sum(axis=1)[:, np.newaxis]\n",
    "        print(\"Normalized confusion matrix\")\n",
    "    else:\n",
    "        print('Confusion matrix, without normalization')\n",
    "\n",
    "    print(cm)\n",
    "\n",
    "    plt.imshow(cm, interpolation='nearest', cmap=cmap)\n",
    "    plt.title(title)\n",
    "    plt.colorbar()\n",
    "    tick_marks = np.arange(len(classes))\n",
    "    plt.xticks(tick_marks, classes, rotation=45)\n",
    "    plt.yticks(tick_marks, classes)\n",
    "\n",
    "    fmt = '.2f' if normalize else 'd'\n",
    "    thresh = cm.max() / 2.\n",
    "    for i, j in itertools.product(range(cm.shape[0]), range(cm.shape[1])):\n",
    "        plt.text(j, i, format(cm[i, j], fmt),\n",
    "                 horizontalalignment=\"center\",\n",
    "                 color=\"white\" if cm[i, j] > thresh else \"black\")\n",
    "\n",
    "    plt.tight_layout()\n",
    "    plt.ylabel('True label')\n",
    "    plt.xlabel('Predicted label')"
   ]
  },
  {
   "cell_type": "code",
   "execution_count": 4,
   "id": "00cd15ea",
   "metadata": {
    "execution": {
     "iopub.execute_input": "2024-07-05T09:35:31.297183Z",
     "iopub.status.busy": "2024-07-05T09:35:31.296764Z",
     "iopub.status.idle": "2024-07-05T09:35:31.354869Z",
     "shell.execute_reply": "2024-07-05T09:35:31.353763Z"
    },
    "papermill": {
     "duration": 0.079118,
     "end_time": "2024-07-05T09:35:31.357942",
     "exception": false,
     "start_time": "2024-07-05T09:35:31.278824",
     "status": "completed"
    },
    "tags": []
   },
   "outputs": [
    {
     "data": {
      "text/html": [
       "<div>\n",
       "<style scoped>\n",
       "    .dataframe tbody tr th:only-of-type {\n",
       "        vertical-align: middle;\n",
       "    }\n",
       "\n",
       "    .dataframe tbody tr th {\n",
       "        vertical-align: top;\n",
       "    }\n",
       "\n",
       "    .dataframe thead th {\n",
       "        text-align: right;\n",
       "    }\n",
       "</style>\n",
       "<table border=\"1\" class=\"dataframe\">\n",
       "  <thead>\n",
       "    <tr style=\"text-align: right;\">\n",
       "      <th></th>\n",
       "      <th>age</th>\n",
       "      <th>job</th>\n",
       "      <th>marital</th>\n",
       "      <th>education</th>\n",
       "      <th>default</th>\n",
       "      <th>balance</th>\n",
       "      <th>housing</th>\n",
       "      <th>loan</th>\n",
       "      <th>contact</th>\n",
       "      <th>day</th>\n",
       "      <th>month</th>\n",
       "      <th>duration</th>\n",
       "      <th>campaign</th>\n",
       "      <th>pdays</th>\n",
       "      <th>previous</th>\n",
       "      <th>poutcome</th>\n",
       "      <th>y</th>\n",
       "    </tr>\n",
       "  </thead>\n",
       "  <tbody>\n",
       "    <tr>\n",
       "      <th>0</th>\n",
       "      <td>30</td>\n",
       "      <td>unemployed</td>\n",
       "      <td>married</td>\n",
       "      <td>primary</td>\n",
       "      <td>no</td>\n",
       "      <td>1787</td>\n",
       "      <td>no</td>\n",
       "      <td>no</td>\n",
       "      <td>cellular</td>\n",
       "      <td>19</td>\n",
       "      <td>oct</td>\n",
       "      <td>79</td>\n",
       "      <td>1</td>\n",
       "      <td>-1</td>\n",
       "      <td>0</td>\n",
       "      <td>unknown</td>\n",
       "      <td>no</td>\n",
       "    </tr>\n",
       "    <tr>\n",
       "      <th>1</th>\n",
       "      <td>33</td>\n",
       "      <td>services</td>\n",
       "      <td>married</td>\n",
       "      <td>secondary</td>\n",
       "      <td>no</td>\n",
       "      <td>4789</td>\n",
       "      <td>yes</td>\n",
       "      <td>yes</td>\n",
       "      <td>cellular</td>\n",
       "      <td>11</td>\n",
       "      <td>may</td>\n",
       "      <td>220</td>\n",
       "      <td>1</td>\n",
       "      <td>339</td>\n",
       "      <td>4</td>\n",
       "      <td>failure</td>\n",
       "      <td>no</td>\n",
       "    </tr>\n",
       "    <tr>\n",
       "      <th>2</th>\n",
       "      <td>35</td>\n",
       "      <td>management</td>\n",
       "      <td>single</td>\n",
       "      <td>tertiary</td>\n",
       "      <td>no</td>\n",
       "      <td>1350</td>\n",
       "      <td>yes</td>\n",
       "      <td>no</td>\n",
       "      <td>cellular</td>\n",
       "      <td>16</td>\n",
       "      <td>apr</td>\n",
       "      <td>185</td>\n",
       "      <td>1</td>\n",
       "      <td>330</td>\n",
       "      <td>1</td>\n",
       "      <td>failure</td>\n",
       "      <td>no</td>\n",
       "    </tr>\n",
       "    <tr>\n",
       "      <th>3</th>\n",
       "      <td>30</td>\n",
       "      <td>management</td>\n",
       "      <td>married</td>\n",
       "      <td>tertiary</td>\n",
       "      <td>no</td>\n",
       "      <td>1476</td>\n",
       "      <td>yes</td>\n",
       "      <td>yes</td>\n",
       "      <td>unknown</td>\n",
       "      <td>3</td>\n",
       "      <td>jun</td>\n",
       "      <td>199</td>\n",
       "      <td>4</td>\n",
       "      <td>-1</td>\n",
       "      <td>0</td>\n",
       "      <td>unknown</td>\n",
       "      <td>no</td>\n",
       "    </tr>\n",
       "    <tr>\n",
       "      <th>4</th>\n",
       "      <td>59</td>\n",
       "      <td>blue-collar</td>\n",
       "      <td>married</td>\n",
       "      <td>secondary</td>\n",
       "      <td>no</td>\n",
       "      <td>0</td>\n",
       "      <td>yes</td>\n",
       "      <td>no</td>\n",
       "      <td>unknown</td>\n",
       "      <td>5</td>\n",
       "      <td>may</td>\n",
       "      <td>226</td>\n",
       "      <td>1</td>\n",
       "      <td>-1</td>\n",
       "      <td>0</td>\n",
       "      <td>unknown</td>\n",
       "      <td>no</td>\n",
       "    </tr>\n",
       "  </tbody>\n",
       "</table>\n",
       "</div>"
      ],
      "text/plain": [
       "   age          job  marital  education default  balance housing loan  \\\n",
       "0   30   unemployed  married    primary      no     1787      no   no   \n",
       "1   33     services  married  secondary      no     4789     yes  yes   \n",
       "2   35   management   single   tertiary      no     1350     yes   no   \n",
       "3   30   management  married   tertiary      no     1476     yes  yes   \n",
       "4   59  blue-collar  married  secondary      no        0     yes   no   \n",
       "\n",
       "    contact  day month  duration  campaign  pdays  previous poutcome   y  \n",
       "0  cellular   19   oct        79         1     -1         0  unknown  no  \n",
       "1  cellular   11   may       220         1    339         4  failure  no  \n",
       "2  cellular   16   apr       185         1    330         1  failure  no  \n",
       "3   unknown    3   jun       199         4     -1         0  unknown  no  \n",
       "4   unknown    5   may       226         1     -1         0  unknown  no  "
      ]
     },
     "execution_count": 4,
     "metadata": {},
     "output_type": "execute_result"
    }
   ],
   "source": [
    "df=pd.read_csv(\"/kaggle/input/bank-credit-scoring/bank.csv\", sep=\";\")\n",
    "df.head()"
   ]
  },
  {
   "cell_type": "code",
   "execution_count": 5,
   "id": "9a072f13",
   "metadata": {
    "execution": {
     "iopub.execute_input": "2024-07-05T09:35:31.394764Z",
     "iopub.status.busy": "2024-07-05T09:35:31.394337Z",
     "iopub.status.idle": "2024-07-05T09:35:31.401274Z",
     "shell.execute_reply": "2024-07-05T09:35:31.400321Z"
    },
    "papermill": {
     "duration": 0.028158,
     "end_time": "2024-07-05T09:35:31.403741",
     "exception": false,
     "start_time": "2024-07-05T09:35:31.375583",
     "status": "completed"
    },
    "tags": []
   },
   "outputs": [
    {
     "data": {
      "text/plain": [
       "(4521, 17)"
      ]
     },
     "execution_count": 5,
     "metadata": {},
     "output_type": "execute_result"
    }
   ],
   "source": [
    "df.shape"
   ]
  },
  {
   "cell_type": "markdown",
   "id": "594b5a06",
   "metadata": {
    "papermill": {
     "duration": 0.017196,
     "end_time": "2024-07-05T09:35:31.438069",
     "exception": false,
     "start_time": "2024-07-05T09:35:31.420873",
     "status": "completed"
    },
    "tags": []
   },
   "source": [
    "# Preprocessing"
   ]
  },
  {
   "cell_type": "code",
   "execution_count": 6,
   "id": "ab7f6948",
   "metadata": {
    "execution": {
     "iopub.execute_input": "2024-07-05T09:35:31.474353Z",
     "iopub.status.busy": "2024-07-05T09:35:31.473915Z",
     "iopub.status.idle": "2024-07-05T09:35:31.489743Z",
     "shell.execute_reply": "2024-07-05T09:35:31.488661Z"
    },
    "papermill": {
     "duration": 0.036967,
     "end_time": "2024-07-05T09:35:31.492230",
     "exception": false,
     "start_time": "2024-07-05T09:35:31.455263",
     "status": "completed"
    },
    "tags": []
   },
   "outputs": [
    {
     "data": {
      "text/plain": [
       "age          0\n",
       "job          0\n",
       "marital      0\n",
       "education    0\n",
       "default      0\n",
       "balance      0\n",
       "housing      0\n",
       "loan         0\n",
       "contact      0\n",
       "day          0\n",
       "month        0\n",
       "duration     0\n",
       "campaign     0\n",
       "pdays        0\n",
       "previous     0\n",
       "poutcome     0\n",
       "y            0\n",
       "dtype: int64"
      ]
     },
     "execution_count": 6,
     "metadata": {},
     "output_type": "execute_result"
    }
   ],
   "source": [
    "df.isnull().sum()"
   ]
  },
  {
   "cell_type": "code",
   "execution_count": 7,
   "id": "23d5f3a2",
   "metadata": {
    "execution": {
     "iopub.execute_input": "2024-07-05T09:35:31.528581Z",
     "iopub.status.busy": "2024-07-05T09:35:31.528182Z",
     "iopub.status.idle": "2024-07-05T09:35:31.551512Z",
     "shell.execute_reply": "2024-07-05T09:35:31.550486Z"
    },
    "papermill": {
     "duration": 0.04448,
     "end_time": "2024-07-05T09:35:31.553943",
     "exception": false,
     "start_time": "2024-07-05T09:35:31.509463",
     "status": "completed"
    },
    "tags": []
   },
   "outputs": [
    {
     "data": {
      "text/plain": [
       "0"
      ]
     },
     "execution_count": 7,
     "metadata": {},
     "output_type": "execute_result"
    }
   ],
   "source": [
    "df.duplicated().sum()"
   ]
  },
  {
   "cell_type": "code",
   "execution_count": 8,
   "id": "9cb52739",
   "metadata": {
    "execution": {
     "iopub.execute_input": "2024-07-05T09:35:31.590411Z",
     "iopub.status.busy": "2024-07-05T09:35:31.590001Z",
     "iopub.status.idle": "2024-07-05T09:35:31.623048Z",
     "shell.execute_reply": "2024-07-05T09:35:31.621966Z"
    },
    "papermill": {
     "duration": 0.0542,
     "end_time": "2024-07-05T09:35:31.625537",
     "exception": false,
     "start_time": "2024-07-05T09:35:31.571337",
     "status": "completed"
    },
    "tags": []
   },
   "outputs": [
    {
     "data": {
      "text/html": [
       "<div>\n",
       "<style scoped>\n",
       "    .dataframe tbody tr th:only-of-type {\n",
       "        vertical-align: middle;\n",
       "    }\n",
       "\n",
       "    .dataframe tbody tr th {\n",
       "        vertical-align: top;\n",
       "    }\n",
       "\n",
       "    .dataframe thead th {\n",
       "        text-align: right;\n",
       "    }\n",
       "</style>\n",
       "<table border=\"1\" class=\"dataframe\">\n",
       "  <thead>\n",
       "    <tr style=\"text-align: right;\">\n",
       "      <th></th>\n",
       "      <th>age</th>\n",
       "      <th>balance</th>\n",
       "      <th>day</th>\n",
       "      <th>duration</th>\n",
       "      <th>campaign</th>\n",
       "      <th>pdays</th>\n",
       "      <th>previous</th>\n",
       "    </tr>\n",
       "  </thead>\n",
       "  <tbody>\n",
       "    <tr>\n",
       "      <th>count</th>\n",
       "      <td>4521.000000</td>\n",
       "      <td>4521.000000</td>\n",
       "      <td>4521.000000</td>\n",
       "      <td>4521.000000</td>\n",
       "      <td>4521.000000</td>\n",
       "      <td>4521.000000</td>\n",
       "      <td>4521.000000</td>\n",
       "    </tr>\n",
       "    <tr>\n",
       "      <th>mean</th>\n",
       "      <td>41.170095</td>\n",
       "      <td>1422.657819</td>\n",
       "      <td>15.915284</td>\n",
       "      <td>263.961292</td>\n",
       "      <td>2.793630</td>\n",
       "      <td>39.766645</td>\n",
       "      <td>0.542579</td>\n",
       "    </tr>\n",
       "    <tr>\n",
       "      <th>std</th>\n",
       "      <td>10.576211</td>\n",
       "      <td>3009.638142</td>\n",
       "      <td>8.247667</td>\n",
       "      <td>259.856633</td>\n",
       "      <td>3.109807</td>\n",
       "      <td>100.121124</td>\n",
       "      <td>1.693562</td>\n",
       "    </tr>\n",
       "    <tr>\n",
       "      <th>min</th>\n",
       "      <td>19.000000</td>\n",
       "      <td>-3313.000000</td>\n",
       "      <td>1.000000</td>\n",
       "      <td>4.000000</td>\n",
       "      <td>1.000000</td>\n",
       "      <td>-1.000000</td>\n",
       "      <td>0.000000</td>\n",
       "    </tr>\n",
       "    <tr>\n",
       "      <th>25%</th>\n",
       "      <td>33.000000</td>\n",
       "      <td>69.000000</td>\n",
       "      <td>9.000000</td>\n",
       "      <td>104.000000</td>\n",
       "      <td>1.000000</td>\n",
       "      <td>-1.000000</td>\n",
       "      <td>0.000000</td>\n",
       "    </tr>\n",
       "    <tr>\n",
       "      <th>50%</th>\n",
       "      <td>39.000000</td>\n",
       "      <td>444.000000</td>\n",
       "      <td>16.000000</td>\n",
       "      <td>185.000000</td>\n",
       "      <td>2.000000</td>\n",
       "      <td>-1.000000</td>\n",
       "      <td>0.000000</td>\n",
       "    </tr>\n",
       "    <tr>\n",
       "      <th>75%</th>\n",
       "      <td>49.000000</td>\n",
       "      <td>1480.000000</td>\n",
       "      <td>21.000000</td>\n",
       "      <td>329.000000</td>\n",
       "      <td>3.000000</td>\n",
       "      <td>-1.000000</td>\n",
       "      <td>0.000000</td>\n",
       "    </tr>\n",
       "    <tr>\n",
       "      <th>max</th>\n",
       "      <td>87.000000</td>\n",
       "      <td>71188.000000</td>\n",
       "      <td>31.000000</td>\n",
       "      <td>3025.000000</td>\n",
       "      <td>50.000000</td>\n",
       "      <td>871.000000</td>\n",
       "      <td>25.000000</td>\n",
       "    </tr>\n",
       "  </tbody>\n",
       "</table>\n",
       "</div>"
      ],
      "text/plain": [
       "               age       balance          day     duration     campaign  \\\n",
       "count  4521.000000   4521.000000  4521.000000  4521.000000  4521.000000   \n",
       "mean     41.170095   1422.657819    15.915284   263.961292     2.793630   \n",
       "std      10.576211   3009.638142     8.247667   259.856633     3.109807   \n",
       "min      19.000000  -3313.000000     1.000000     4.000000     1.000000   \n",
       "25%      33.000000     69.000000     9.000000   104.000000     1.000000   \n",
       "50%      39.000000    444.000000    16.000000   185.000000     2.000000   \n",
       "75%      49.000000   1480.000000    21.000000   329.000000     3.000000   \n",
       "max      87.000000  71188.000000    31.000000  3025.000000    50.000000   \n",
       "\n",
       "             pdays     previous  \n",
       "count  4521.000000  4521.000000  \n",
       "mean     39.766645     0.542579  \n",
       "std     100.121124     1.693562  \n",
       "min      -1.000000     0.000000  \n",
       "25%      -1.000000     0.000000  \n",
       "50%      -1.000000     0.000000  \n",
       "75%      -1.000000     0.000000  \n",
       "max     871.000000    25.000000  "
      ]
     },
     "execution_count": 8,
     "metadata": {},
     "output_type": "execute_result"
    }
   ],
   "source": [
    "df.describe()"
   ]
  },
  {
   "cell_type": "code",
   "execution_count": 9,
   "id": "d2a4bd88",
   "metadata": {
    "execution": {
     "iopub.execute_input": "2024-07-05T09:35:31.662686Z",
     "iopub.status.busy": "2024-07-05T09:35:31.662287Z",
     "iopub.status.idle": "2024-07-05T09:35:31.687020Z",
     "shell.execute_reply": "2024-07-05T09:35:31.685974Z"
    },
    "papermill": {
     "duration": 0.046447,
     "end_time": "2024-07-05T09:35:31.689675",
     "exception": false,
     "start_time": "2024-07-05T09:35:31.643228",
     "status": "completed"
    },
    "tags": []
   },
   "outputs": [
    {
     "name": "stdout",
     "output_type": "stream",
     "text": [
      "<class 'pandas.core.frame.DataFrame'>\n",
      "RangeIndex: 4521 entries, 0 to 4520\n",
      "Data columns (total 17 columns):\n",
      " #   Column     Non-Null Count  Dtype \n",
      "---  ------     --------------  ----- \n",
      " 0   age        4521 non-null   int64 \n",
      " 1   job        4521 non-null   object\n",
      " 2   marital    4521 non-null   object\n",
      " 3   education  4521 non-null   object\n",
      " 4   default    4521 non-null   object\n",
      " 5   balance    4521 non-null   int64 \n",
      " 6   housing    4521 non-null   object\n",
      " 7   loan       4521 non-null   object\n",
      " 8   contact    4521 non-null   object\n",
      " 9   day        4521 non-null   int64 \n",
      " 10  month      4521 non-null   object\n",
      " 11  duration   4521 non-null   int64 \n",
      " 12  campaign   4521 non-null   int64 \n",
      " 13  pdays      4521 non-null   int64 \n",
      " 14  previous   4521 non-null   int64 \n",
      " 15  poutcome   4521 non-null   object\n",
      " 16  y          4521 non-null   object\n",
      "dtypes: int64(7), object(10)\n",
      "memory usage: 600.6+ KB\n"
     ]
    }
   ],
   "source": [
    "df.info()"
   ]
  },
  {
   "cell_type": "code",
   "execution_count": 10,
   "id": "e01bb77f",
   "metadata": {
    "execution": {
     "iopub.execute_input": "2024-07-05T09:35:31.727519Z",
     "iopub.status.busy": "2024-07-05T09:35:31.727097Z",
     "iopub.status.idle": "2024-07-05T09:35:31.737129Z",
     "shell.execute_reply": "2024-07-05T09:35:31.736039Z"
    },
    "papermill": {
     "duration": 0.03189,
     "end_time": "2024-07-05T09:35:31.739538",
     "exception": false,
     "start_time": "2024-07-05T09:35:31.707648",
     "status": "completed"
    },
    "tags": []
   },
   "outputs": [
    {
     "data": {
      "text/plain": [
       "marital\n",
       "married     2797\n",
       "single      1196\n",
       "divorced     528\n",
       "Name: count, dtype: int64"
      ]
     },
     "execution_count": 10,
     "metadata": {},
     "output_type": "execute_result"
    }
   ],
   "source": [
    "df['marital'].value_counts()"
   ]
  },
  {
   "cell_type": "code",
   "execution_count": 11,
   "id": "358ad4cb",
   "metadata": {
    "execution": {
     "iopub.execute_input": "2024-07-05T09:35:31.777393Z",
     "iopub.status.busy": "2024-07-05T09:35:31.776951Z",
     "iopub.status.idle": "2024-07-05T09:35:31.985638Z",
     "shell.execute_reply": "2024-07-05T09:35:31.984440Z"
    },
    "papermill": {
     "duration": 0.230552,
     "end_time": "2024-07-05T09:35:31.988184",
     "exception": false,
     "start_time": "2024-07-05T09:35:31.757632",
     "status": "completed"
    },
    "tags": []
   },
   "outputs": [
    {
     "data": {
      "text/plain": [
       "<Axes: xlabel='marital', ylabel='count'>"
      ]
     },
     "execution_count": 11,
     "metadata": {},
     "output_type": "execute_result"
    },
    {
     "data": {
      "image/png": "[encoded data removed]",
      "text/plain": [
       "<Figure size 640x480 with 1 Axes>"
      ]
     },
     "metadata": {},
     "output_type": "display_data"
    }
   ],
   "source": [
    "sns.countplot(x='marital',data=df)"
   ]
  },
  {
   "cell_type": "code",
   "execution_count": 12,
   "id": "231f5413",
   "metadata": {
    "execution": {
     "iopub.execute_input": "2024-07-05T09:35:32.027713Z",
     "iopub.status.busy": "2024-07-05T09:35:32.026719Z",
     "iopub.status.idle": "2024-07-05T09:35:32.209049Z",
     "shell.execute_reply": "2024-07-05T09:35:32.207835Z"
    },
    "papermill": {
     "duration": 0.204956,
     "end_time": "2024-07-05T09:35:32.211741",
     "exception": false,
     "start_time": "2024-07-05T09:35:32.006785",
     "status": "completed"
    },
    "tags": []
   },
   "outputs": [
    {
     "data": {
      "text/plain": [
       "<Axes: xlabel='housing', ylabel='count'>"
      ]
     },
     "execution_count": 12,
     "metadata": {},
     "output_type": "execute_result"
    },
    {
     "data": {
      "image/png": "[encoded data removed]",
      "text/plain": [
       "<Figure size 640x480 with 1 Axes>"
      ]
     },
     "metadata": {},
     "output_type": "display_data"
    }
   ],
   "source": [
    "sns.countplot(x='housing',data=df)"
   ]
  },
  {
   "cell_type": "code",
   "execution_count": 13,
   "id": "276b5725",
   "metadata": {
    "execution": {
     "iopub.execute_input": "2024-07-05T09:35:32.259092Z",
     "iopub.status.busy": "2024-07-05T09:35:32.258140Z",
     "iopub.status.idle": "2024-07-05T09:35:32.266072Z",
     "shell.execute_reply": "2024-07-05T09:35:32.264743Z"
    },
    "papermill": {
     "duration": 0.038426,
     "end_time": "2024-07-05T09:35:32.269491",
     "exception": false,
     "start_time": "2024-07-05T09:35:32.231065",
     "status": "completed"
    },
    "tags": []
   },
   "outputs": [
    {
     "data": {
      "text/plain": [
       "Index(['age', 'job', 'marital', 'education', 'default', 'balance', 'housing',\n",
       "       'loan', 'contact', 'day', 'month', 'duration', 'campaign', 'pdays',\n",
       "       'previous', 'poutcome', 'y'],\n",
       "      dtype='object')"
      ]
     },
     "execution_count": 13,
     "metadata": {},
     "output_type": "execute_result"
    }
   ],
   "source": [
    "df.columns"
   ]
  },
  {
   "cell_type": "code",
   "execution_count": 14,
   "id": "03066060",
   "metadata": {
    "execution": {
     "iopub.execute_input": "2024-07-05T09:35:32.319715Z",
     "iopub.status.busy": "2024-07-05T09:35:32.319302Z",
     "iopub.status.idle": "2024-07-05T09:35:32.344181Z",
     "shell.execute_reply": "2024-07-05T09:35:32.343179Z"
    },
    "papermill": {
     "duration": 0.052678,
     "end_time": "2024-07-05T09:35:32.346593",
     "exception": false,
     "start_time": "2024-07-05T09:35:32.293915",
     "status": "completed"
    },
    "tags": []
   },
   "outputs": [],
   "source": [
    "categories_1st=[\"job\",\"marital\",\"education\",\"default\",\"housing\",\"housing\",\"loan\",\"contact\",\"month\",\"poutcome\",\"y\"]\n",
    "LE=LabelEncoder()\n",
    "for i in categories_1st:\n",
    "    df[i]=LE.fit_transform(df[i])"
   ]
  },
  {
   "cell_type": "code",
   "execution_count": 15,
   "id": "36e95fba",
   "metadata": {
    "execution": {
     "iopub.execute_input": "2024-07-05T09:35:32.386678Z",
     "iopub.status.busy": "2024-07-05T09:35:32.386274Z",
     "iopub.status.idle": "2024-07-05T09:35:32.391922Z",
     "shell.execute_reply": "2024-07-05T09:35:32.390828Z"
    },
    "papermill": {
     "duration": 0.028561,
     "end_time": "2024-07-05T09:35:32.394261",
     "exception": false,
     "start_time": "2024-07-05T09:35:32.365700",
     "status": "completed"
    },
    "tags": []
   },
   "outputs": [],
   "source": [
    "df.rename(columns={\"y\": \"loan_approval\"}, inplace=True)"
   ]
  },
  {
   "cell_type": "code",
   "execution_count": 16,
   "id": "4640ecc1",
   "metadata": {
    "execution": {
     "iopub.execute_input": "2024-07-05T09:35:32.435818Z",
     "iopub.status.busy": "2024-07-05T09:35:32.435204Z",
     "iopub.status.idle": "2024-07-05T09:35:32.480695Z",
     "shell.execute_reply": "2024-07-05T09:35:32.479422Z"
    },
    "papermill": {
     "duration": 0.069756,
     "end_time": "2024-07-05T09:35:32.483394",
     "exception": false,
     "start_time": "2024-07-05T09:35:32.413638",
     "status": "completed"
    },
    "tags": []
   },
   "outputs": [
    {
     "data": {
      "text/html": [
       "<div>\n",
       "<style scoped>\n",
       "    .dataframe tbody tr th:only-of-type {\n",
       "        vertical-align: middle;\n",
       "    }\n",
       "\n",
       "    .dataframe tbody tr th {\n",
       "        vertical-align: top;\n",
       "    }\n",
       "\n",
       "    .dataframe thead th {\n",
       "        text-align: right;\n",
       "    }\n",
       "</style>\n",
       "<table border=\"1\" class=\"dataframe\">\n",
       "  <thead>\n",
       "    <tr style=\"text-align: right;\">\n",
       "      <th></th>\n",
       "      <th>age</th>\n",
       "      <th>job</th>\n",
       "      <th>marital</th>\n",
       "      <th>education</th>\n",
       "      <th>default</th>\n",
       "      <th>balance</th>\n",
       "      <th>housing</th>\n",
       "      <th>loan</th>\n",
       "      <th>contact</th>\n",
       "      <th>day</th>\n",
       "      <th>month</th>\n",
       "      <th>duration</th>\n",
       "      <th>campaign</th>\n",
       "      <th>pdays</th>\n",
       "      <th>previous</th>\n",
       "      <th>poutcome</th>\n",
       "      <th>loan_approval</th>\n",
       "    </tr>\n",
       "  </thead>\n",
       "  <tbody>\n",
       "    <tr>\n",
       "      <th>age</th>\n",
       "      <td>1.000000</td>\n",
       "      <td>-0.021500</td>\n",
       "      <td>-0.381485</td>\n",
       "      <td>-0.121613</td>\n",
       "      <td>-0.017885</td>\n",
       "      <td>0.083820</td>\n",
       "      <td>-0.193888</td>\n",
       "      <td>-0.011250</td>\n",
       "      <td>0.015161</td>\n",
       "      <td>-0.017853</td>\n",
       "      <td>-0.040714</td>\n",
       "      <td>-0.002367</td>\n",
       "      <td>-0.005148</td>\n",
       "      <td>-0.008894</td>\n",
       "      <td>-0.003511</td>\n",
       "      <td>-0.009320</td>\n",
       "      <td>0.045092</td>\n",
       "    </tr>\n",
       "    <tr>\n",
       "      <th>job</th>\n",
       "      <td>-0.021500</td>\n",
       "      <td>1.000000</td>\n",
       "      <td>0.069390</td>\n",
       "      <td>0.170160</td>\n",
       "      <td>0.008324</td>\n",
       "      <td>0.009797</td>\n",
       "      <td>-0.128353</td>\n",
       "      <td>-0.040245</td>\n",
       "      <td>-0.074068</td>\n",
       "      <td>0.012865</td>\n",
       "      <td>-0.096613</td>\n",
       "      <td>-0.006739</td>\n",
       "      <td>-0.002739</td>\n",
       "      <td>-0.022760</td>\n",
       "      <td>0.005029</td>\n",
       "      <td>0.013049</td>\n",
       "      <td>0.027401</td>\n",
       "    </tr>\n",
       "    <tr>\n",
       "      <th>marital</th>\n",
       "      <td>-0.381485</td>\n",
       "      <td>0.069390</td>\n",
       "      <td>1.000000</td>\n",
       "      <td>0.102714</td>\n",
       "      <td>-0.020745</td>\n",
       "      <td>0.024971</td>\n",
       "      <td>-0.029851</td>\n",
       "      <td>-0.045210</td>\n",
       "      <td>-0.068236</td>\n",
       "      <td>0.008794</td>\n",
       "      <td>-0.035855</td>\n",
       "      <td>0.006619</td>\n",
       "      <td>0.005915</td>\n",
       "      <td>0.017050</td>\n",
       "      <td>0.038028</td>\n",
       "      <td>-0.027716</td>\n",
       "      <td>0.015042</td>\n",
       "    </tr>\n",
       "    <tr>\n",
       "      <th>education</th>\n",
       "      <td>-0.121613</td>\n",
       "      <td>0.170160</td>\n",
       "      <td>0.102714</td>\n",
       "      <td>1.000000</td>\n",
       "      <td>-0.010534</td>\n",
       "      <td>0.057725</td>\n",
       "      <td>-0.087070</td>\n",
       "      <td>-0.054086</td>\n",
       "      <td>-0.110554</td>\n",
       "      <td>0.014926</td>\n",
       "      <td>-0.050086</td>\n",
       "      <td>-0.014878</td>\n",
       "      <td>-0.001723</td>\n",
       "      <td>0.012077</td>\n",
       "      <td>0.023983</td>\n",
       "      <td>-0.032135</td>\n",
       "      <td>0.042987</td>\n",
       "    </tr>\n",
       "    <tr>\n",
       "      <th>default</th>\n",
       "      <td>-0.017885</td>\n",
       "      <td>0.008324</td>\n",
       "      <td>-0.020745</td>\n",
       "      <td>-0.010534</td>\n",
       "      <td>1.000000</td>\n",
       "      <td>-0.070886</td>\n",
       "      <td>0.006881</td>\n",
       "      <td>0.063994</td>\n",
       "      <td>0.008448</td>\n",
       "      <td>-0.013261</td>\n",
       "      <td>0.014297</td>\n",
       "      <td>-0.011615</td>\n",
       "      <td>-0.012348</td>\n",
       "      <td>-0.026317</td>\n",
       "      <td>-0.026656</td>\n",
       "      <td>0.039032</td>\n",
       "      <td>0.001303</td>\n",
       "    </tr>\n",
       "    <tr>\n",
       "      <th>balance</th>\n",
       "      <td>0.083820</td>\n",
       "      <td>0.009797</td>\n",
       "      <td>0.024971</td>\n",
       "      <td>0.057725</td>\n",
       "      <td>-0.070886</td>\n",
       "      <td>1.000000</td>\n",
       "      <td>-0.050227</td>\n",
       "      <td>-0.071349</td>\n",
       "      <td>-0.009665</td>\n",
       "      <td>-0.008677</td>\n",
       "      <td>0.023113</td>\n",
       "      <td>-0.015950</td>\n",
       "      <td>-0.009976</td>\n",
       "      <td>0.009437</td>\n",
       "      <td>0.026196</td>\n",
       "      <td>-0.029268</td>\n",
       "      <td>0.017905</td>\n",
       "    </tr>\n",
       "    <tr>\n",
       "      <th>housing</th>\n",
       "      <td>-0.193888</td>\n",
       "      <td>-0.128353</td>\n",
       "      <td>-0.029851</td>\n",
       "      <td>-0.087070</td>\n",
       "      <td>0.006881</td>\n",
       "      <td>-0.050227</td>\n",
       "      <td>1.000000</td>\n",
       "      <td>0.018451</td>\n",
       "      <td>0.196454</td>\n",
       "      <td>-0.031291</td>\n",
       "      <td>0.266630</td>\n",
       "      <td>0.015740</td>\n",
       "      <td>-0.003574</td>\n",
       "      <td>0.116893</td>\n",
       "      <td>0.038621</td>\n",
       "      <td>-0.093093</td>\n",
       "      <td>-0.104683</td>\n",
       "    </tr>\n",
       "    <tr>\n",
       "      <th>loan</th>\n",
       "      <td>-0.011250</td>\n",
       "      <td>-0.040245</td>\n",
       "      <td>-0.045210</td>\n",
       "      <td>-0.054086</td>\n",
       "      <td>0.063994</td>\n",
       "      <td>-0.071349</td>\n",
       "      <td>0.018451</td>\n",
       "      <td>1.000000</td>\n",
       "      <td>-0.007319</td>\n",
       "      <td>-0.004879</td>\n",
       "      <td>0.016329</td>\n",
       "      <td>-0.004997</td>\n",
       "      <td>0.017120</td>\n",
       "      <td>-0.031086</td>\n",
       "      <td>-0.022115</td>\n",
       "      <td>0.027028</td>\n",
       "      <td>-0.070517</td>\n",
       "    </tr>\n",
       "    <tr>\n",
       "      <th>contact</th>\n",
       "      <td>0.015161</td>\n",
       "      <td>-0.074068</td>\n",
       "      <td>-0.068236</td>\n",
       "      <td>-0.110554</td>\n",
       "      <td>0.008448</td>\n",
       "      <td>-0.009665</td>\n",
       "      <td>0.196454</td>\n",
       "      <td>-0.007319</td>\n",
       "      <td>1.000000</td>\n",
       "      <td>-0.033807</td>\n",
       "      <td>0.370077</td>\n",
       "      <td>-0.011380</td>\n",
       "      <td>0.012278</td>\n",
       "      <td>-0.243223</td>\n",
       "      <td>-0.187232</td>\n",
       "      <td>0.267173</td>\n",
       "      <td>-0.133595</td>\n",
       "    </tr>\n",
       "    <tr>\n",
       "      <th>day</th>\n",
       "      <td>-0.017853</td>\n",
       "      <td>0.012865</td>\n",
       "      <td>0.008794</td>\n",
       "      <td>0.014926</td>\n",
       "      <td>-0.013261</td>\n",
       "      <td>-0.008677</td>\n",
       "      <td>-0.031291</td>\n",
       "      <td>-0.004879</td>\n",
       "      <td>-0.033807</td>\n",
       "      <td>1.000000</td>\n",
       "      <td>-0.014795</td>\n",
       "      <td>-0.024629</td>\n",
       "      <td>0.160706</td>\n",
       "      <td>-0.094352</td>\n",
       "      <td>-0.059114</td>\n",
       "      <td>0.073714</td>\n",
       "      <td>-0.011244</td>\n",
       "    </tr>\n",
       "    <tr>\n",
       "      <th>month</th>\n",
       "      <td>-0.040714</td>\n",
       "      <td>-0.096613</td>\n",
       "      <td>-0.035855</td>\n",
       "      <td>-0.050086</td>\n",
       "      <td>0.014297</td>\n",
       "      <td>0.023113</td>\n",
       "      <td>0.266630</td>\n",
       "      <td>0.016329</td>\n",
       "      <td>0.370077</td>\n",
       "      <td>-0.014795</td>\n",
       "      <td>1.000000</td>\n",
       "      <td>0.000851</td>\n",
       "      <td>-0.108915</td>\n",
       "      <td>0.033292</td>\n",
       "      <td>0.046899</td>\n",
       "      <td>-0.030189</td>\n",
       "      <td>-0.040933</td>\n",
       "    </tr>\n",
       "    <tr>\n",
       "      <th>duration</th>\n",
       "      <td>-0.002367</td>\n",
       "      <td>-0.006739</td>\n",
       "      <td>0.006619</td>\n",
       "      <td>-0.014878</td>\n",
       "      <td>-0.011615</td>\n",
       "      <td>-0.015950</td>\n",
       "      <td>0.015740</td>\n",
       "      <td>-0.004997</td>\n",
       "      <td>-0.011380</td>\n",
       "      <td>-0.024629</td>\n",
       "      <td>0.000851</td>\n",
       "      <td>1.000000</td>\n",
       "      <td>-0.068382</td>\n",
       "      <td>0.010380</td>\n",
       "      <td>0.018080</td>\n",
       "      <td>0.000478</td>\n",
       "      <td>0.401118</td>\n",
       "    </tr>\n",
       "    <tr>\n",
       "      <th>campaign</th>\n",
       "      <td>-0.005148</td>\n",
       "      <td>-0.002739</td>\n",
       "      <td>0.005915</td>\n",
       "      <td>-0.001723</td>\n",
       "      <td>-0.012348</td>\n",
       "      <td>-0.009976</td>\n",
       "      <td>-0.003574</td>\n",
       "      <td>0.017120</td>\n",
       "      <td>0.012278</td>\n",
       "      <td>0.160706</td>\n",
       "      <td>-0.108915</td>\n",
       "      <td>-0.068382</td>\n",
       "      <td>1.000000</td>\n",
       "      <td>-0.093137</td>\n",
       "      <td>-0.067833</td>\n",
       "      <td>0.110703</td>\n",
       "      <td>-0.061147</td>\n",
       "    </tr>\n",
       "    <tr>\n",
       "      <th>pdays</th>\n",
       "      <td>-0.008894</td>\n",
       "      <td>-0.022760</td>\n",
       "      <td>0.017050</td>\n",
       "      <td>0.012077</td>\n",
       "      <td>-0.026317</td>\n",
       "      <td>0.009437</td>\n",
       "      <td>0.116893</td>\n",
       "      <td>-0.031086</td>\n",
       "      <td>-0.243223</td>\n",
       "      <td>-0.094352</td>\n",
       "      <td>0.033292</td>\n",
       "      <td>0.010380</td>\n",
       "      <td>-0.093137</td>\n",
       "      <td>1.000000</td>\n",
       "      <td>0.577562</td>\n",
       "      <td>-0.859245</td>\n",
       "      <td>0.104087</td>\n",
       "    </tr>\n",
       "    <tr>\n",
       "      <th>previous</th>\n",
       "      <td>-0.003511</td>\n",
       "      <td>0.005029</td>\n",
       "      <td>0.038028</td>\n",
       "      <td>0.023983</td>\n",
       "      <td>-0.026656</td>\n",
       "      <td>0.026196</td>\n",
       "      <td>0.038621</td>\n",
       "      <td>-0.022115</td>\n",
       "      <td>-0.187232</td>\n",
       "      <td>-0.059114</td>\n",
       "      <td>0.046899</td>\n",
       "      <td>0.018080</td>\n",
       "      <td>-0.067833</td>\n",
       "      <td>0.577562</td>\n",
       "      <td>1.000000</td>\n",
       "      <td>-0.636372</td>\n",
       "      <td>0.116714</td>\n",
       "    </tr>\n",
       "    <tr>\n",
       "      <th>poutcome</th>\n",
       "      <td>-0.009320</td>\n",
       "      <td>0.013049</td>\n",
       "      <td>-0.027716</td>\n",
       "      <td>-0.032135</td>\n",
       "      <td>0.039032</td>\n",
       "      <td>-0.029268</td>\n",
       "      <td>-0.093093</td>\n",
       "      <td>0.027028</td>\n",
       "      <td>0.267173</td>\n",
       "      <td>0.073714</td>\n",
       "      <td>-0.030189</td>\n",
       "      <td>0.000478</td>\n",
       "      <td>0.110703</td>\n",
       "      <td>-0.859245</td>\n",
       "      <td>-0.636372</td>\n",
       "      <td>1.000000</td>\n",
       "      <td>-0.082632</td>\n",
       "    </tr>\n",
       "    <tr>\n",
       "      <th>loan_approval</th>\n",
       "      <td>0.045092</td>\n",
       "      <td>0.027401</td>\n",
       "      <td>0.015042</td>\n",
       "      <td>0.042987</td>\n",
       "      <td>0.001303</td>\n",
       "      <td>0.017905</td>\n",
       "      <td>-0.104683</td>\n",
       "      <td>-0.070517</td>\n",
       "      <td>-0.133595</td>\n",
       "      <td>-0.011244</td>\n",
       "      <td>-0.040933</td>\n",
       "      <td>0.401118</td>\n",
       "      <td>-0.061147</td>\n",
       "      <td>0.104087</td>\n",
       "      <td>0.116714</td>\n",
       "      <td>-0.082632</td>\n",
       "      <td>1.000000</td>\n",
       "    </tr>\n",
       "  </tbody>\n",
       "</table>\n",
       "</div>"
      ],
      "text/plain": [
       "                    age       job   marital  education   default   balance  \\\n",
       "age            1.000000 -0.021500 -0.381485  -0.121613 -0.017885  0.083820   \n",
       "job           -0.021500  1.000000  0.069390   0.170160  0.008324  0.009797   \n",
       "marital       -0.381485  0.069390  1.000000   0.102714 -0.020745  0.024971   \n",
       "education     -0.121613  0.170160  0.102714   1.000000 -0.010534  0.057725   \n",
       "default       -0.017885  0.008324 -0.020745  -0.010534  1.000000 -0.070886   \n",
       "balance        0.083820  0.009797  0.024971   0.057725 -0.070886  1.000000   \n",
       "housing       -0.193888 -0.128353 -0.029851  -0.087070  0.006881 -0.050227   \n",
       "loan          -0.011250 -0.040245 -0.045210  -0.054086  0.063994 -0.071349   \n",
       "contact        0.015161 -0.074068 -0.068236  -0.110554  0.008448 -0.009665   \n",
       "day           -0.017853  0.012865  0.008794   0.014926 -0.013261 -0.008677   \n",
       "month         -0.040714 -0.096613 -0.035855  -0.050086  0.014297  0.023113   \n",
       "duration      -0.002367 -0.006739  0.006619  -0.014878 -0.011615 -0.015950   \n",
       "campaign      -0.005148 -0.002739  0.005915  -0.001723 -0.012348 -0.009976   \n",
       "pdays         -0.008894 -0.022760  0.017050   0.012077 -0.026317  0.009437   \n",
       "previous      -0.003511  0.005029  0.038028   0.023983 -0.026656  0.026196   \n",
       "poutcome      -0.009320  0.013049 -0.027716  -0.032135  0.039032 -0.029268   \n",
       "loan_approval  0.045092  0.027401  0.015042   0.042987  0.001303  0.017905   \n",
       "\n",
       "                housing      loan   contact       day     month  duration  \\\n",
       "age           -0.193888 -0.011250  0.015161 -0.017853 -0.040714 -0.002367   \n",
       "job           -0.128353 -0.040245 -0.074068  0.012865 -0.096613 -0.006739   \n",
       "marital       -0.029851 -0.045210 -0.068236  0.008794 -0.035855  0.006619   \n",
       "education     -0.087070 -0.054086 -0.110554  0.014926 -0.050086 -0.014878   \n",
       "default        0.006881  0.063994  0.008448 -0.013261  0.014297 -0.011615   \n",
       "balance       -0.050227 -0.071349 -0.009665 -0.008677  0.023113 -0.015950   \n",
       "housing        1.000000  0.018451  0.196454 -0.031291  0.266630  0.015740   \n",
       "loan           0.018451  1.000000 -0.007319 -0.004879  0.016329 -0.004997   \n",
       "contact        0.196454 -0.007319  1.000000 -0.033807  0.370077 -0.011380   \n",
       "day           -0.031291 -0.004879 -0.033807  1.000000 -0.014795 -0.024629   \n",
       "month          0.266630  0.016329  0.370077 -0.014795  1.000000  0.000851   \n",
       "duration       0.015740 -0.004997 -0.011380 -0.024629  0.000851  1.000000   \n",
       "campaign      -0.003574  0.017120  0.012278  0.160706 -0.108915 -0.068382   \n",
       "pdays          0.116893 -0.031086 -0.243223 -0.094352  0.033292  0.010380   \n",
       "previous       0.038621 -0.022115 -0.187232 -0.059114  0.046899  0.018080   \n",
       "poutcome      -0.093093  0.027028  0.267173  0.073714 -0.030189  0.000478   \n",
       "loan_approval -0.104683 -0.070517 -0.133595 -0.011244 -0.040933  0.401118   \n",
       "\n",
       "               campaign     pdays  previous  poutcome  loan_approval  \n",
       "age           -0.005148 -0.008894 -0.003511 -0.009320       0.045092  \n",
       "job           -0.002739 -0.022760  0.005029  0.013049       0.027401  \n",
       "marital        0.005915  0.017050  0.038028 -0.027716       0.015042  \n",
       "education     -0.001723  0.012077  0.023983 -0.032135       0.042987  \n",
       "default       -0.012348 -0.026317 -0.026656  0.039032       0.001303  \n",
       "balance       -0.009976  0.009437  0.026196 -0.029268       0.017905  \n",
       "housing       -0.003574  0.116893  0.038621 -0.093093      -0.104683  \n",
       "loan           0.017120 -0.031086 -0.022115  0.027028      -0.070517  \n",
       "contact        0.012278 -0.243223 -0.187232  0.267173      -0.133595  \n",
       "day            0.160706 -0.094352 -0.059114  0.073714      -0.011244  \n",
       "month         -0.108915  0.033292  0.046899 -0.030189      -0.040933  \n",
       "duration      -0.068382  0.010380  0.018080  0.000478       0.401118  \n",
       "campaign       1.000000 -0.093137 -0.067833  0.110703      -0.061147  \n",
       "pdays         -0.093137  1.000000  0.577562 -0.859245       0.104087  \n",
       "previous      -0.067833  0.577562  1.000000 -0.636372       0.116714  \n",
       "poutcome       0.110703 -0.859245 -0.636372  1.000000      -0.082632  \n",
       "loan_approval -0.061147  0.104087  0.116714 -0.082632       1.000000  "
      ]
     },
     "execution_count": 16,
     "metadata": {},
     "output_type": "execute_result"
    }
   ],
   "source": [
    "df.corr()"
   ]
  },
  {
   "cell_type": "code",
   "execution_count": 17,
   "id": "b2759444",
   "metadata": {
    "execution": {
     "iopub.execute_input": "2024-07-05T09:35:32.526777Z",
     "iopub.status.busy": "2024-07-05T09:35:32.526392Z",
     "iopub.status.idle": "2024-07-05T09:35:32.550686Z",
     "shell.execute_reply": "2024-07-05T09:35:32.549643Z"
    },
    "papermill": {
     "duration": 0.049084,
     "end_time": "2024-07-05T09:35:32.553313",
     "exception": false,
     "start_time": "2024-07-05T09:35:32.504229",
     "status": "completed"
    },
    "tags": []
   },
   "outputs": [
    {
     "data": {
      "text/html": [
       "<div>\n",
       "<style scoped>\n",
       "    .dataframe tbody tr th:only-of-type {\n",
       "        vertical-align: middle;\n",
       "    }\n",
       "\n",
       "    .dataframe tbody tr th {\n",
       "        vertical-align: top;\n",
       "    }\n",
       "\n",
       "    .dataframe thead th {\n",
       "        text-align: right;\n",
       "    }\n",
       "</style>\n",
       "<table border=\"1\" class=\"dataframe\">\n",
       "  <thead>\n",
       "    <tr style=\"text-align: right;\">\n",
       "      <th></th>\n",
       "      <th>age</th>\n",
       "      <th>job</th>\n",
       "      <th>marital</th>\n",
       "      <th>education</th>\n",
       "      <th>default</th>\n",
       "      <th>balance</th>\n",
       "      <th>housing</th>\n",
       "      <th>loan</th>\n",
       "      <th>contact</th>\n",
       "      <th>day</th>\n",
       "      <th>month</th>\n",
       "      <th>duration</th>\n",
       "      <th>campaign</th>\n",
       "      <th>pdays</th>\n",
       "      <th>previous</th>\n",
       "      <th>poutcome</th>\n",
       "    </tr>\n",
       "  </thead>\n",
       "  <tbody>\n",
       "    <tr>\n",
       "      <th>0</th>\n",
       "      <td>30</td>\n",
       "      <td>10</td>\n",
       "      <td>1</td>\n",
       "      <td>0</td>\n",
       "      <td>0</td>\n",
       "      <td>1787</td>\n",
       "      <td>0</td>\n",
       "      <td>0</td>\n",
       "      <td>0</td>\n",
       "      <td>19</td>\n",
       "      <td>10</td>\n",
       "      <td>79</td>\n",
       "      <td>1</td>\n",
       "      <td>-1</td>\n",
       "      <td>0</td>\n",
       "      <td>3</td>\n",
       "    </tr>\n",
       "    <tr>\n",
       "      <th>1</th>\n",
       "      <td>33</td>\n",
       "      <td>7</td>\n",
       "      <td>1</td>\n",
       "      <td>1</td>\n",
       "      <td>0</td>\n",
       "      <td>4789</td>\n",
       "      <td>1</td>\n",
       "      <td>1</td>\n",
       "      <td>0</td>\n",
       "      <td>11</td>\n",
       "      <td>8</td>\n",
       "      <td>220</td>\n",
       "      <td>1</td>\n",
       "      <td>339</td>\n",
       "      <td>4</td>\n",
       "      <td>0</td>\n",
       "    </tr>\n",
       "    <tr>\n",
       "      <th>2</th>\n",
       "      <td>35</td>\n",
       "      <td>4</td>\n",
       "      <td>2</td>\n",
       "      <td>2</td>\n",
       "      <td>0</td>\n",
       "      <td>1350</td>\n",
       "      <td>1</td>\n",
       "      <td>0</td>\n",
       "      <td>0</td>\n",
       "      <td>16</td>\n",
       "      <td>0</td>\n",
       "      <td>185</td>\n",
       "      <td>1</td>\n",
       "      <td>330</td>\n",
       "      <td>1</td>\n",
       "      <td>0</td>\n",
       "    </tr>\n",
       "    <tr>\n",
       "      <th>3</th>\n",
       "      <td>30</td>\n",
       "      <td>4</td>\n",
       "      <td>1</td>\n",
       "      <td>2</td>\n",
       "      <td>0</td>\n",
       "      <td>1476</td>\n",
       "      <td>1</td>\n",
       "      <td>1</td>\n",
       "      <td>2</td>\n",
       "      <td>3</td>\n",
       "      <td>6</td>\n",
       "      <td>199</td>\n",
       "      <td>4</td>\n",
       "      <td>-1</td>\n",
       "      <td>0</td>\n",
       "      <td>3</td>\n",
       "    </tr>\n",
       "    <tr>\n",
       "      <th>4</th>\n",
       "      <td>59</td>\n",
       "      <td>1</td>\n",
       "      <td>1</td>\n",
       "      <td>1</td>\n",
       "      <td>0</td>\n",
       "      <td>0</td>\n",
       "      <td>1</td>\n",
       "      <td>0</td>\n",
       "      <td>2</td>\n",
       "      <td>5</td>\n",
       "      <td>8</td>\n",
       "      <td>226</td>\n",
       "      <td>1</td>\n",
       "      <td>-1</td>\n",
       "      <td>0</td>\n",
       "      <td>3</td>\n",
       "    </tr>\n",
       "    <tr>\n",
       "      <th>...</th>\n",
       "      <td>...</td>\n",
       "      <td>...</td>\n",
       "      <td>...</td>\n",
       "      <td>...</td>\n",
       "      <td>...</td>\n",
       "      <td>...</td>\n",
       "      <td>...</td>\n",
       "      <td>...</td>\n",
       "      <td>...</td>\n",
       "      <td>...</td>\n",
       "      <td>...</td>\n",
       "      <td>...</td>\n",
       "      <td>...</td>\n",
       "      <td>...</td>\n",
       "      <td>...</td>\n",
       "      <td>...</td>\n",
       "    </tr>\n",
       "    <tr>\n",
       "      <th>4516</th>\n",
       "      <td>33</td>\n",
       "      <td>7</td>\n",
       "      <td>1</td>\n",
       "      <td>1</td>\n",
       "      <td>0</td>\n",
       "      <td>-333</td>\n",
       "      <td>1</td>\n",
       "      <td>0</td>\n",
       "      <td>0</td>\n",
       "      <td>30</td>\n",
       "      <td>5</td>\n",
       "      <td>329</td>\n",
       "      <td>5</td>\n",
       "      <td>-1</td>\n",
       "      <td>0</td>\n",
       "      <td>3</td>\n",
       "    </tr>\n",
       "    <tr>\n",
       "      <th>4517</th>\n",
       "      <td>57</td>\n",
       "      <td>6</td>\n",
       "      <td>1</td>\n",
       "      <td>2</td>\n",
       "      <td>1</td>\n",
       "      <td>-3313</td>\n",
       "      <td>1</td>\n",
       "      <td>1</td>\n",
       "      <td>2</td>\n",
       "      <td>9</td>\n",
       "      <td>8</td>\n",
       "      <td>153</td>\n",
       "      <td>1</td>\n",
       "      <td>-1</td>\n",
       "      <td>0</td>\n",
       "      <td>3</td>\n",
       "    </tr>\n",
       "    <tr>\n",
       "      <th>4518</th>\n",
       "      <td>57</td>\n",
       "      <td>9</td>\n",
       "      <td>1</td>\n",
       "      <td>1</td>\n",
       "      <td>0</td>\n",
       "      <td>295</td>\n",
       "      <td>0</td>\n",
       "      <td>0</td>\n",
       "      <td>0</td>\n",
       "      <td>19</td>\n",
       "      <td>1</td>\n",
       "      <td>151</td>\n",
       "      <td>11</td>\n",
       "      <td>-1</td>\n",
       "      <td>0</td>\n",
       "      <td>3</td>\n",
       "    </tr>\n",
       "    <tr>\n",
       "      <th>4519</th>\n",
       "      <td>28</td>\n",
       "      <td>1</td>\n",
       "      <td>1</td>\n",
       "      <td>1</td>\n",
       "      <td>0</td>\n",
       "      <td>1137</td>\n",
       "      <td>0</td>\n",
       "      <td>0</td>\n",
       "      <td>0</td>\n",
       "      <td>6</td>\n",
       "      <td>3</td>\n",
       "      <td>129</td>\n",
       "      <td>4</td>\n",
       "      <td>211</td>\n",
       "      <td>3</td>\n",
       "      <td>1</td>\n",
       "    </tr>\n",
       "    <tr>\n",
       "      <th>4520</th>\n",
       "      <td>44</td>\n",
       "      <td>2</td>\n",
       "      <td>2</td>\n",
       "      <td>2</td>\n",
       "      <td>0</td>\n",
       "      <td>1136</td>\n",
       "      <td>1</td>\n",
       "      <td>1</td>\n",
       "      <td>0</td>\n",
       "      <td>3</td>\n",
       "      <td>0</td>\n",
       "      <td>345</td>\n",
       "      <td>2</td>\n",
       "      <td>249</td>\n",
       "      <td>7</td>\n",
       "      <td>1</td>\n",
       "    </tr>\n",
       "  </tbody>\n",
       "</table>\n",
       "<p>4521 rows × 16 columns</p>\n",
       "</div>"
      ],
      "text/plain": [
       "      age  job  marital  education  default  balance  housing  loan  contact  \\\n",
       "0      30   10        1          0        0     1787        0     0        0   \n",
       "1      33    7        1          1        0     4789        1     1        0   \n",
       "2      35    4        2          2        0     1350        1     0        0   \n",
       "3      30    4        1          2        0     1476        1     1        2   \n",
       "4      59    1        1          1        0        0        1     0        2   \n",
       "...   ...  ...      ...        ...      ...      ...      ...   ...      ...   \n",
       "4516   33    7        1          1        0     -333        1     0        0   \n",
       "4517   57    6        1          2        1    -3313        1     1        2   \n",
       "4518   57    9        1          1        0      295        0     0        0   \n",
       "4519   28    1        1          1        0     1137        0     0        0   \n",
       "4520   44    2        2          2        0     1136        1     1        0   \n",
       "\n",
       "      day  month  duration  campaign  pdays  previous  poutcome  \n",
       "0      19     10        79         1     -1         0         3  \n",
       "1      11      8       220         1    339         4         0  \n",
       "2      16      0       185         1    330         1         0  \n",
       "3       3      6       199         4     -1         0         3  \n",
       "4       5      8       226         1     -1         0         3  \n",
       "...   ...    ...       ...       ...    ...       ...       ...  \n",
       "4516   30      5       329         5     -1         0         3  \n",
       "4517    9      8       153         1     -1         0         3  \n",
       "4518   19      1       151        11     -1         0         3  \n",
       "4519    6      3       129         4    211         3         1  \n",
       "4520    3      0       345         2    249         7         1  \n",
       "\n",
       "[4521 rows x 16 columns]"
      ]
     },
     "execution_count": 17,
     "metadata": {},
     "output_type": "execute_result"
    }
   ],
   "source": [
    "x=df.iloc[:,:-1]\n",
    "x"
   ]
  },
  {
   "cell_type": "code",
   "execution_count": 18,
   "id": "d4fd0826",
   "metadata": {
    "execution": {
     "iopub.execute_input": "2024-07-05T09:35:32.595831Z",
     "iopub.status.busy": "2024-07-05T09:35:32.595465Z",
     "iopub.status.idle": "2024-07-05T09:35:32.604402Z",
     "shell.execute_reply": "2024-07-05T09:35:32.603390Z"
    },
    "papermill": {
     "duration": 0.033127,
     "end_time": "2024-07-05T09:35:32.606840",
     "exception": false,
     "start_time": "2024-07-05T09:35:32.573713",
     "status": "completed"
    },
    "tags": []
   },
   "outputs": [
    {
     "data": {
      "text/plain": [
       "0       0\n",
       "1       0\n",
       "2       0\n",
       "3       0\n",
       "4       0\n",
       "       ..\n",
       "4516    0\n",
       "4517    0\n",
       "4518    0\n",
       "4519    0\n",
       "4520    0\n",
       "Name: loan_approval, Length: 4521, dtype: int64"
      ]
     },
     "execution_count": 18,
     "metadata": {},
     "output_type": "execute_result"
    }
   ],
   "source": [
    "y=df.iloc[:,-1]\n",
    "y"
   ]
  },
  {
   "cell_type": "code",
   "execution_count": 19,
   "id": "b4038d71",
   "metadata": {
    "execution": {
     "iopub.execute_input": "2024-07-05T09:35:32.709390Z",
     "iopub.status.busy": "2024-07-05T09:35:32.708932Z",
     "iopub.status.idle": "2024-07-05T09:35:32.715070Z",
     "shell.execute_reply": "2024-07-05T09:35:32.713991Z"
    },
    "papermill": {
     "duration": 0.090332,
     "end_time": "2024-07-05T09:35:32.717724",
     "exception": false,
     "start_time": "2024-07-05T09:35:32.627392",
     "status": "completed"
    },
    "tags": []
   },
   "outputs": [
    {
     "name": "stdout",
     "output_type": "stream",
     "text": [
      "(4521, 16) (4521,)\n"
     ]
    }
   ],
   "source": [
    "print(x.shape, y.shape)"
   ]
  },
  {
   "cell_type": "code",
   "execution_count": 20,
   "id": "10de95d1",
   "metadata": {
    "execution": {
     "iopub.execute_input": "2024-07-05T09:35:32.762431Z",
     "iopub.status.busy": "2024-07-05T09:35:32.762014Z",
     "iopub.status.idle": "2024-07-05T09:35:32.780755Z",
     "shell.execute_reply": "2024-07-05T09:35:32.779453Z"
    },
    "papermill": {
     "duration": 0.044707,
     "end_time": "2024-07-05T09:35:32.783448",
     "exception": false,
     "start_time": "2024-07-05T09:35:32.738741",
     "status": "completed"
    },
    "tags": []
   },
   "outputs": [
    {
     "name": "stdout",
     "output_type": "stream",
     "text": [
      "Before oversampling:\n",
      "loan_approval\n",
      "0    4000\n",
      "1     521\n",
      "Name: count, dtype: int64\n",
      "After oversampling:\n",
      "loan_approval\n",
      "0    4000\n",
      "1    4000\n",
      "Name: count, dtype: int64\n"
     ]
    }
   ],
   "source": [
    "print(\"Before oversampling:\")\n",
    "print(y.value_counts())\n",
    "sm=RandomOverSampler()\n",
    "x,y=sm.fit_resample(x,y)\n",
    "print(\"After oversampling:\")\n",
    "print(y.value_counts())"
   ]
  },
  {
   "cell_type": "code",
   "execution_count": 21,
   "id": "6a022b63",
   "metadata": {
    "execution": {
     "iopub.execute_input": "2024-07-05T09:35:32.834511Z",
     "iopub.status.busy": "2024-07-05T09:35:32.834093Z",
     "iopub.status.idle": "2024-07-05T09:35:32.850672Z",
     "shell.execute_reply": "2024-07-05T09:35:32.849438Z"
    },
    "papermill": {
     "duration": 0.04403,
     "end_time": "2024-07-05T09:35:32.853237",
     "exception": false,
     "start_time": "2024-07-05T09:35:32.809207",
     "status": "completed"
    },
    "tags": []
   },
   "outputs": [
    {
     "data": {
      "text/plain": [
       "array([[0.16176471, 0.90909091, 0.5       , ..., 0.        , 0.        ,\n",
       "        1.        ],\n",
       "       [0.20588235, 0.63636364, 0.5       , ..., 0.38990826, 0.16      ,\n",
       "        0.        ],\n",
       "       [0.23529412, 0.36363636, 1.        , ..., 0.37958716, 0.04      ,\n",
       "        0.        ],\n",
       "       ...,\n",
       "       [0.19117647, 0.09090909, 0.5       , ..., 0.        , 0.        ,\n",
       "        1.        ],\n",
       "       [0.23529412, 0.81818182, 1.        , ..., 0.        , 0.        ,\n",
       "        1.        ],\n",
       "       [0.44117647, 0.81818182, 0.5       , ..., 0.        , 0.        ,\n",
       "        1.        ]])"
      ]
     },
     "execution_count": 21,
     "metadata": {},
     "output_type": "execute_result"
    }
   ],
   "source": [
    "#minmaxscaler\n",
    "ms=MinMaxScaler()\n",
    "x=ms.fit_transform(x)\n",
    "x"
   ]
  },
  {
   "cell_type": "code",
   "execution_count": 22,
   "id": "19039224",
   "metadata": {
    "execution": {
     "iopub.execute_input": "2024-07-05T09:35:32.899515Z",
     "iopub.status.busy": "2024-07-05T09:35:32.899108Z",
     "iopub.status.idle": "2024-07-05T09:35:32.908211Z",
     "shell.execute_reply": "2024-07-05T09:35:32.906943Z"
    },
    "papermill": {
     "duration": 0.033905,
     "end_time": "2024-07-05T09:35:32.910609",
     "exception": false,
     "start_time": "2024-07-05T09:35:32.876704",
     "status": "completed"
    },
    "tags": []
   },
   "outputs": [
    {
     "name": "stdout",
     "output_type": "stream",
     "text": [
      "Train set: (7200, 16) (7200,)\n",
      "Test set: (800, 16) (800,)\n"
     ]
    }
   ],
   "source": [
    "#splitting to test and train data\n",
    "X_train,X_test,y_train,y_test=train_test_split(x,y,test_size=0.1,random_state=4)\n",
    "print ('Train set:', X_train.shape,  y_train.shape)\n",
    "print ('Test set:', X_test.shape,  y_test.shape)"
   ]
  },
  {
   "cell_type": "markdown",
   "id": "fc479049",
   "metadata": {
    "papermill": {
     "duration": 0.020824,
     "end_time": "2024-07-05T09:35:32.952689",
     "exception": false,
     "start_time": "2024-07-05T09:35:32.931865",
     "status": "completed"
    },
    "tags": []
   },
   "source": [
    "# Using Logistic Regression"
   ]
  },
  {
   "cell_type": "code",
   "execution_count": 23,
   "id": "183b0630",
   "metadata": {
    "execution": {
     "iopub.execute_input": "2024-07-05T09:35:32.996685Z",
     "iopub.status.busy": "2024-07-05T09:35:32.996282Z",
     "iopub.status.idle": "2024-07-05T09:35:33.030730Z",
     "shell.execute_reply": "2024-07-05T09:35:33.029210Z"
    },
    "papermill": {
     "duration": 0.061879,
     "end_time": "2024-07-05T09:35:33.035739",
     "exception": false,
     "start_time": "2024-07-05T09:35:32.973860",
     "status": "completed"
    },
    "tags": []
   },
   "outputs": [],
   "source": [
    "LR = LogisticRegression(C=0.011, solver='liblinear').fit(X_train,y_train)\n",
    "y_pred = LR.predict(X_test)"
   ]
  },
  {
   "cell_type": "code",
   "execution_count": 24,
   "id": "284f6b4b",
   "metadata": {
    "execution": {
     "iopub.execute_input": "2024-07-05T09:35:33.127236Z",
     "iopub.status.busy": "2024-07-05T09:35:33.126562Z",
     "iopub.status.idle": "2024-07-05T09:35:33.151134Z",
     "shell.execute_reply": "2024-07-05T09:35:33.150053Z"
    },
    "papermill": {
     "duration": 0.073682,
     "end_time": "2024-07-05T09:35:33.153654",
     "exception": false,
     "start_time": "2024-07-05T09:35:33.079972",
     "status": "completed"
    },
    "tags": []
   },
   "outputs": [
    {
     "data": {
      "text/plain": [
       "array([0, 1, 0, 1, 1, 1, 0, 1, 1, 1, 1, 1, 0, 0, 0, 1, 1, 1, 0, 0, 1, 1,\n",
       "       1, 1, 0, 0, 1, 1, 0, 1, 1, 1, 1, 0, 1, 1, 1, 0, 0, 1, 0, 0, 0, 1,\n",
       "       0, 0, 1, 0, 1, 0, 0, 1, 1, 0, 0, 0, 1, 0, 1, 1, 0, 1, 1, 0, 0, 0,\n",
       "       0, 1, 0, 0, 0, 0, 0, 1, 1, 1, 0, 0, 0, 1, 1, 1, 1, 0, 0, 0, 1, 0,\n",
       "       0, 0, 1, 0, 1, 1, 0, 1, 0, 1, 0, 0, 0, 0, 0, 1, 0, 1, 1, 1, 0, 0,\n",
       "       1, 1, 1, 1, 0, 1, 1, 1, 0, 0, 1, 1, 1, 1, 1, 1, 1, 0, 1, 0, 1, 1,\n",
       "       0, 0, 1, 0, 1, 0, 1, 1, 1, 0, 0, 1, 1, 0, 1, 0, 1, 1, 0, 0, 0, 1,\n",
       "       1, 0, 0, 1, 1, 1, 1, 1, 1, 1, 1, 1, 1, 1, 1, 1, 1, 0, 1, 0, 0, 0,\n",
       "       1, 0, 1, 1, 0, 0, 1, 0, 0, 1, 1, 0, 1, 1, 1, 1, 1, 0, 0, 0, 0, 0,\n",
       "       0, 0, 0, 0, 0, 1, 0, 1, 0, 1, 1, 0, 0, 1, 1, 1, 1, 1, 1, 1, 1, 0,\n",
       "       1, 0, 1, 0, 1, 1, 1, 1, 0, 0, 1, 1, 0, 1, 1, 1, 1, 1, 0, 1, 1, 1,\n",
       "       0, 1, 1, 0, 0, 1, 1, 1, 1, 0, 0, 1, 1, 1, 0, 0, 0, 0, 1, 0, 0, 0,\n",
       "       1, 1, 0, 1, 1, 0, 0, 0, 0, 0, 1, 0, 1, 0, 0, 1, 0, 0, 0, 0, 0, 1,\n",
       "       1, 1, 0, 0, 0, 0, 0, 1, 1, 1, 0, 0, 0, 0, 1, 1, 1, 1, 0, 0, 0, 1,\n",
       "       0, 1, 0, 0, 1, 1, 0, 1, 0, 1, 0, 0, 1, 1, 0, 1, 1, 1, 1, 0, 1, 0,\n",
       "       1, 0, 1, 0, 0, 0, 1, 1, 1, 1, 0, 1, 1, 1, 1, 1, 0, 0, 0, 0, 1, 0,\n",
       "       1, 0, 1, 1, 1, 1, 1, 0, 0, 1, 1, 0, 1, 1, 0, 0, 0, 1, 1, 0, 0, 0,\n",
       "       1, 1, 1, 1, 1, 1, 1, 1, 1, 0, 0, 1, 0, 1, 1, 1, 0, 1, 1, 0, 0, 1,\n",
       "       1, 0, 0, 1, 1, 0, 1, 0, 1, 0, 0, 1, 0, 1, 1, 0, 0, 0, 1, 0, 1, 1,\n",
       "       0, 0, 0, 0, 1, 0, 0, 1, 1, 1, 1, 1, 0, 0, 1, 1, 1, 0, 1, 0, 1, 1,\n",
       "       1, 1, 0, 1, 1, 0, 0, 0, 0, 0, 1, 0, 1, 1, 0, 0, 1, 0, 1, 0, 0, 1,\n",
       "       1, 0, 1, 1, 0, 1, 1, 0, 1, 1, 1, 1, 1, 0, 1, 0, 1, 0, 0, 1, 0, 1,\n",
       "       0, 0, 1, 1, 0, 0, 0, 1, 1, 0, 0, 0, 0, 0, 1, 1, 1, 0, 1, 1, 1, 0,\n",
       "       1, 0, 0, 0, 1, 1, 1, 1, 1, 1, 1, 0, 1, 1, 1, 1, 1, 1, 0, 0, 1, 0,\n",
       "       1, 1, 1, 1, 1, 1, 1, 1, 0, 1, 1, 0, 0, 1, 0, 1, 0, 1, 1, 1, 1, 1,\n",
       "       0, 1, 0, 1, 1, 1, 0, 0, 1, 1, 1, 1, 0, 0, 0, 1, 1, 1, 1, 0, 1, 1,\n",
       "       1, 0, 0, 1, 1, 1, 1, 1, 1, 1, 1, 1, 1, 1, 1, 0, 0, 1, 0, 1, 1, 1,\n",
       "       1, 0, 0, 1, 0, 0, 0, 1, 1, 1, 1, 1, 1, 1, 0, 1, 1, 0, 1, 1, 1, 1,\n",
       "       1, 0, 1, 1, 0, 1, 0, 1, 0, 1, 1, 0, 1, 1, 0, 1, 1, 0, 0, 1, 1, 0,\n",
       "       1, 0, 1, 1, 0, 1, 1, 1, 1, 0, 0, 0, 1, 0, 0, 0, 1, 0, 0, 0, 1, 1,\n",
       "       0, 1, 1, 1, 0, 0, 1, 1, 0, 0, 0, 0, 1, 0, 1, 1, 0, 1, 0, 0, 1, 0,\n",
       "       0, 0, 0, 1, 0, 1, 1, 0, 1, 1, 0, 1, 0, 1, 1, 1, 1, 1, 1, 0, 0, 1,\n",
       "       0, 0, 1, 0, 0, 1, 0, 1, 0, 0, 1, 0, 1, 0, 1, 0, 1, 0, 1, 1, 1, 1,\n",
       "       0, 0, 1, 0, 1, 1, 1, 1, 1, 0, 1, 0, 0, 0, 1, 1, 0, 0, 0, 1, 1, 1,\n",
       "       0, 1, 1, 1, 1, 1, 1, 0, 1, 0, 0, 1, 1, 1, 1, 1, 0, 1, 0, 0, 0, 1,\n",
       "       0, 1, 1, 0, 1, 0, 1, 0, 0, 0, 1, 0, 0, 1, 1, 0, 0, 1, 0, 0, 1, 1,\n",
       "       1, 1, 0, 0, 1, 1, 0, 1])"
      ]
     },
     "execution_count": 24,
     "metadata": {},
     "output_type": "execute_result"
    }
   ],
   "source": [
    "y_pred"
   ]
  },
  {
   "cell_type": "code",
   "execution_count": 25,
   "id": "43491b03",
   "metadata": {
    "execution": {
     "iopub.execute_input": "2024-07-05T09:35:33.201024Z",
     "iopub.status.busy": "2024-07-05T09:35:33.199674Z",
     "iopub.status.idle": "2024-07-05T09:35:33.212448Z",
     "shell.execute_reply": "2024-07-05T09:35:33.211042Z"
    },
    "papermill": {
     "duration": 0.038331,
     "end_time": "2024-07-05T09:35:33.215103",
     "exception": false,
     "start_time": "2024-07-05T09:35:33.176772",
     "status": "completed"
    },
    "tags": []
   },
   "outputs": [
    {
     "name": "stdout",
     "output_type": "stream",
     "text": [
      "F1_score:0.6850\n",
      "Accuracy: 0.686250\n"
     ]
    }
   ],
   "source": [
    "LR_score=accuracy_score(y_test, y_pred)\n",
    "LR_F1_SCORE=f1_score(y_test, y_pred, average='weighted') \n",
    "print('F1_score:%.4f'%LR_F1_SCORE)\n",
    "print('Accuracy: %f' % accuracy_score(y_test, y_pred))"
   ]
  },
  {
   "cell_type": "code",
   "execution_count": 26,
   "id": "41f09f8a",
   "metadata": {
    "execution": {
     "iopub.execute_input": "2024-07-05T09:35:33.259613Z",
     "iopub.status.busy": "2024-07-05T09:35:33.259208Z",
     "iopub.status.idle": "2024-07-05T09:35:33.275277Z",
     "shell.execute_reply": "2024-07-05T09:35:33.274233Z"
    },
    "papermill": {
     "duration": 0.041335,
     "end_time": "2024-07-05T09:35:33.277886",
     "exception": false,
     "start_time": "2024-07-05T09:35:33.236551",
     "status": "completed"
    },
    "tags": []
   },
   "outputs": [
    {
     "name": "stdout",
     "output_type": "stream",
     "text": [
      "              precision    recall  f1-score   support\n",
      "\n",
      "           0       0.63      0.70      0.66       349\n",
      "           1       0.74      0.68      0.71       451\n",
      "\n",
      "    accuracy                           0.69       800\n",
      "   macro avg       0.68      0.69      0.68       800\n",
      "weighted avg       0.69      0.69      0.69       800\n",
      "\n"
     ]
    }
   ],
   "source": [
    "print(classification_report(y_pred, y_test))"
   ]
  },
  {
   "cell_type": "code",
   "execution_count": 27,
   "id": "b7a8bed9",
   "metadata": {
    "execution": {
     "iopub.execute_input": "2024-07-05T09:35:33.322885Z",
     "iopub.status.busy": "2024-07-05T09:35:33.322485Z",
     "iopub.status.idle": "2024-07-05T09:35:33.598545Z",
     "shell.execute_reply": "2024-07-05T09:35:33.597332Z"
    },
    "papermill": {
     "duration": 0.301634,
     "end_time": "2024-07-05T09:35:33.601015",
     "exception": false,
     "start_time": "2024-07-05T09:35:33.299381",
     "status": "completed"
    },
    "tags": []
   },
   "outputs": [
    {
     "name": "stdout",
     "output_type": "stream",
     "text": [
      "Confusion matrix, without normalization\n",
      "[[244 146]\n",
      " [105 305]]\n"
     ]
    },
    {
     "data": {
      "image/png": "[encoded data removed]",
      "text/plain": [
       "<Figure size 640x480 with 2 Axes>"
      ]
     },
     "metadata": {},
     "output_type": "display_data"
    }
   ],
   "source": [
    "cnf_matrix = confusion_matrix(y_test, y_pred)\n",
    "class_names = ['Approval', 'Not Approval']\n",
    "plot_confusion_matrix(cnf_matrix, classes=class_names, normalize=False, title='Confusion Matrix')\n",
    "plt.show()"
   ]
  },
  {
   "cell_type": "markdown",
   "id": "6aa2fa31",
   "metadata": {
    "papermill": {
     "duration": 0.022873,
     "end_time": "2024-07-05T09:35:33.646227",
     "exception": false,
     "start_time": "2024-07-05T09:35:33.623354",
     "status": "completed"
    },
    "tags": []
   },
   "source": [
    "# Using SVM"
   ]
  },
  {
   "cell_type": "code",
   "execution_count": 28,
   "id": "1c8fa99a",
   "metadata": {
    "execution": {
     "iopub.execute_input": "2024-07-05T09:35:33.692420Z",
     "iopub.status.busy": "2024-07-05T09:35:33.692015Z",
     "iopub.status.idle": "2024-07-05T09:35:35.581989Z",
     "shell.execute_reply": "2024-07-05T09:35:35.580862Z"
    },
    "papermill": {
     "duration": 1.91655,
     "end_time": "2024-07-05T09:35:35.585057",
     "exception": false,
     "start_time": "2024-07-05T09:35:33.668507",
     "status": "completed"
    },
    "tags": []
   },
   "outputs": [
    {
     "data": {
      "text/html": [
       "<style>#sk-container-id-1 {color: black;background-color: white;}#sk-container-id-1 pre{padding: 0;}#sk-container-id-1 div.sk-toggleable {background-color: white;}#sk-container-id-1 label.sk-toggleable__label {cursor: pointer;display: block;width: 100%;margin-bottom: 0;padding: 0.3em;box-sizing: border-box;text-align: center;}#sk-container-id-1 label.sk-toggleable__label-arrow:before {content: \"▸\";float: left;margin-right: 0.25em;color: #696969;}#sk-container-id-1 label.sk-toggleable__label-arrow:hover:before {color: black;}#sk-container-id-1 div.sk-estimator:hover label.sk-toggleable__label-arrow:before {color: black;}#sk-container-id-1 div.sk-toggleable__content {max-height: 0;max-width: 0;overflow: hidden;text-align: left;background-color: #f0f8ff;}#sk-container-id-1 div.sk-toggleable__content pre {margin: 0.2em;color: black;border-radius: 0.25em;background-color: #f0f8ff;}#sk-container-id-1 input.sk-toggleable__control:checked~div.sk-toggleable__content {max-height: 200px;max-width: 100%;overflow: auto;}#sk-container-id-1 input.sk-toggleable__control:checked~label.sk-toggleable__label-arrow:before {content: \"▾\";}#sk-container-id-1 div.sk-estimator input.sk-toggleable__control:checked~label.sk-toggleable__label {background-color: #d4ebff;}#sk-container-id-1 div.sk-label input.sk-toggleable__control:checked~label.sk-toggleable__label {background-color: #d4ebff;}#sk-container-id-1 input.sk-hidden--visually {border: 0;clip: rect(1px 1px 1px 1px);clip: rect(1px, 1px, 1px, 1px);height: 1px;margin: -1px;overflow: hidden;padding: 0;position: absolute;width: 1px;}#sk-container-id-1 div.sk-estimator {font-family: monospace;background-color: #f0f8ff;border: 1px dotted black;border-radius: 0.25em;box-sizing: border-box;margin-bottom: 0.5em;}#sk-container-id-1 div.sk-estimator:hover {background-color: #d4ebff;}#sk-container-id-1 div.sk-parallel-item::after {content: \"\";width: 100%;border-bottom: 1px solid gray;flex-grow: 1;}#sk-container-id-1 div.sk-label:hover label.sk-toggleable__label {background-color: #d4ebff;}#sk-container-id-1 div.sk-serial::before {content: \"\";position: absolute;border-left: 1px solid gray;box-sizing: border-box;top: 0;bottom: 0;left: 50%;z-index: 0;}#sk-container-id-1 div.sk-serial {display: flex;flex-direction: column;align-items: center;background-color: white;padding-right: 0.2em;padding-left: 0.2em;position: relative;}#sk-container-id-1 div.sk-item {position: relative;z-index: 1;}#sk-container-id-1 div.sk-parallel {display: flex;align-items: stretch;justify-content: center;background-color: white;position: relative;}#sk-container-id-1 div.sk-item::before, #sk-container-id-1 div.sk-parallel-item::before {content: \"\";position: absolute;border-left: 1px solid gray;box-sizing: border-box;top: 0;bottom: 0;left: 50%;z-index: -1;}#sk-container-id-1 div.sk-parallel-item {display: flex;flex-direction: column;z-index: 1;position: relative;background-color: white;}#sk-container-id-1 div.sk-parallel-item:first-child::after {align-self: flex-end;width: 50%;}#sk-container-id-1 div.sk-parallel-item:last-child::after {align-self: flex-start;width: 50%;}#sk-container-id-1 div.sk-parallel-item:only-child::after {width: 0;}#sk-container-id-1 div.sk-dashed-wrapped {border: 1px dashed gray;margin: 0 0.4em 0.5em 0.4em;box-sizing: border-box;padding-bottom: 0.4em;background-color: white;}#sk-container-id-1 div.sk-label label {font-family: monospace;font-weight: bold;display: inline-block;line-height: 1.2em;}#sk-container-id-1 div.sk-label-container {text-align: center;}#sk-container-id-1 div.sk-container {/* jupyter's `normalize.less` sets `[hidden] { display: none; }` but bootstrap.min.css set `[hidden] { display: none !important; }` so we also need the `!important` here to be able to override the default hidden behavior on the sphinx rendered scikit-learn.org. See: https://github.com/scikit-learn/scikit-learn/issues/21755 */display: inline-block !important;position: relative;}#sk-container-id-1 div.sk-text-repr-fallback {display: none;}</style><div id=\"sk-container-id-1\" class=\"sk-top-container\"><div class=\"sk-text-repr-fallback\"><pre>SVC(C=10, gamma=1)</pre><b>In a Jupyter environment, please rerun this cell to show the HTML representation or trust the notebook. <br />On GitHub, the HTML representation is unable to render, please try loading this page with nbviewer.org.</b></div><div class=\"sk-container\" hidden><div class=\"sk-item\"><div class=\"sk-estimator sk-toggleable\"><input class=\"sk-toggleable__control sk-hidden--visually\" id=\"sk-estimator-id-1\" type=\"checkbox\" checked><label for=\"sk-estimator-id-1\" class=\"sk-toggleable__label sk-toggleable__label-arrow\">SVC</label><div class=\"sk-toggleable__content\"><pre>SVC(C=10, gamma=1)</pre></div></div></div></div></div>"
      ],
      "text/plain": [
       "SVC(C=10, gamma=1)"
      ]
     },
     "execution_count": 28,
     "metadata": {},
     "output_type": "execute_result"
    }
   ],
   "source": [
    "clf = svm.SVC(C=10, gamma =1,kernel='rbf')\n",
    "clf.fit(X_train, y_train) "
   ]
  },
  {
   "cell_type": "code",
   "execution_count": 29,
   "id": "4010072f",
   "metadata": {
    "execution": {
     "iopub.execute_input": "2024-07-05T09:35:35.637989Z",
     "iopub.status.busy": "2024-07-05T09:35:35.636871Z",
     "iopub.status.idle": "2024-07-05T09:35:35.777020Z",
     "shell.execute_reply": "2024-07-05T09:35:35.775619Z"
    },
    "papermill": {
     "duration": 0.166593,
     "end_time": "2024-07-05T09:35:35.779494",
     "exception": false,
     "start_time": "2024-07-05T09:35:35.612901",
     "status": "completed"
    },
    "tags": []
   },
   "outputs": [
    {
     "data": {
      "text/plain": [
       "array([0, 1, 1, 1, 1, 1, 1, 1, 1, 1, 0, 1, 0, 0, 1, 1, 0, 1, 1, 0, 1, 1,\n",
       "       1, 1, 1, 0, 1, 1, 1, 1, 1, 1, 0, 1, 1, 1, 1, 0, 0, 1, 0, 0, 0, 0,\n",
       "       0, 1, 1, 0, 1, 0, 0, 1, 0, 0, 0, 1, 1, 0, 1, 0, 0, 1, 1, 1, 1, 1,\n",
       "       0, 1, 1, 0, 0, 0, 1, 1, 1, 0, 0, 0, 0, 0, 1, 1, 0, 1, 0, 0, 1, 1,\n",
       "       1, 0, 1, 1, 1, 1, 0, 1, 1, 0, 0, 0, 0, 1, 1, 1, 0, 1, 1, 1, 1, 0,\n",
       "       0, 1, 1, 1, 0, 0, 0, 1, 1, 0, 1, 1, 1, 1, 0, 1, 1, 0, 1, 0, 1, 1,\n",
       "       0, 0, 1, 0, 0, 1, 1, 1, 1, 0, 0, 1, 1, 0, 0, 0, 1, 0, 0, 0, 1, 1,\n",
       "       0, 0, 0, 1, 0, 0, 0, 0, 0, 1, 1, 1, 1, 1, 1, 1, 1, 0, 1, 0, 1, 1,\n",
       "       1, 1, 1, 1, 0, 0, 1, 0, 0, 1, 0, 0, 0, 1, 0, 0, 1, 1, 0, 0, 1, 0,\n",
       "       0, 1, 0, 0, 0, 1, 0, 1, 1, 0, 1, 0, 0, 1, 0, 1, 1, 1, 0, 1, 1, 0,\n",
       "       1, 0, 1, 1, 1, 0, 0, 1, 0, 1, 1, 1, 0, 1, 1, 1, 0, 0, 1, 1, 0, 1,\n",
       "       0, 1, 1, 0, 1, 0, 0, 0, 1, 1, 1, 0, 1, 0, 1, 0, 1, 0, 0, 0, 0, 0,\n",
       "       1, 1, 0, 0, 0, 0, 0, 0, 0, 0, 1, 0, 1, 1, 0, 1, 0, 0, 0, 1, 1, 1,\n",
       "       1, 1, 0, 1, 0, 0, 0, 1, 1, 1, 1, 1, 0, 0, 1, 1, 0, 0, 0, 0, 0, 1,\n",
       "       1, 1, 0, 0, 0, 0, 0, 1, 0, 0, 1, 0, 1, 0, 1, 1, 1, 1, 1, 1, 1, 0,\n",
       "       1, 1, 1, 0, 0, 1, 1, 1, 1, 1, 0, 1, 1, 1, 0, 1, 1, 1, 0, 0, 1, 0,\n",
       "       0, 1, 1, 1, 0, 0, 1, 0, 0, 1, 1, 0, 1, 1, 0, 0, 0, 1, 1, 0, 0, 0,\n",
       "       1, 0, 1, 1, 0, 0, 1, 0, 1, 0, 0, 1, 0, 1, 0, 1, 1, 1, 1, 1, 1, 0,\n",
       "       1, 0, 0, 0, 1, 1, 1, 0, 1, 0, 0, 1, 1, 1, 1, 1, 1, 1, 1, 0, 0, 0,\n",
       "       1, 0, 0, 0, 0, 0, 0, 1, 1, 1, 1, 1, 1, 0, 1, 1, 0, 0, 1, 0, 0, 1,\n",
       "       1, 1, 1, 0, 1, 0, 1, 0, 0, 0, 1, 0, 1, 1, 1, 0, 1, 0, 0, 0, 1, 1,\n",
       "       0, 0, 1, 1, 0, 1, 0, 0, 1, 0, 1, 0, 1, 0, 1, 0, 1, 0, 0, 1, 1, 1,\n",
       "       0, 0, 0, 1, 1, 1, 1, 1, 0, 0, 0, 0, 0, 0, 1, 0, 0, 1, 1, 1, 0, 0,\n",
       "       0, 0, 0, 0, 1, 0, 1, 1, 0, 1, 1, 1, 1, 0, 1, 1, 1, 1, 1, 0, 0, 0,\n",
       "       1, 1, 1, 1, 1, 1, 1, 0, 1, 0, 1, 1, 0, 0, 1, 1, 1, 1, 1, 1, 1, 1,\n",
       "       0, 1, 0, 1, 1, 1, 0, 0, 1, 1, 1, 0, 0, 0, 1, 1, 1, 1, 0, 0, 1, 1,\n",
       "       0, 1, 0, 1, 1, 1, 0, 0, 1, 1, 1, 1, 1, 1, 1, 0, 0, 0, 0, 1, 1, 1,\n",
       "       0, 0, 0, 0, 0, 0, 0, 1, 1, 1, 1, 1, 0, 1, 0, 0, 1, 0, 1, 1, 1, 1,\n",
       "       1, 1, 0, 1, 0, 1, 0, 1, 1, 1, 1, 1, 1, 0, 0, 1, 0, 0, 1, 1, 1, 0,\n",
       "       1, 0, 0, 1, 0, 0, 0, 1, 1, 1, 0, 0, 1, 0, 0, 0, 0, 0, 0, 0, 1, 1,\n",
       "       0, 1, 1, 1, 0, 0, 1, 1, 0, 0, 0, 0, 1, 1, 0, 1, 0, 1, 0, 1, 0, 1,\n",
       "       0, 0, 0, 1, 0, 1, 1, 0, 1, 1, 1, 1, 0, 1, 0, 1, 1, 1, 1, 0, 0, 1,\n",
       "       1, 0, 1, 1, 0, 1, 1, 1, 0, 0, 1, 0, 1, 1, 1, 1, 1, 0, 1, 1, 1, 1,\n",
       "       0, 0, 1, 0, 1, 1, 0, 1, 1, 0, 0, 0, 0, 1, 1, 1, 0, 1, 0, 1, 0, 0,\n",
       "       0, 1, 1, 1, 0, 0, 0, 1, 0, 1, 0, 1, 1, 1, 0, 1, 0, 1, 0, 0, 0, 1,\n",
       "       0, 1, 0, 1, 0, 0, 1, 0, 1, 0, 0, 0, 0, 1, 0, 1, 0, 0, 1, 0, 0, 0,\n",
       "       1, 1, 1, 0, 1, 1, 0, 1])"
      ]
     },
     "execution_count": 29,
     "metadata": {},
     "output_type": "execute_result"
    }
   ],
   "source": [
    "y_pred = clf.predict(X_test)\n",
    "y_pred "
   ]
  },
  {
   "cell_type": "code",
   "execution_count": 30,
   "id": "adb0b241",
   "metadata": {
    "execution": {
     "iopub.execute_input": "2024-07-05T09:35:35.826691Z",
     "iopub.status.busy": "2024-07-05T09:35:35.826282Z",
     "iopub.status.idle": "2024-07-05T09:35:35.839171Z",
     "shell.execute_reply": "2024-07-05T09:35:35.837625Z"
    },
    "papermill": {
     "duration": 0.039435,
     "end_time": "2024-07-05T09:35:35.841694",
     "exception": false,
     "start_time": "2024-07-05T09:35:35.802259",
     "status": "completed"
    },
    "tags": []
   },
   "outputs": [
    {
     "name": "stdout",
     "output_type": "stream",
     "text": [
      "F1_score:0.8948\n",
      "Accuracy: 0.895000\n"
     ]
    }
   ],
   "source": [
    "SVM_score=accuracy_score(y_test, y_pred)\n",
    "SVM_F1_SCORE=f1_score(y_test, y_pred, average='weighted') \n",
    "print('F1_score:%.4f'%SVM_F1_SCORE)\n",
    "print('Accuracy: %f' % accuracy_score(y_test, y_pred))"
   ]
  },
  {
   "cell_type": "code",
   "execution_count": 31,
   "id": "97b7a2e6",
   "metadata": {
    "execution": {
     "iopub.execute_input": "2024-07-05T09:35:35.889929Z",
     "iopub.status.busy": "2024-07-05T09:35:35.889523Z",
     "iopub.status.idle": "2024-07-05T09:35:35.905417Z",
     "shell.execute_reply": "2024-07-05T09:35:35.903997Z"
    },
    "papermill": {
     "duration": 0.043007,
     "end_time": "2024-07-05T09:35:35.907882",
     "exception": false,
     "start_time": "2024-07-05T09:35:35.864875",
     "status": "completed"
    },
    "tags": []
   },
   "outputs": [
    {
     "name": "stdout",
     "output_type": "stream",
     "text": [
      "              precision    recall  f1-score   support\n",
      "\n",
      "           0       0.86      0.92      0.89       364\n",
      "           1       0.93      0.87      0.90       436\n",
      "\n",
      "    accuracy                           0.90       800\n",
      "   macro avg       0.89      0.90      0.89       800\n",
      "weighted avg       0.90      0.90      0.90       800\n",
      "\n"
     ]
    }
   ],
   "source": [
    "print(classification_report(y_pred, y_test))"
   ]
  },
  {
   "cell_type": "code",
   "execution_count": 32,
   "id": "b4de142a",
   "metadata": {
    "execution": {
     "iopub.execute_input": "2024-07-05T09:35:35.955881Z",
     "iopub.status.busy": "2024-07-05T09:35:35.955482Z",
     "iopub.status.idle": "2024-07-05T09:35:36.219318Z",
     "shell.execute_reply": "2024-07-05T09:35:36.218238Z"
    },
    "papermill": {
     "duration": 0.290772,
     "end_time": "2024-07-05T09:35:36.221777",
     "exception": false,
     "start_time": "2024-07-05T09:35:35.931005",
     "status": "completed"
    },
    "tags": []
   },
   "outputs": [
    {
     "name": "stdout",
     "output_type": "stream",
     "text": [
      "Confusion matrix, without normalization\n",
      "[[335  55]\n",
      " [ 29 381]]\n"
     ]
    },
    {
     "data": {
      "image/png": "[encoded data removed]",
      "text/plain": [
       "<Figure size 640x480 with 2 Axes>"
      ]
     },
     "metadata": {},
     "output_type": "display_data"
    }
   ],
   "source": [
    "cnf_matrix = confusion_matrix(y_test, y_pred)\n",
    "class_names = ['Approval', 'Not Approval']\n",
    "plot_confusion_matrix(cnf_matrix, classes=class_names, normalize=False, title='Confusion Matrix')\n",
    "plt.show()"
   ]
  },
  {
   "cell_type": "markdown",
   "id": "eca479a7",
   "metadata": {
    "papermill": {
     "duration": 0.023409,
     "end_time": "2024-07-05T09:35:36.269014",
     "exception": false,
     "start_time": "2024-07-05T09:35:36.245605",
     "status": "completed"
    },
    "tags": []
   },
   "source": [
    "# Using KNN"
   ]
  },
  {
   "cell_type": "code",
   "execution_count": 33,
   "id": "fcf4f51f",
   "metadata": {
    "execution": {
     "iopub.execute_input": "2024-07-05T09:35:36.317922Z",
     "iopub.status.busy": "2024-07-05T09:35:36.317198Z",
     "iopub.status.idle": "2024-07-05T09:35:36.329193Z",
     "shell.execute_reply": "2024-07-05T09:35:36.328005Z"
    },
    "papermill": {
     "duration": 0.039214,
     "end_time": "2024-07-05T09:35:36.331598",
     "exception": false,
     "start_time": "2024-07-05T09:35:36.292384",
     "status": "completed"
    },
    "tags": []
   },
   "outputs": [
    {
     "data": {
      "text/plain": [
       "array([[ 0.60976249,  0.14126739,  1.35699458, -1.72507448, -0.12852402,\n",
       "         8.65884082, -1.00892875, -0.37073003,  1.81469209,  0.1450563 ,\n",
       "         0.193746  , -0.83654054, -0.58428189, -0.48417903, -0.42169905,\n",
       "         0.53254854],\n",
       "       [-0.6549405 ,  1.39736523, -0.24155924, -0.36704515, -0.12852402,\n",
       "        -0.53171144,  0.99115027, -0.37073003, -0.61118668,  1.60457235,\n",
       "        -1.37117567, -0.77378404,  0.53604557, -0.48417903, -0.42169905,\n",
       "         0.53254854],\n",
       "       [-0.4019999 ,  1.39736523,  1.35699458, -0.36704515, -0.12852402,\n",
       "         0.77263235, -1.00892875, -0.37073003, -0.61118668, -0.46307539,\n",
       "        -1.37117567,  0.78942325,  0.16260308, -0.48417903, -0.42169905,\n",
       "         0.53254854],\n",
       "       [-0.23337283,  1.39736523, -0.24155924,  2.34901351, -0.12852402,\n",
       "        -0.23311814, -1.00892875, -0.37073003,  1.81469209,  1.72619869,\n",
       "         0.81971466,  1.2486867 , -0.21083941, -0.48417903, -0.42169905,\n",
       "         0.53254854],\n",
       "       [-0.4019999 , -0.80080598,  1.35699458, -0.36704515, -0.12852402,\n",
       "         6.74734546,  0.99115027, -0.37073003,  0.6017527 , -1.43608609,\n",
       "         0.81971466, -0.77663661, -0.58428189, -0.48417903, -0.42169905,\n",
       "         0.53254854]])"
      ]
     },
     "execution_count": 33,
     "metadata": {},
     "output_type": "execute_result"
    }
   ],
   "source": [
    "x_train_norm = preprocessing.StandardScaler().fit(X_train).transform(X_train)\n",
    "x_train_norm[0:5]"
   ]
  },
  {
   "cell_type": "code",
   "execution_count": 34,
   "id": "64ac6646",
   "metadata": {
    "execution": {
     "iopub.execute_input": "2024-07-05T09:35:36.381584Z",
     "iopub.status.busy": "2024-07-05T09:35:36.380786Z",
     "iopub.status.idle": "2024-07-05T09:35:36.390047Z",
     "shell.execute_reply": "2024-07-05T09:35:36.389007Z"
    },
    "papermill": {
     "duration": 0.037018,
     "end_time": "2024-07-05T09:35:36.392527",
     "exception": false,
     "start_time": "2024-07-05T09:35:36.355509",
     "status": "completed"
    },
    "tags": []
   },
   "outputs": [
    {
     "data": {
      "text/html": [
       "<style>#sk-container-id-2 {color: black;background-color: white;}#sk-container-id-2 pre{padding: 0;}#sk-container-id-2 div.sk-toggleable {background-color: white;}#sk-container-id-2 label.sk-toggleable__label {cursor: pointer;display: block;width: 100%;margin-bottom: 0;padding: 0.3em;box-sizing: border-box;text-align: center;}#sk-container-id-2 label.sk-toggleable__label-arrow:before {content: \"▸\";float: left;margin-right: 0.25em;color: #696969;}#sk-container-id-2 label.sk-toggleable__label-arrow:hover:before {color: black;}#sk-container-id-2 div.sk-estimator:hover label.sk-toggleable__label-arrow:before {color: black;}#sk-container-id-2 div.sk-toggleable__content {max-height: 0;max-width: 0;overflow: hidden;text-align: left;background-color: #f0f8ff;}#sk-container-id-2 div.sk-toggleable__content pre {margin: 0.2em;color: black;border-radius: 0.25em;background-color: #f0f8ff;}#sk-container-id-2 input.sk-toggleable__control:checked~div.sk-toggleable__content {max-height: 200px;max-width: 100%;overflow: auto;}#sk-container-id-2 input.sk-toggleable__control:checked~label.sk-toggleable__label-arrow:before {content: \"▾\";}#sk-container-id-2 div.sk-estimator input.sk-toggleable__control:checked~label.sk-toggleable__label {background-color: #d4ebff;}#sk-container-id-2 div.sk-label input.sk-toggleable__control:checked~label.sk-toggleable__label {background-color: #d4ebff;}#sk-container-id-2 input.sk-hidden--visually {border: 0;clip: rect(1px 1px 1px 1px);clip: rect(1px, 1px, 1px, 1px);height: 1px;margin: -1px;overflow: hidden;padding: 0;position: absolute;width: 1px;}#sk-container-id-2 div.sk-estimator {font-family: monospace;background-color: #f0f8ff;border: 1px dotted black;border-radius: 0.25em;box-sizing: border-box;margin-bottom: 0.5em;}#sk-container-id-2 div.sk-estimator:hover {background-color: #d4ebff;}#sk-container-id-2 div.sk-parallel-item::after {content: \"\";width: 100%;border-bottom: 1px solid gray;flex-grow: 1;}#sk-container-id-2 div.sk-label:hover label.sk-toggleable__label {background-color: #d4ebff;}#sk-container-id-2 div.sk-serial::before {content: \"\";position: absolute;border-left: 1px solid gray;box-sizing: border-box;top: 0;bottom: 0;left: 50%;z-index: 0;}#sk-container-id-2 div.sk-serial {display: flex;flex-direction: column;align-items: center;background-color: white;padding-right: 0.2em;padding-left: 0.2em;position: relative;}#sk-container-id-2 div.sk-item {position: relative;z-index: 1;}#sk-container-id-2 div.sk-parallel {display: flex;align-items: stretch;justify-content: center;background-color: white;position: relative;}#sk-container-id-2 div.sk-item::before, #sk-container-id-2 div.sk-parallel-item::before {content: \"\";position: absolute;border-left: 1px solid gray;box-sizing: border-box;top: 0;bottom: 0;left: 50%;z-index: -1;}#sk-container-id-2 div.sk-parallel-item {display: flex;flex-direction: column;z-index: 1;position: relative;background-color: white;}#sk-container-id-2 div.sk-parallel-item:first-child::after {align-self: flex-end;width: 50%;}#sk-container-id-2 div.sk-parallel-item:last-child::after {align-self: flex-start;width: 50%;}#sk-container-id-2 div.sk-parallel-item:only-child::after {width: 0;}#sk-container-id-2 div.sk-dashed-wrapped {border: 1px dashed gray;margin: 0 0.4em 0.5em 0.4em;box-sizing: border-box;padding-bottom: 0.4em;background-color: white;}#sk-container-id-2 div.sk-label label {font-family: monospace;font-weight: bold;display: inline-block;line-height: 1.2em;}#sk-container-id-2 div.sk-label-container {text-align: center;}#sk-container-id-2 div.sk-container {/* jupyter's `normalize.less` sets `[hidden] { display: none; }` but bootstrap.min.css set `[hidden] { display: none !important; }` so we also need the `!important` here to be able to override the default hidden behavior on the sphinx rendered scikit-learn.org. See: https://github.com/scikit-learn/scikit-learn/issues/21755 */display: inline-block !important;position: relative;}#sk-container-id-2 div.sk-text-repr-fallback {display: none;}</style><div id=\"sk-container-id-2\" class=\"sk-top-container\"><div class=\"sk-text-repr-fallback\"><pre>KNeighborsClassifier(n_neighbors=3)</pre><b>In a Jupyter environment, please rerun this cell to show the HTML representation or trust the notebook. <br />On GitHub, the HTML representation is unable to render, please try loading this page with nbviewer.org.</b></div><div class=\"sk-container\" hidden><div class=\"sk-item\"><div class=\"sk-estimator sk-toggleable\"><input class=\"sk-toggleable__control sk-hidden--visually\" id=\"sk-estimator-id-2\" type=\"checkbox\" checked><label for=\"sk-estimator-id-2\" class=\"sk-toggleable__label sk-toggleable__label-arrow\">KNeighborsClassifier</label><div class=\"sk-toggleable__content\"><pre>KNeighborsClassifier(n_neighbors=3)</pre></div></div></div></div></div>"
      ],
      "text/plain": [
       "KNeighborsClassifier(n_neighbors=3)"
      ]
     },
     "execution_count": 34,
     "metadata": {},
     "output_type": "execute_result"
    }
   ],
   "source": [
    "k = 3\n",
    "#Train Model and Predict  \n",
    "neigh = KNeighborsClassifier(n_neighbors = k).fit(x_train_norm,y_train)\n",
    "neigh"
   ]
  },
  {
   "cell_type": "code",
   "execution_count": 35,
   "id": "59a12861",
   "metadata": {
    "execution": {
     "iopub.execute_input": "2024-07-05T09:35:36.442610Z",
     "iopub.status.busy": "2024-07-05T09:35:36.442204Z",
     "iopub.status.idle": "2024-07-05T09:35:36.452262Z",
     "shell.execute_reply": "2024-07-05T09:35:36.451167Z"
    },
    "papermill": {
     "duration": 0.037818,
     "end_time": "2024-07-05T09:35:36.454620",
     "exception": false,
     "start_time": "2024-07-05T09:35:36.416802",
     "status": "completed"
    },
    "tags": []
   },
   "outputs": [
    {
     "data": {
      "text/plain": [
       "array([[ 0.07937294, -1.10099001, -1.80717098, -1.79158022, -0.14285714,\n",
       "        -0.59893234,  1.02275892, -0.36047677,  1.79713832, -0.88850016,\n",
       "         0.83530407, -0.76610875, -0.52464571, -0.45591269, -0.35726909,\n",
       "         0.49766169],\n",
       "       [ 1.19790759, -1.41233396, -0.24252078, -0.40945469, -0.14285714,\n",
       "        -0.60070422, -0.97774752, -0.36047677,  1.79713832, -1.36213009,\n",
       "         0.83530407,  2.7982944 , -0.52464571, -0.45591269, -0.35726909,\n",
       "         0.49766169],\n",
       "       [ 0.5956197 ,  1.38976152, -0.24252078,  0.97267084, -0.14285714,\n",
       "        -0.38896463,  1.02275892, -0.36047677, -0.61512788, -1.59894506,\n",
       "         0.52721589, -0.63052062, -0.19311604, -0.45591269, -0.35726909,\n",
       "         0.49766169],\n",
       "       [ 1.11186647, -0.16695819, -1.80717098,  0.97267084, -0.14285714,\n",
       "         3.700976  ,  1.02275892, -0.36047677, -0.61512788, -1.36213009,\n",
       "         0.21912772, -0.75828635, -0.19311604,  0.46850303,  0.18200501,\n",
       "        -1.61443037],\n",
       "       [ 2.83268901,  0.14438575, -0.24252078, -0.40945469, -0.14285714,\n",
       "         1.04980145, -0.97774752, -0.36047677,  0.59100522, -0.17805525,\n",
       "        -1.62940135, -0.54447431, -0.52464571,  1.29662545,  0.72127911,\n",
       "        -0.55838434]])"
      ]
     },
     "execution_count": 35,
     "metadata": {},
     "output_type": "execute_result"
    }
   ],
   "source": [
    "x_test_norm = preprocessing.StandardScaler().fit(X_test).transform(X_test)\n",
    "x_test_norm[0:5]"
   ]
  },
  {
   "cell_type": "code",
   "execution_count": 36,
   "id": "a6eedebc",
   "metadata": {
    "execution": {
     "iopub.execute_input": "2024-07-05T09:35:36.505178Z",
     "iopub.status.busy": "2024-07-05T09:35:36.504758Z",
     "iopub.status.idle": "2024-07-05T09:35:36.638522Z",
     "shell.execute_reply": "2024-07-05T09:35:36.637402Z"
    },
    "papermill": {
     "duration": 0.161962,
     "end_time": "2024-07-05T09:35:36.641131",
     "exception": false,
     "start_time": "2024-07-05T09:35:36.479169",
     "status": "completed"
    },
    "tags": []
   },
   "outputs": [
    {
     "data": {
      "text/plain": [
       "array([0, 1, 1, 1, 1])"
      ]
     },
     "execution_count": 36,
     "metadata": {},
     "output_type": "execute_result"
    }
   ],
   "source": [
    "y_pred = neigh.predict(x_test_norm)\n",
    "y_pred[0:5]"
   ]
  },
  {
   "cell_type": "code",
   "execution_count": 37,
   "id": "0b541da8",
   "metadata": {
    "execution": {
     "iopub.execute_input": "2024-07-05T09:35:36.691687Z",
     "iopub.status.busy": "2024-07-05T09:35:36.691308Z",
     "iopub.status.idle": "2024-07-05T09:35:36.702857Z",
     "shell.execute_reply": "2024-07-05T09:35:36.701826Z"
    },
    "papermill": {
     "duration": 0.039641,
     "end_time": "2024-07-05T09:35:36.705381",
     "exception": false,
     "start_time": "2024-07-05T09:35:36.665740",
     "status": "completed"
    },
    "tags": []
   },
   "outputs": [
    {
     "name": "stdout",
     "output_type": "stream",
     "text": [
      "F1_score:0.9384\n",
      "Test set Accuracy:  0.93875\n"
     ]
    }
   ],
   "source": [
    "knn_score=accuracy_score(y_test, y_pred)\n",
    "kNN_F1_SCORE=f1_score(y_test, y_pred, average='weighted') \n",
    "print('F1_score:%.4f'%kNN_F1_SCORE)\n",
    "print(\"Test set Accuracy: \", accuracy_score(y_test, y_pred))"
   ]
  },
  {
   "cell_type": "code",
   "execution_count": 38,
   "id": "6bd776a2",
   "metadata": {
    "execution": {
     "iopub.execute_input": "2024-07-05T09:35:36.757045Z",
     "iopub.status.busy": "2024-07-05T09:35:36.756617Z",
     "iopub.status.idle": "2024-07-05T09:35:36.772944Z",
     "shell.execute_reply": "2024-07-05T09:35:36.771734Z"
    },
    "papermill": {
     "duration": 0.045333,
     "end_time": "2024-07-05T09:35:36.775645",
     "exception": false,
     "start_time": "2024-07-05T09:35:36.730312",
     "status": "completed"
    },
    "tags": []
   },
   "outputs": [
    {
     "name": "stdout",
     "output_type": "stream",
     "text": [
      "              precision    recall  f1-score   support\n",
      "\n",
      "           0       0.87      1.00      0.93       341\n",
      "           1       1.00      0.89      0.94       459\n",
      "\n",
      "    accuracy                           0.94       800\n",
      "   macro avg       0.94      0.95      0.94       800\n",
      "weighted avg       0.95      0.94      0.94       800\n",
      "\n"
     ]
    }
   ],
   "source": [
    "print(classification_report(y_pred, y_test))"
   ]
  },
  {
   "cell_type": "code",
   "execution_count": 39,
   "id": "0a1156be",
   "metadata": {
    "execution": {
     "iopub.execute_input": "2024-07-05T09:35:36.827079Z",
     "iopub.status.busy": "2024-07-05T09:35:36.826011Z",
     "iopub.status.idle": "2024-07-05T09:35:37.206349Z",
     "shell.execute_reply": "2024-07-05T09:35:37.205266Z"
    },
    "papermill": {
     "duration": 0.408529,
     "end_time": "2024-07-05T09:35:37.208892",
     "exception": false,
     "start_time": "2024-07-05T09:35:36.800363",
     "status": "completed"
    },
    "tags": []
   },
   "outputs": [
    {
     "name": "stdout",
     "output_type": "stream",
     "text": [
      "Confusion matrix, without normalization\n",
      "[[341  49]\n",
      " [  0 410]]\n"
     ]
    },
    {
     "data": {
      "image/png": "[encoded data removed]",
      "text/plain": [
       "<Figure size 640x480 with 2 Axes>"
      ]
     },
     "metadata": {},
     "output_type": "display_data"
    }
   ],
   "source": [
    "cnf_matrix = confusion_matrix(y_test, y_pred)\n",
    "class_names = ['Approval', 'Not Approval']\n",
    "plot_confusion_matrix(cnf_matrix, classes=class_names, normalize=False, title='Confusion Matrix')\n",
    "plt.show()"
   ]
  },
  {
   "cell_type": "markdown",
   "id": "01825720",
   "metadata": {
    "papermill": {
     "duration": 0.024872,
     "end_time": "2024-07-05T09:35:37.259551",
     "exception": false,
     "start_time": "2024-07-05T09:35:37.234679",
     "status": "completed"
    },
    "tags": []
   },
   "source": [
    "# Using Random Forest"
   ]
  },
  {
   "cell_type": "code",
   "execution_count": 40,
   "id": "36db0d7c",
   "metadata": {
    "execution": {
     "iopub.execute_input": "2024-07-05T09:35:37.311730Z",
     "iopub.status.busy": "2024-07-05T09:35:37.310807Z",
     "iopub.status.idle": "2024-07-05T09:35:38.459364Z",
     "shell.execute_reply": "2024-07-05T09:35:38.458133Z"
    },
    "papermill": {
     "duration": 1.177241,
     "end_time": "2024-07-05T09:35:38.461863",
     "exception": false,
     "start_time": "2024-07-05T09:35:37.284622",
     "status": "completed"
    },
    "tags": []
   },
   "outputs": [
    {
     "data": {
      "text/html": [
       "<style>#sk-container-id-3 {color: black;background-color: white;}#sk-container-id-3 pre{padding: 0;}#sk-container-id-3 div.sk-toggleable {background-color: white;}#sk-container-id-3 label.sk-toggleable__label {cursor: pointer;display: block;width: 100%;margin-bottom: 0;padding: 0.3em;box-sizing: border-box;text-align: center;}#sk-container-id-3 label.sk-toggleable__label-arrow:before {content: \"▸\";float: left;margin-right: 0.25em;color: #696969;}#sk-container-id-3 label.sk-toggleable__label-arrow:hover:before {color: black;}#sk-container-id-3 div.sk-estimator:hover label.sk-toggleable__label-arrow:before {color: black;}#sk-container-id-3 div.sk-toggleable__content {max-height: 0;max-width: 0;overflow: hidden;text-align: left;background-color: #f0f8ff;}#sk-container-id-3 div.sk-toggleable__content pre {margin: 0.2em;color: black;border-radius: 0.25em;background-color: #f0f8ff;}#sk-container-id-3 input.sk-toggleable__control:checked~div.sk-toggleable__content {max-height: 200px;max-width: 100%;overflow: auto;}#sk-container-id-3 input.sk-toggleable__control:checked~label.sk-toggleable__label-arrow:before {content: \"▾\";}#sk-container-id-3 div.sk-estimator input.sk-toggleable__control:checked~label.sk-toggleable__label {background-color: #d4ebff;}#sk-container-id-3 div.sk-label input.sk-toggleable__control:checked~label.sk-toggleable__label {background-color: #d4ebff;}#sk-container-id-3 input.sk-hidden--visually {border: 0;clip: rect(1px 1px 1px 1px);clip: rect(1px, 1px, 1px, 1px);height: 1px;margin: -1px;overflow: hidden;padding: 0;position: absolute;width: 1px;}#sk-container-id-3 div.sk-estimator {font-family: monospace;background-color: #f0f8ff;border: 1px dotted black;border-radius: 0.25em;box-sizing: border-box;margin-bottom: 0.5em;}#sk-container-id-3 div.sk-estimator:hover {background-color: #d4ebff;}#sk-container-id-3 div.sk-parallel-item::after {content: \"\";width: 100%;border-bottom: 1px solid gray;flex-grow: 1;}#sk-container-id-3 div.sk-label:hover label.sk-toggleable__label {background-color: #d4ebff;}#sk-container-id-3 div.sk-serial::before {content: \"\";position: absolute;border-left: 1px solid gray;box-sizing: border-box;top: 0;bottom: 0;left: 50%;z-index: 0;}#sk-container-id-3 div.sk-serial {display: flex;flex-direction: column;align-items: center;background-color: white;padding-right: 0.2em;padding-left: 0.2em;position: relative;}#sk-container-id-3 div.sk-item {position: relative;z-index: 1;}#sk-container-id-3 div.sk-parallel {display: flex;align-items: stretch;justify-content: center;background-color: white;position: relative;}#sk-container-id-3 div.sk-item::before, #sk-container-id-3 div.sk-parallel-item::before {content: \"\";position: absolute;border-left: 1px solid gray;box-sizing: border-box;top: 0;bottom: 0;left: 50%;z-index: -1;}#sk-container-id-3 div.sk-parallel-item {display: flex;flex-direction: column;z-index: 1;position: relative;background-color: white;}#sk-container-id-3 div.sk-parallel-item:first-child::after {align-self: flex-end;width: 50%;}#sk-container-id-3 div.sk-parallel-item:last-child::after {align-self: flex-start;width: 50%;}#sk-container-id-3 div.sk-parallel-item:only-child::after {width: 0;}#sk-container-id-3 div.sk-dashed-wrapped {border: 1px dashed gray;margin: 0 0.4em 0.5em 0.4em;box-sizing: border-box;padding-bottom: 0.4em;background-color: white;}#sk-container-id-3 div.sk-label label {font-family: monospace;font-weight: bold;display: inline-block;line-height: 1.2em;}#sk-container-id-3 div.sk-label-container {text-align: center;}#sk-container-id-3 div.sk-container {/* jupyter's `normalize.less` sets `[hidden] { display: none; }` but bootstrap.min.css set `[hidden] { display: none !important; }` so we also need the `!important` here to be able to override the default hidden behavior on the sphinx rendered scikit-learn.org. See: https://github.com/scikit-learn/scikit-learn/issues/21755 */display: inline-block !important;position: relative;}#sk-container-id-3 div.sk-text-repr-fallback {display: none;}</style><div id=\"sk-container-id-3\" class=\"sk-top-container\"><div class=\"sk-text-repr-fallback\"><pre>RandomForestClassifier(criterion=&#x27;entropy&#x27;, min_samples_split=4)</pre><b>In a Jupyter environment, please rerun this cell to show the HTML representation or trust the notebook. <br />On GitHub, the HTML representation is unable to render, please try loading this page with nbviewer.org.</b></div><div class=\"sk-container\" hidden><div class=\"sk-item\"><div class=\"sk-estimator sk-toggleable\"><input class=\"sk-toggleable__control sk-hidden--visually\" id=\"sk-estimator-id-3\" type=\"checkbox\" checked><label for=\"sk-estimator-id-3\" class=\"sk-toggleable__label sk-toggleable__label-arrow\">RandomForestClassifier</label><div class=\"sk-toggleable__content\"><pre>RandomForestClassifier(criterion=&#x27;entropy&#x27;, min_samples_split=4)</pre></div></div></div></div></div>"
      ],
      "text/plain": [
       "RandomForestClassifier(criterion='entropy', min_samples_split=4)"
      ]
     },
     "execution_count": 40,
     "metadata": {},
     "output_type": "execute_result"
    }
   ],
   "source": [
    "forest = RandomForestClassifier(criterion='entropy',max_depth= None, min_samples_leaf= 1, min_samples_split= 4)\n",
    "forest.fit(X_train, y_train)"
   ]
  },
  {
   "cell_type": "code",
   "execution_count": 41,
   "id": "dd2309c2",
   "metadata": {
    "execution": {
     "iopub.execute_input": "2024-07-05T09:35:38.514842Z",
     "iopub.status.busy": "2024-07-05T09:35:38.514430Z",
     "iopub.status.idle": "2024-07-05T09:35:38.542757Z",
     "shell.execute_reply": "2024-07-05T09:35:38.541754Z"
    },
    "papermill": {
     "duration": 0.058208,
     "end_time": "2024-07-05T09:35:38.545584",
     "exception": false,
     "start_time": "2024-07-05T09:35:38.487376",
     "status": "completed"
    },
    "tags": []
   },
   "outputs": [],
   "source": [
    "y_pred = forest.predict(X_test)"
   ]
  },
  {
   "cell_type": "code",
   "execution_count": 42,
   "id": "33dd5c5c",
   "metadata": {
    "execution": {
     "iopub.execute_input": "2024-07-05T09:35:38.598006Z",
     "iopub.status.busy": "2024-07-05T09:35:38.597580Z",
     "iopub.status.idle": "2024-07-05T09:35:38.609398Z",
     "shell.execute_reply": "2024-07-05T09:35:38.608236Z"
    },
    "papermill": {
     "duration": 0.040909,
     "end_time": "2024-07-05T09:35:38.611855",
     "exception": false,
     "start_time": "2024-07-05T09:35:38.570946",
     "status": "completed"
    },
    "tags": []
   },
   "outputs": [
    {
     "name": "stdout",
     "output_type": "stream",
     "text": [
      "F1_score:0.9800\n",
      "Accuracy: 0.980000\n"
     ]
    }
   ],
   "source": [
    "rand_score=accuracy_score(y_test, y_pred)\n",
    "RAnd_F1_SCORE=f1_score(y_test, y_pred, average='weighted') \n",
    "print('F1_score:%.4f'%RAnd_F1_SCORE)\n",
    "print('Accuracy: %f' % accuracy_score(y_test, y_pred))"
   ]
  },
  {
   "cell_type": "code",
   "execution_count": 43,
   "id": "a4ae9823",
   "metadata": {
    "execution": {
     "iopub.execute_input": "2024-07-05T09:35:38.664938Z",
     "iopub.status.busy": "2024-07-05T09:35:38.664534Z",
     "iopub.status.idle": "2024-07-05T09:35:38.679783Z",
     "shell.execute_reply": "2024-07-05T09:35:38.678622Z"
    },
    "papermill": {
     "duration": 0.044489,
     "end_time": "2024-07-05T09:35:38.682220",
     "exception": false,
     "start_time": "2024-07-05T09:35:38.637731",
     "status": "completed"
    },
    "tags": []
   },
   "outputs": [
    {
     "name": "stdout",
     "output_type": "stream",
     "text": [
      "              precision    recall  f1-score   support\n",
      "\n",
      "           0       0.96      1.00      0.98       374\n",
      "           1       1.00      0.96      0.98       426\n",
      "\n",
      "    accuracy                           0.98       800\n",
      "   macro avg       0.98      0.98      0.98       800\n",
      "weighted avg       0.98      0.98      0.98       800\n",
      "\n"
     ]
    }
   ],
   "source": [
    "print(classification_report(y_pred, y_test))"
   ]
  },
  {
   "cell_type": "code",
   "execution_count": 44,
   "id": "c2c33214",
   "metadata": {
    "execution": {
     "iopub.execute_input": "2024-07-05T09:35:38.735724Z",
     "iopub.status.busy": "2024-07-05T09:35:38.735295Z",
     "iopub.status.idle": "2024-07-05T09:35:39.007321Z",
     "shell.execute_reply": "2024-07-05T09:35:39.006143Z"
    },
    "papermill": {
     "duration": 0.301563,
     "end_time": "2024-07-05T09:35:39.009744",
     "exception": false,
     "start_time": "2024-07-05T09:35:38.708181",
     "status": "completed"
    },
    "tags": []
   },
   "outputs": [
    {
     "name": "stdout",
     "output_type": "stream",
     "text": [
      "Confusion matrix, without normalization\n",
      "[[374  16]\n",
      " [  0 410]]\n"
     ]
    },
    {
     "data": {
      "image/png": "[encoded data removed]",
      "text/plain": [
       "<Figure size 640x480 with 2 Axes>"
      ]
     },
     "metadata": {},
     "output_type": "display_data"
    }
   ],
   "source": [
    "cnf_matrix = confusion_matrix(y_test, y_pred)\n",
    "class_names = ['Approval', 'Not Approval']\n",
    "plot_confusion_matrix(cnf_matrix, classes=class_names, normalize=False, title='Confusion Matrix')\n",
    "plt.show()"
   ]
  },
  {
   "cell_type": "code",
   "execution_count": 45,
   "id": "72716f82",
   "metadata": {
    "execution": {
     "iopub.execute_input": "2024-07-05T09:35:39.065452Z",
     "iopub.status.busy": "2024-07-05T09:35:39.064405Z",
     "iopub.status.idle": "2024-07-05T09:35:39.079372Z",
     "shell.execute_reply": "2024-07-05T09:35:39.078272Z"
    },
    "papermill": {
     "duration": 0.045564,
     "end_time": "2024-07-05T09:35:39.082210",
     "exception": false,
     "start_time": "2024-07-05T09:35:39.036646",
     "status": "completed"
    },
    "tags": []
   },
   "outputs": [
    {
     "data": {
      "text/html": [
       "<div>\n",
       "<style scoped>\n",
       "    .dataframe tbody tr th:only-of-type {\n",
       "        vertical-align: middle;\n",
       "    }\n",
       "\n",
       "    .dataframe tbody tr th {\n",
       "        vertical-align: top;\n",
       "    }\n",
       "\n",
       "    .dataframe thead th {\n",
       "        text-align: right;\n",
       "    }\n",
       "</style>\n",
       "<table border=\"1\" class=\"dataframe\">\n",
       "  <thead>\n",
       "    <tr style=\"text-align: right;\">\n",
       "      <th></th>\n",
       "      <th>Algorithm</th>\n",
       "      <th>Accuracy</th>\n",
       "      <th>F1_SCORE</th>\n",
       "    </tr>\n",
       "  </thead>\n",
       "  <tbody>\n",
       "    <tr>\n",
       "      <th>0</th>\n",
       "      <td>logistic regression</td>\n",
       "      <td>68.625</td>\n",
       "      <td>68.501675</td>\n",
       "    </tr>\n",
       "    <tr>\n",
       "      <th>1</th>\n",
       "      <td>SVM</td>\n",
       "      <td>93.875</td>\n",
       "      <td>93.842400</td>\n",
       "    </tr>\n",
       "    <tr>\n",
       "      <th>2</th>\n",
       "      <td>KNN</td>\n",
       "      <td>89.500</td>\n",
       "      <td>89.480313</td>\n",
       "    </tr>\n",
       "    <tr>\n",
       "      <th>3</th>\n",
       "      <td>Random forest</td>\n",
       "      <td>98.000</td>\n",
       "      <td>97.998196</td>\n",
       "    </tr>\n",
       "  </tbody>\n",
       "</table>\n",
       "</div>"
      ],
      "text/plain": [
       "             Algorithm  Accuracy   F1_SCORE\n",
       "0  logistic regression    68.625  68.501675\n",
       "1                  SVM    93.875  93.842400\n",
       "2                  KNN    89.500  89.480313\n",
       "3        Random forest    98.000  97.998196"
      ]
     },
     "execution_count": 45,
     "metadata": {},
     "output_type": "execute_result"
    }
   ],
   "source": [
    "Accuracy=[LR_score*100,knn_score*100,SVM_score*100,round(rand_score*100)]\n",
    "Algorithm=['logistic regression','SVM','KNN','Random forest']\n",
    "f1_score=[LR_F1_SCORE*100,kNN_F1_SCORE*100,SVM_F1_SCORE*100,RAnd_F1_SCORE*100]\n",
    "data={'Algorithm':Algorithm,'Accuracy':Accuracy,'F1_SCORE':f1_score}\n",
    "Report=pd.DataFrame(data=data)\n",
    "Report"
   ]
  },
  {
   "cell_type": "markdown",
   "id": "87c307cf",
   "metadata": {
    "papermill": {
     "duration": 0.026278,
     "end_time": "2024-07-05T09:35:39.135334",
     "exception": false,
     "start_time": "2024-07-05T09:35:39.109056",
     "status": "completed"
    },
    "tags": []
   },
   "source": [
    "# RNN Approch"
   ]
  },
  {
   "cell_type": "markdown",
   "id": "6ce5bc27",
   "metadata": {
    "papermill": {
     "duration": 0.02733,
     "end_time": "2024-07-05T09:35:39.189587",
     "exception": false,
     "start_time": "2024-07-05T09:35:39.162257",
     "status": "completed"
    },
    "tags": []
   },
   "source": [
    "<h3>LSTM:</h3>\n",
    "LSTM (Long Short-Term Memory) is a type of Recurrent Neural Network (RNN). Both LSTM and traditional RNNs are neural network architectures designed for processing sequences of data. They are particularly well-suited for tasks involving sequential or time-dependent patterns, such as time series analysis, natural language processing, and speech recognition."
   ]
  },
  {
   "cell_type": "code",
   "execution_count": 46,
   "id": "2aac0f1b",
   "metadata": {
    "execution": {
     "iopub.execute_input": "2024-07-05T09:35:39.246638Z",
     "iopub.status.busy": "2024-07-05T09:35:39.246250Z",
     "iopub.status.idle": "2024-07-05T09:36:30.240165Z",
     "shell.execute_reply": "2024-07-05T09:36:30.238890Z"
    },
    "papermill": {
     "duration": 51.02439,
     "end_time": "2024-07-05T09:36:30.242507",
     "exception": false,
     "start_time": "2024-07-05T09:35:39.218117",
     "status": "completed"
    },
    "tags": []
   },
   "outputs": [
    {
     "name": "stderr",
     "output_type": "stream",
     "text": [
      "2024-07-05 09:35:41.374030: E external/local_xla/xla/stream_executor/cuda/cuda_dnn.cc:9261] Unable to register cuDNN factory: Attempting to register factory for plugin cuDNN when one has already been registered\n",
      "2024-07-05 09:35:41.374162: E external/local_xla/xla/stream_executor/cuda/cuda_fft.cc:607] Unable to register cuFFT factory: Attempting to register factory for plugin cuFFT when one has already been registered\n",
      "2024-07-05 09:35:41.523879: E external/local_xla/xla/stream_executor/cuda/cuda_blas.cc:1515] Unable to register cuBLAS factory: Attempting to register factory for plugin cuBLAS when one has already been registered\n"
     ]
    },
    {
     "name": "stdout",
     "output_type": "stream",
     "text": [
      "Epoch 1/50\n",
      "225/225 [==============================] - 3s 6ms/step - loss: 0.6557 - accuracy: 0.6364 - val_loss: 0.6124 - val_accuracy: 0.6825\n",
      "Epoch 2/50\n",
      "225/225 [==============================] - 1s 3ms/step - loss: 0.5687 - accuracy: 0.7097 - val_loss: 0.5389 - val_accuracy: 0.7400\n",
      "Epoch 3/50\n",
      "225/225 [==============================] - 1s 3ms/step - loss: 0.5074 - accuracy: 0.7667 - val_loss: 0.5023 - val_accuracy: 0.7688\n",
      "Epoch 4/50\n",
      "225/225 [==============================] - 1s 3ms/step - loss: 0.4812 - accuracy: 0.7893 - val_loss: 0.4920 - val_accuracy: 0.7663\n",
      "Epoch 5/50\n",
      "225/225 [==============================] - 1s 3ms/step - loss: 0.4729 - accuracy: 0.7906 - val_loss: 0.4941 - val_accuracy: 0.7837\n",
      "Epoch 6/50\n",
      "225/225 [==============================] - 1s 3ms/step - loss: 0.4701 - accuracy: 0.7967 - val_loss: 0.4908 - val_accuracy: 0.7937\n",
      "Epoch 7/50\n",
      "225/225 [==============================] - 1s 3ms/step - loss: 0.4677 - accuracy: 0.7971 - val_loss: 0.4875 - val_accuracy: 0.7763\n",
      "Epoch 8/50\n",
      "225/225 [==============================] - 1s 3ms/step - loss: 0.4666 - accuracy: 0.7972 - val_loss: 0.4876 - val_accuracy: 0.7925\n",
      "Epoch 9/50\n",
      "225/225 [==============================] - 1s 3ms/step - loss: 0.4655 - accuracy: 0.7979 - val_loss: 0.4827 - val_accuracy: 0.7937\n",
      "Epoch 10/50\n",
      "225/225 [==============================] - 1s 3ms/step - loss: 0.4630 - accuracy: 0.7975 - val_loss: 0.4828 - val_accuracy: 0.7900\n",
      "Epoch 11/50\n",
      "225/225 [==============================] - 1s 3ms/step - loss: 0.4617 - accuracy: 0.7979 - val_loss: 0.4784 - val_accuracy: 0.7950\n",
      "Epoch 12/50\n",
      "225/225 [==============================] - 1s 3ms/step - loss: 0.4593 - accuracy: 0.7993 - val_loss: 0.4753 - val_accuracy: 0.8000\n",
      "Epoch 13/50\n",
      "225/225 [==============================] - 1s 3ms/step - loss: 0.4578 - accuracy: 0.7990 - val_loss: 0.4755 - val_accuracy: 0.7900\n",
      "Epoch 14/50\n",
      "225/225 [==============================] - 1s 3ms/step - loss: 0.4555 - accuracy: 0.7983 - val_loss: 0.4746 - val_accuracy: 0.7987\n",
      "Epoch 15/50\n",
      "225/225 [==============================] - 1s 3ms/step - loss: 0.4543 - accuracy: 0.8012 - val_loss: 0.4849 - val_accuracy: 0.7738\n",
      "Epoch 16/50\n",
      "225/225 [==============================] - 1s 3ms/step - loss: 0.4532 - accuracy: 0.8000 - val_loss: 0.4711 - val_accuracy: 0.7912\n",
      "Epoch 17/50\n",
      "225/225 [==============================] - 1s 3ms/step - loss: 0.4520 - accuracy: 0.8036 - val_loss: 0.4704 - val_accuracy: 0.7937\n",
      "Epoch 18/50\n",
      "225/225 [==============================] - 1s 3ms/step - loss: 0.4496 - accuracy: 0.8019 - val_loss: 0.4668 - val_accuracy: 0.7975\n",
      "Epoch 19/50\n",
      "225/225 [==============================] - 1s 3ms/step - loss: 0.4485 - accuracy: 0.8032 - val_loss: 0.4641 - val_accuracy: 0.7975\n",
      "Epoch 20/50\n",
      "225/225 [==============================] - 1s 3ms/step - loss: 0.4471 - accuracy: 0.8021 - val_loss: 0.4623 - val_accuracy: 0.8037\n",
      "Epoch 21/50\n",
      "225/225 [==============================] - 1s 3ms/step - loss: 0.4465 - accuracy: 0.8035 - val_loss: 0.4626 - val_accuracy: 0.7937\n",
      "Epoch 22/50\n",
      "225/225 [==============================] - 1s 3ms/step - loss: 0.4437 - accuracy: 0.8032 - val_loss: 0.4606 - val_accuracy: 0.7975\n",
      "Epoch 23/50\n",
      "225/225 [==============================] - 1s 3ms/step - loss: 0.4431 - accuracy: 0.8006 - val_loss: 0.4616 - val_accuracy: 0.7937\n",
      "Epoch 24/50\n",
      "225/225 [==============================] - 1s 3ms/step - loss: 0.4414 - accuracy: 0.8064 - val_loss: 0.4562 - val_accuracy: 0.8087\n",
      "Epoch 25/50\n",
      "225/225 [==============================] - 1s 3ms/step - loss: 0.4399 - accuracy: 0.8068 - val_loss: 0.4554 - val_accuracy: 0.8075\n",
      "Epoch 26/50\n",
      "225/225 [==============================] - 1s 3ms/step - loss: 0.4384 - accuracy: 0.8040 - val_loss: 0.4526 - val_accuracy: 0.8087\n",
      "Epoch 27/50\n",
      "225/225 [==============================] - 1s 3ms/step - loss: 0.4377 - accuracy: 0.8076 - val_loss: 0.4526 - val_accuracy: 0.7950\n",
      "Epoch 28/50\n",
      "225/225 [==============================] - 1s 3ms/step - loss: 0.4367 - accuracy: 0.8040 - val_loss: 0.4500 - val_accuracy: 0.8112\n",
      "Epoch 29/50\n",
      "225/225 [==============================] - 1s 3ms/step - loss: 0.4354 - accuracy: 0.8042 - val_loss: 0.4627 - val_accuracy: 0.7862\n",
      "Epoch 30/50\n",
      "225/225 [==============================] - 1s 3ms/step - loss: 0.4341 - accuracy: 0.8081 - val_loss: 0.4504 - val_accuracy: 0.7962\n",
      "Epoch 31/50\n",
      "225/225 [==============================] - 1s 3ms/step - loss: 0.4323 - accuracy: 0.8025 - val_loss: 0.4473 - val_accuracy: 0.7950\n",
      "Epoch 32/50\n",
      "225/225 [==============================] - 1s 3ms/step - loss: 0.4317 - accuracy: 0.8079 - val_loss: 0.4464 - val_accuracy: 0.8037\n",
      "Epoch 33/50\n",
      "225/225 [==============================] - 1s 3ms/step - loss: 0.4293 - accuracy: 0.8089 - val_loss: 0.4444 - val_accuracy: 0.8037\n",
      "Epoch 34/50\n",
      "225/225 [==============================] - 1s 3ms/step - loss: 0.4286 - accuracy: 0.8075 - val_loss: 0.4442 - val_accuracy: 0.8075\n",
      "Epoch 35/50\n",
      "225/225 [==============================] - 1s 3ms/step - loss: 0.4271 - accuracy: 0.8093 - val_loss: 0.4435 - val_accuracy: 0.8062\n",
      "Epoch 36/50\n",
      "225/225 [==============================] - 1s 3ms/step - loss: 0.4255 - accuracy: 0.8092 - val_loss: 0.4403 - val_accuracy: 0.8100\n",
      "Epoch 37/50\n",
      "225/225 [==============================] - 1s 3ms/step - loss: 0.4251 - accuracy: 0.8053 - val_loss: 0.4435 - val_accuracy: 0.8062\n",
      "Epoch 38/50\n",
      "225/225 [==============================] - 1s 3ms/step - loss: 0.4244 - accuracy: 0.8079 - val_loss: 0.4398 - val_accuracy: 0.8087\n",
      "Epoch 39/50\n",
      "225/225 [==============================] - 1s 3ms/step - loss: 0.4225 - accuracy: 0.8099 - val_loss: 0.4404 - val_accuracy: 0.8025\n",
      "Epoch 40/50\n",
      "225/225 [==============================] - 1s 3ms/step - loss: 0.4217 - accuracy: 0.8079 - val_loss: 0.4393 - val_accuracy: 0.7975\n",
      "Epoch 41/50\n",
      "225/225 [==============================] - 1s 3ms/step - loss: 0.4203 - accuracy: 0.8100 - val_loss: 0.4395 - val_accuracy: 0.7987\n",
      "Epoch 42/50\n",
      "225/225 [==============================] - 1s 3ms/step - loss: 0.4198 - accuracy: 0.8124 - val_loss: 0.4361 - val_accuracy: 0.8062\n",
      "Epoch 43/50\n",
      "225/225 [==============================] - 1s 3ms/step - loss: 0.4190 - accuracy: 0.8071 - val_loss: 0.4346 - val_accuracy: 0.8025\n",
      "Epoch 44/50\n",
      "225/225 [==============================] - 1s 3ms/step - loss: 0.4176 - accuracy: 0.8099 - val_loss: 0.4347 - val_accuracy: 0.8100\n",
      "Epoch 45/50\n",
      "225/225 [==============================] - 1s 3ms/step - loss: 0.4153 - accuracy: 0.8114 - val_loss: 0.4339 - val_accuracy: 0.7987\n",
      "Epoch 46/50\n",
      "225/225 [==============================] - 1s 3ms/step - loss: 0.4158 - accuracy: 0.8103 - val_loss: 0.4357 - val_accuracy: 0.8075\n",
      "Epoch 47/50\n",
      "225/225 [==============================] - 1s 3ms/step - loss: 0.4146 - accuracy: 0.8111 - val_loss: 0.4285 - val_accuracy: 0.8000\n",
      "Epoch 48/50\n",
      "225/225 [==============================] - 1s 3ms/step - loss: 0.4133 - accuracy: 0.8132 - val_loss: 0.4329 - val_accuracy: 0.7975\n",
      "Epoch 49/50\n",
      "225/225 [==============================] - 1s 3ms/step - loss: 0.4127 - accuracy: 0.8107 - val_loss: 0.4296 - val_accuracy: 0.8087\n",
      "Epoch 50/50\n",
      "225/225 [==============================] - 1s 3ms/step - loss: 0.4114 - accuracy: 0.8132 - val_loss: 0.4265 - val_accuracy: 0.8087\n",
      "25/25 [==============================] - 0s 2ms/step - loss: 0.4265 - accuracy: 0.8087\n",
      "Model Accuracy: 80.87%\n"
     ]
    }
   ],
   "source": [
    "import tensorflow as tf\n",
    "from tensorflow.keras.models import Sequential\n",
    "from tensorflow.keras.layers import LSTM, Dense\n",
    "# Reshape data for LSTM (assuming you have a time series dataset)\n",
    "X_train_lstm = X_train.reshape((X_train.shape[0], 1, X_train.shape[1]))\n",
    "X_test_lstm = X_test.reshape((X_test.shape[0], 1, X_test.shape[1]))\n",
    "\n",
    "# Build LSTM model\n",
    "model = Sequential()\n",
    "model.add(LSTM(50, input_shape=(X_train_lstm.shape[1], X_train_lstm.shape[2])))\n",
    "model.add(Dense(1, activation='sigmoid'))  # Assuming binary classification\n",
    "\n",
    "# Compile the model with a specified learning rate\n",
    "optimizer = tf.keras.optimizers.Adam(learning_rate=0.001)  # Adjust the learning rate as needed\n",
    "model.compile(optimizer=optimizer, loss='binary_crossentropy', metrics=['accuracy'])\n",
    "\n",
    "# Train the model\n",
    "model.fit(X_train_lstm, y_train, epochs=50, batch_size=32, validation_data=(X_test_lstm, y_test))\n",
    "\n",
    "# Evaluate the model\n",
    "_, accuracy = model.evaluate(X_test_lstm, y_test)\n",
    "print(f'Model Accuracy: {accuracy * 100:.2f}%')"
   ]
  },
  {
   "cell_type": "code",
   "execution_count": null,
   "id": "a9f6e528",
   "metadata": {
    "papermill": {
     "duration": 0.093851,
     "end_time": "2024-07-05T09:36:30.428341",
     "exception": false,
     "start_time": "2024-07-05T09:36:30.334490",
     "status": "completed"
    },
    "tags": []
   },
   "outputs": [],
   "source": []
  },
  {
   "cell_type": "markdown",
   "id": "5e9a97a4",
   "metadata": {
    "papermill": {
     "duration": 0.091354,
     "end_time": "2024-07-05T09:36:30.612765",
     "exception": false,
     "start_time": "2024-07-05T09:36:30.521411",
     "status": "completed"
    },
    "tags": []
   },
   "source": []
  }
 ],
 "metadata": {
  "kaggle": {
   "accelerator": "none",
   "dataSources": [
    {
     "datasetId": 3574954,
     "sourceId": 8728736,
     "sourceType": "datasetVersion"
    }
   ],
   "dockerImageVersionId": 30646,
   "isGpuEnabled": false,
   "isInternetEnabled": false,
   "language": "python",
   "sourceType": "notebook"
  },
  "kernelspec": {
   "display_name": "Python 3",
   "language": "python",
   "name": "python3"
  },
  "language_info": {
   "codemirror_mode": {
    "name": "ipython",
    "version": 3
   },
   "file_extension": ".py",
   "mimetype": "text/x-python",
   "name": "python",
   "nbconvert_exporter": "python",
   "pygments_lexer": "ipython3",
   "version": "3.10.13"
  },
  "papermill": {
   "default_parameters": {},
   "duration": 69.20452,
   "end_time": "2024-07-05T09:36:33.210281",
   "environment_variables": {},
   "exception": null,
   "input_path": "__notebook__.ipynb",
   "output_path": "__notebook__.ipynb",
   "parameters": {},
   "start_time": "2024-07-05T09:35:24.005761",
   "version": "2.5.0"
  }
 },
 "nbformat": 4,
 "nbformat_minor": 5
}
